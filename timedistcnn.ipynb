{
 "cells": [
  {
   "cell_type": "code",
   "execution_count": 1,
   "metadata": {},
   "outputs": [],
   "source": [
    "import torch\n",
    "from torch.utils.data.dataset import Dataset\n",
    "import torch.nn.functional as F\n",
    "import torch.nn as nn\n",
    "import torch.utils\n",
    "import torch.distributions\n",
    "\n",
    "from torchvision import transforms, utils\n",
    "from torch.utils.data.sampler import SubsetRandomSampler\n",
    "import numpy as np\n",
    "import pandas as pd\n",
    "from dataloader import *\n",
    "from model import *"
   ]
  },
  {
   "cell_type": "code",
   "execution_count": 9,
   "metadata": {},
   "outputs": [],
   "source": [
    "#only on validation set\n",
    "csv_path = 'progress.csv'\n",
    "img_path = '/home/vip/sayan-mandal/datasets/obj_criteria/good_reduced/'\n",
    "\n",
    "CDL = CLUnivDataLoader(csv_path, img_path, transform = transforms.Compose([transforms.Resize(64),transforms.ToTensor(),transforms.Normalize((0.5, 0.5, 0.5), (0.5, 0.5, 0.5))]),timestep=5,n=5)\n",
    "\n",
    "#random sampler\n",
    "batch_size = 64\n",
    "validation_split = .2\n",
    "test_split = .2\n",
    "train_split = 1-validation_split-test_split\n",
    "shuffle_dataset = True\n",
    "\n",
    "# Creating data indices for training and validation splits:\n",
    "dataset_size = len(CDL)\n",
    "indices = list(range(dataset_size))\n",
    "split_train = int(np.floor(train_split * dataset_size))\n",
    "split_valid = int(np.floor((train_split+validation_split) * dataset_size))\n",
    "if shuffle_dataset :\n",
    "    np.random.shuffle(indices)\n",
    "train_indices, val_indices, test_indices =  indices[:split_train],indices[split_train:split_valid],indices[split_valid:]\n",
    "\n",
    "# Creating PT data samplers and loaders:\n",
    "train_sampler = SubsetRandomSampler(train_indices)\n",
    "valid_sampler = SubsetRandomSampler(val_indices)\n",
    "test_sampler = SubsetRandomSampler(test_indices)\n",
    "\n",
    "train_loader = torch.utils.data.DataLoader(CDL, batch_size=batch_size, sampler=train_sampler)\n",
    "valid_loader = torch.utils.data.DataLoader(CDL, batch_size=batch_size, sampler=valid_sampler)\n",
    "test_loader = torch.utils.data.DataLoader(CDL, batch_size=batch_size, sampler=test_sampler)"
   ]
  },
  {
   "cell_type": "code",
   "execution_count": 10,
   "metadata": {},
   "outputs": [
    {
     "name": "stdout",
     "output_type": "stream",
     "text": [
      "['AL0320_2005_02_16_OS.JPG', 'AL0320_2006_01_13_OS.JPG', 'AL0320_2007_03_26_OS.JPG', 'AL0320_2011_04_26_OS_02.JPG', 'AL0320_2012_07_25_OS_02.JPG']\n",
      "['AL0320_2006_01_13_OS.JPG', 'AL0320_2007_03_26_OS.JPG', 'AL0320_2011_04_26_OS_02.JPG', 'AL0320_2012_07_25_OS_02.JPG', 'AL0320_2014_02_18_OS_02.JPG']\n",
      "['AL0320_2007_03_26_OS.JPG', 'AL0320_2011_04_26_OS_02.JPG', 'AL0320_2012_07_25_OS_02.JPG', 'AL0320_2014_02_18_OS_02.JPG', 'AL0320_2015_03_19_OS_02.JPG']\n",
      "['AL0320_2005_02_16_OD.JPG', 'AL0320_2006_01_13_OD.JPG', 'AL0320_2007_03_26_OD.JPG', 'AL0320_2011_04_26_OD_01.JPG', 'AL0320_2012_07_25_OD_02.JPG']\n",
      "['AL0320_2006_01_13_OD.JPG', 'AL0320_2007_03_26_OD.JPG', 'AL0320_2011_04_26_OD_01.JPG', 'AL0320_2012_07_25_OD_02.JPG', 'AL0320_2014_02_18_OD_02.JPG']\n",
      "['AL0320_2007_03_26_OD.JPG', 'AL0320_2011_04_26_OD_01.JPG', 'AL0320_2012_07_25_OD_02.JPG', 'AL0320_2014_02_18_OD_02.JPG', 'AL0320_2015_03_19_OD_01.JPG']\n",
      "['AL0348_2004_05_05_OS.JPG', 'AL0348_2005_04_26_OS.JPG', 'AL0348_2007_04_30_OS.JPG', 'AL0348_2011_05_10_OS_01.JPG', 'AL0348_2012_04_17_OS_02.JPG']\n",
      "['AL0357_2005_05_23_OS.JPG', 'AL0357_2006_05_18_OS.JPG', 'AL0357_2007_04_30_OS.JPG', 'AL0357_2011_04_19_OS_02.JPG', 'AL0357_2012_04_26_OS_01.JPG']\n",
      "['AL0357_2006_05_18_OS.JPG', 'AL0357_2007_04_30_OS.JPG', 'AL0357_2011_04_19_OS_02.JPG', 'AL0357_2012_04_26_OS_01.JPG', 'AL0357_2013_06_04_OS_01.JPG']\n",
      "['AL0357_2004_06_09_OD.JPG', 'AL0357_2005_05_23_OD.JPG', 'AL0357_2006_05_18_OD.JPG', 'AL0357_2007_04_30_OD.JPG', 'AL0357_2011_04_19_OD_01.JPG']\n"
     ]
    }
   ],
   "source": [
    "for i in range(10):\n",
    "    print(CDL[i][0])"
   ]
  },
  {
   "cell_type": "code",
   "execution_count": 8,
   "metadata": {},
   "outputs": [],
   "source": [
    "im=torch.zeros(3,128,128)"
   ]
  },
  {
   "cell_type": "code",
   "execution_count": 2,
   "metadata": {},
   "outputs": [],
   "source": [
    "s = 64\n",
    "c = 3\n",
    "im1 = torch.rand(c,s,s)\n",
    "im2 = torch.rand(c,s,s)\n",
    "im3 = torch.rand(c,s,s)\n",
    "im4 = torch.rand(c,s,s)\n",
    "im5 = torch.rand(c,s,s)"
   ]
  },
  {
   "cell_type": "code",
   "execution_count": 5,
   "metadata": {},
   "outputs": [
    {
     "data": {
      "text/plain": [
       "torch.Size([1, 5, 3, 64, 64])"
      ]
     },
     "execution_count": 5,
     "metadata": {},
     "output_type": "execute_result"
    }
   ],
   "source": [
    "im_w = torch.stack([im1,im2,im3,im4,im5],0)\n",
    "im_w = torch.unsqueeze(im_w,0)\n",
    "im_w.shape"
   ]
  },
  {
   "cell_type": "code",
   "execution_count": 6,
   "metadata": {},
   "outputs": [
    {
     "name": "stdout",
     "output_type": "stream",
     "text": [
      "CNNLSTMNet(\n",
      "  (ts_cnn): TimeDistributed(\n",
      "    (layers): ModuleList(\n",
      "      (0): CNNEncoder(\n",
      "        (cnnmodule): Sequential(\n",
      "          (0): ConvBlock(\n",
      "            (seq): Sequential(\n",
      "              (0): Conv2d(3, 16, kernel_size=(3, 3), stride=(2, 2), padding=(1, 1))\n",
      "              (1): BatchNorm2d(16, eps=1e-05, momentum=0.1, affine=True, track_running_stats=True)\n",
      "              (2): ReLU()\n",
      "            )\n",
      "          )\n",
      "          (1): ConvBlock(\n",
      "            (seq): Sequential(\n",
      "              (0): Conv2d(16, 32, kernel_size=(3, 3), stride=(2, 2), padding=(1, 1))\n",
      "              (1): BatchNorm2d(32, eps=1e-05, momentum=0.1, affine=True, track_running_stats=True)\n",
      "              (2): ReLU()\n",
      "            )\n",
      "          )\n",
      "          (2): ConvBlock(\n",
      "            (seq): Sequential(\n",
      "              (0): Conv2d(32, 64, kernel_size=(3, 3), stride=(2, 2), padding=(1, 1))\n",
      "              (1): BatchNorm2d(64, eps=1e-05, momentum=0.1, affine=True, track_running_stats=True)\n",
      "              (2): ReLU()\n",
      "            )\n",
      "          )\n",
      "        )\n",
      "        (linear): Sequential(\n",
      "          (0): Dropout(p=0.3, inplace=False)\n",
      "          (1): Linear(in_features=4096, out_features=512, bias=True)\n",
      "          (2): ReLU()\n",
      "        )\n",
      "      )\n",
      "      (1): CNNEncoder(\n",
      "        (cnnmodule): Sequential(\n",
      "          (0): ConvBlock(\n",
      "            (seq): Sequential(\n",
      "              (0): Conv2d(3, 16, kernel_size=(3, 3), stride=(2, 2), padding=(1, 1))\n",
      "              (1): BatchNorm2d(16, eps=1e-05, momentum=0.1, affine=True, track_running_stats=True)\n",
      "              (2): ReLU()\n",
      "            )\n",
      "          )\n",
      "          (1): ConvBlock(\n",
      "            (seq): Sequential(\n",
      "              (0): Conv2d(16, 32, kernel_size=(3, 3), stride=(2, 2), padding=(1, 1))\n",
      "              (1): BatchNorm2d(32, eps=1e-05, momentum=0.1, affine=True, track_running_stats=True)\n",
      "              (2): ReLU()\n",
      "            )\n",
      "          )\n",
      "          (2): ConvBlock(\n",
      "            (seq): Sequential(\n",
      "              (0): Conv2d(32, 64, kernel_size=(3, 3), stride=(2, 2), padding=(1, 1))\n",
      "              (1): BatchNorm2d(64, eps=1e-05, momentum=0.1, affine=True, track_running_stats=True)\n",
      "              (2): ReLU()\n",
      "            )\n",
      "          )\n",
      "        )\n",
      "        (linear): Sequential(\n",
      "          (0): Dropout(p=0.3, inplace=False)\n",
      "          (1): Linear(in_features=4096, out_features=512, bias=True)\n",
      "          (2): ReLU()\n",
      "        )\n",
      "      )\n",
      "      (2): CNNEncoder(\n",
      "        (cnnmodule): Sequential(\n",
      "          (0): ConvBlock(\n",
      "            (seq): Sequential(\n",
      "              (0): Conv2d(3, 16, kernel_size=(3, 3), stride=(2, 2), padding=(1, 1))\n",
      "              (1): BatchNorm2d(16, eps=1e-05, momentum=0.1, affine=True, track_running_stats=True)\n",
      "              (2): ReLU()\n",
      "            )\n",
      "          )\n",
      "          (1): ConvBlock(\n",
      "            (seq): Sequential(\n",
      "              (0): Conv2d(16, 32, kernel_size=(3, 3), stride=(2, 2), padding=(1, 1))\n",
      "              (1): BatchNorm2d(32, eps=1e-05, momentum=0.1, affine=True, track_running_stats=True)\n",
      "              (2): ReLU()\n",
      "            )\n",
      "          )\n",
      "          (2): ConvBlock(\n",
      "            (seq): Sequential(\n",
      "              (0): Conv2d(32, 64, kernel_size=(3, 3), stride=(2, 2), padding=(1, 1))\n",
      "              (1): BatchNorm2d(64, eps=1e-05, momentum=0.1, affine=True, track_running_stats=True)\n",
      "              (2): ReLU()\n",
      "            )\n",
      "          )\n",
      "        )\n",
      "        (linear): Sequential(\n",
      "          (0): Dropout(p=0.3, inplace=False)\n",
      "          (1): Linear(in_features=4096, out_features=512, bias=True)\n",
      "          (2): ReLU()\n",
      "        )\n",
      "      )\n",
      "      (3): CNNEncoder(\n",
      "        (cnnmodule): Sequential(\n",
      "          (0): ConvBlock(\n",
      "            (seq): Sequential(\n",
      "              (0): Conv2d(3, 16, kernel_size=(3, 3), stride=(2, 2), padding=(1, 1))\n",
      "              (1): BatchNorm2d(16, eps=1e-05, momentum=0.1, affine=True, track_running_stats=True)\n",
      "              (2): ReLU()\n",
      "            )\n",
      "          )\n",
      "          (1): ConvBlock(\n",
      "            (seq): Sequential(\n",
      "              (0): Conv2d(16, 32, kernel_size=(3, 3), stride=(2, 2), padding=(1, 1))\n",
      "              (1): BatchNorm2d(32, eps=1e-05, momentum=0.1, affine=True, track_running_stats=True)\n",
      "              (2): ReLU()\n",
      "            )\n",
      "          )\n",
      "          (2): ConvBlock(\n",
      "            (seq): Sequential(\n",
      "              (0): Conv2d(32, 64, kernel_size=(3, 3), stride=(2, 2), padding=(1, 1))\n",
      "              (1): BatchNorm2d(64, eps=1e-05, momentum=0.1, affine=True, track_running_stats=True)\n",
      "              (2): ReLU()\n",
      "            )\n",
      "          )\n",
      "        )\n",
      "        (linear): Sequential(\n",
      "          (0): Dropout(p=0.3, inplace=False)\n",
      "          (1): Linear(in_features=4096, out_features=512, bias=True)\n",
      "          (2): ReLU()\n",
      "        )\n",
      "      )\n",
      "      (4): CNNEncoder(\n",
      "        (cnnmodule): Sequential(\n",
      "          (0): ConvBlock(\n",
      "            (seq): Sequential(\n",
      "              (0): Conv2d(3, 16, kernel_size=(3, 3), stride=(2, 2), padding=(1, 1))\n",
      "              (1): BatchNorm2d(16, eps=1e-05, momentum=0.1, affine=True, track_running_stats=True)\n",
      "              (2): ReLU()\n",
      "            )\n",
      "          )\n",
      "          (1): ConvBlock(\n",
      "            (seq): Sequential(\n",
      "              (0): Conv2d(16, 32, kernel_size=(3, 3), stride=(2, 2), padding=(1, 1))\n",
      "              (1): BatchNorm2d(32, eps=1e-05, momentum=0.1, affine=True, track_running_stats=True)\n",
      "              (2): ReLU()\n",
      "            )\n",
      "          )\n",
      "          (2): ConvBlock(\n",
      "            (seq): Sequential(\n",
      "              (0): Conv2d(32, 64, kernel_size=(3, 3), stride=(2, 2), padding=(1, 1))\n",
      "              (1): BatchNorm2d(64, eps=1e-05, momentum=0.1, affine=True, track_running_stats=True)\n",
      "              (2): ReLU()\n",
      "            )\n",
      "          )\n",
      "        )\n",
      "        (linear): Sequential(\n",
      "          (0): Dropout(p=0.3, inplace=False)\n",
      "          (1): Linear(in_features=4096, out_features=512, bias=True)\n",
      "          (2): ReLU()\n",
      "        )\n",
      "      )\n",
      "    )\n",
      "  )\n",
      "  (lstm_decoder): LSTMModule(\n",
      "    (l_lstm): LSTM(512, 64, num_layers=2, batch_first=True, dropout=0.3, bidirectional=True)\n",
      "    (decoder_network): Sequential(\n",
      "      (0): Linear(in_features=640, out_features=128, bias=True)\n",
      "      (1): ReLU()\n",
      "      (2): Linear(in_features=128, out_features=1, bias=True)\n",
      "    )\n",
      "  )\n",
      ")\n",
      "xshape torch.Size([1, 64, 8, 8])\n",
      "xshape torch.Size([1, 4096])\n",
      "xshape torch.Size([1, 64, 8, 8])\n",
      "xshape torch.Size([1, 4096])\n",
      "xshape torch.Size([1, 64, 8, 8])\n",
      "xshape torch.Size([1, 4096])\n",
      "xshape torch.Size([1, 64, 8, 8])\n",
      "xshape torch.Size([1, 4096])\n",
      "xshape torch.Size([1, 64, 8, 8])\n",
      "xshape torch.Size([1, 4096])\n",
      "out torch.Size([1, 5, 512])\n",
      "lstm torch.Size([1, 640])\n"
     ]
    }
   ],
   "source": [
    "model = CNNLSTMNet(ts=5)\n",
    "print(model)\n",
    "o = model(im_w)"
   ]
  },
  {
   "cell_type": "code",
   "execution_count": 7,
   "metadata": {},
   "outputs": [],
   "source": [
    "def get_n_params(model):\n",
    "    pp=0\n",
    "    for p in list(model.parameters()):\n",
    "        nn=1\n",
    "        for s in list(p.size()):\n",
    "            nn = nn*s\n",
    "        pp += nn\n",
    "    return pp"
   ]
  },
  {
   "cell_type": "code",
   "execution_count": 6,
   "metadata": {},
   "outputs": [
    {
     "data": {
      "text/plain": [
       "11084801"
      ]
     },
     "execution_count": 6,
     "metadata": {},
     "output_type": "execute_result"
    }
   ],
   "source": [
    "get_n_params(model)"
   ]
  },
  {
   "cell_type": "code",
   "execution_count": 8,
   "metadata": {},
   "outputs": [
    {
     "data": {
      "text/plain": [
       "6809089"
      ]
     },
     "execution_count": 8,
     "metadata": {},
     "output_type": "execute_result"
    }
   ],
   "source": [
    "get_n_params(model)"
   ]
  },
  {
   "cell_type": "code",
   "execution_count": 8,
   "metadata": {},
   "outputs": [],
   "source": [
    "ts = 5\n",
    "model = TimeDistributed(CNNEncoder, ts, 3)\n",
    "model1 = LSTMModule(1024, 128, 2, ts, 2)"
   ]
  },
  {
   "cell_type": "code",
   "execution_count": 9,
   "metadata": {},
   "outputs": [
    {
     "name": "stdout",
     "output_type": "stream",
     "text": [
      "xshape torch.Size([1, 64, 8, 8])\n",
      "xshape torch.Size([1, 4096])\n",
      "xshape torch.Size([1, 64, 8, 8])\n",
      "xshape torch.Size([1, 4096])\n",
      "xshape torch.Size([1, 64, 8, 8])\n",
      "xshape torch.Size([1, 4096])\n",
      "xshape torch.Size([1, 64, 8, 8])\n",
      "xshape torch.Size([1, 4096])\n",
      "xshape torch.Size([1, 64, 8, 8])\n",
      "xshape torch.Size([1, 4096])\n",
      "out torch.Size([1, 5, 512])\n"
     ]
    }
   ],
   "source": [
    "o = model(im_w)"
   ]
  },
  {
   "cell_type": "code",
   "execution_count": 147,
   "metadata": {},
   "outputs": [
    {
     "data": {
      "text/plain": [
       "torch.Size([1, 5, 1024])"
      ]
     },
     "execution_count": 147,
     "metadata": {},
     "output_type": "execute_result"
    }
   ],
   "source": [
    "o.shape"
   ]
  },
  {
   "cell_type": "code",
   "execution_count": 148,
   "metadata": {},
   "outputs": [],
   "source": [
    "o = model1(o)"
   ]
  },
  {
   "cell_type": "code",
   "execution_count": 149,
   "metadata": {},
   "outputs": [
    {
     "data": {
      "text/plain": [
       "tensor([[-0.0596, -0.0491]], grad_fn=<AddmmBackward>)"
      ]
     },
     "execution_count": 149,
     "metadata": {},
     "output_type": "execute_result"
    }
   ],
   "source": [
    "o"
   ]
  },
  {
   "cell_type": "code",
   "execution_count": 134,
   "metadata": {},
   "outputs": [
    {
     "data": {
      "text/plain": [
       "256.0"
      ]
     },
     "execution_count": 134,
     "metadata": {},
     "output_type": "execute_result"
    }
   ],
   "source": [
    "1024/4"
   ]
  },
  {
   "cell_type": "code",
   "execution_count": null,
   "metadata": {},
   "outputs": [],
   "source": []
  }
 ],
 "metadata": {
  "interpreter": {
   "hash": "0dc034823c925ab72675d722f7a4a6e69cee72befff823788c49c0ef66a71113"
  },
  "kernelspec": {
   "display_name": "Python 3.8.10 64-bit",
   "name": "python3"
  },
  "language_info": {
   "codemirror_mode": {
    "name": "ipython",
    "version": 3
   },
   "file_extension": ".py",
   "mimetype": "text/x-python",
   "name": "python",
   "nbconvert_exporter": "python",
   "pygments_lexer": "ipython3",
   "version": "3.8.10"
  },
  "orig_nbformat": 4
 },
 "nbformat": 4,
 "nbformat_minor": 2
}
