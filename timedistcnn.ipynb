{
 "cells": [
  {
   "cell_type": "code",
   "execution_count": 30,
   "metadata": {},
   "outputs": [],
   "source": [
    "import torch;\n",
    "import torch.nn as nn\n",
    "import torch.nn.functional as F\n",
    "import torch.utils\n",
    "import torch.distributions\n",
    "import torchvision\n",
    "import numpy as np\n",
    "import pandas as pd\n",
    "import torchvision.models as models \n",
    "from torchvision import transforms, utils\n",
    "from torch.utils.data.sampler import SubsetRandomSampler\n",
    "from torch.utils.data import WeightedRandomSampler\n",
    "import torch.optim as optim\n",
    "import matplotlib.pyplot as plt\n",
    "from torch.autograd import Variable\n",
    "from torch.optim import lr_scheduler\n",
    "import seaborn as sns\n",
    "import os\n",
    "os.environ['CUDA_LAUNCH_BLOCKING'] = '1'\n",
    "import copy\n",
    "from tqdm import tqdm\n",
    "#from model import VAE\n",
    "\n",
    "import matplotlib.pyplot as plt; plt.rcParams['figure.dpi'] = 200\n",
    "from dataloader import *\n",
    "from cnn_model_1 import *"
   ]
  },
  {
   "cell_type": "code",
   "execution_count": 2,
   "metadata": {},
   "outputs": [],
   "source": [
    "#only on validation set\n",
    "csv_path = 'progress.csv'\n",
    "img_path = '/home/vip/sayan-mandal/datasets/obj_criteria/good_reduced/'\n",
    "\n",
    "CDL = CLUnivDataLoader(csv_path, img_path, transform = transforms.Compose([transforms.Resize(64),transforms.ToTensor(),transforms.Normalize((0.5, 0.5, 0.5), (0.5, 0.5, 0.5))]),timestep=3,n=2)\n",
    "\n",
    "#random sampler\n",
    "batch_size = 64\n",
    "validation_split = .2\n",
    "test_split = .2\n",
    "train_split = 1-validation_split-test_split\n",
    "shuffle_dataset = True\n",
    "\n",
    "# Creating data indices for training and validation splits:\n",
    "dataset_size = len(CDL)\n",
    "indices = list(range(dataset_size))\n",
    "split_train = int(np.floor(train_split * dataset_size))\n",
    "split_valid = int(np.floor((train_split+validation_split) * dataset_size))\n",
    "if shuffle_dataset :\n",
    "    np.random.shuffle(indices)\n",
    "train_indices, val_indices, test_indices =  indices[:split_train],indices[split_train:split_valid],indices[split_valid:]\n",
    "\n",
    "# Creating PT data samplers and loaders:\n",
    "train_sampler = SubsetRandomSampler(train_indices)\n",
    "valid_sampler = SubsetRandomSampler(val_indices)\n",
    "test_sampler = SubsetRandomSampler(test_indices)\n",
    "\n",
    "train_loader = torch.utils.data.DataLoader(CDL, batch_size=batch_size, sampler=train_sampler)\n",
    "valid_loader = torch.utils.data.DataLoader(CDL, batch_size=batch_size, sampler=valid_sampler)\n",
    "test_loader = torch.utils.data.DataLoader(CDL, batch_size=batch_size, sampler=test_sampler)"
   ]
  },
  {
   "cell_type": "code",
   "execution_count": 18,
   "metadata": {},
   "outputs": [],
   "source": [
    "targets = np.array(CDL.gettargets())\n",
    "\n",
    "#\n"
   ]
  },
  {
   "cell_type": "code",
   "execution_count": 22,
   "metadata": {},
   "outputs": [],
   "source": [
    "targets[targets>-2] = 1\n",
    "targets[targets < -2] = 0"
   ]
  },
  {
   "cell_type": "code",
   "execution_count": 25,
   "metadata": {},
   "outputs": [],
   "source": [
    "class_sample_count = np.array([len(np.where(targets == t)[0]) for t in np.unique(targets)])\n"
   ]
  },
  {
   "cell_type": "code",
   "execution_count": 28,
   "metadata": {},
   "outputs": [],
   "source": [
    "weight = 1. / class_sample_count\n",
    "samples_weight = np.array([weight[int(t)] for t in targets])"
   ]
  },
  {
   "cell_type": "code",
   "execution_count": 30,
   "metadata": {},
   "outputs": [
    {
     "ename": "NameError",
     "evalue": "name 'WeightedRandomSampler' is not defined",
     "output_type": "error",
     "traceback": [
      "\u001b[1;31m---------------------------------------------------------------------------\u001b[0m",
      "\u001b[1;31mNameError\u001b[0m                                 Traceback (most recent call last)",
      "\u001b[1;32m<ipython-input-30-604ed71966c4>\u001b[0m in \u001b[0;36m<module>\u001b[1;34m\u001b[0m\n\u001b[1;32m----> 1\u001b[1;33m \u001b[0mWeightedRandomSampler\u001b[0m\u001b[1;33m(\u001b[0m\u001b[0msamples_weight\u001b[0m\u001b[1;33m,\u001b[0m \u001b[0mlen\u001b[0m\u001b[1;33m(\u001b[0m\u001b[0msamples_weight\u001b[0m\u001b[1;33m)\u001b[0m\u001b[1;33m)\u001b[0m\u001b[1;33m\u001b[0m\u001b[1;33m\u001b[0m\u001b[0m\n\u001b[0m",
      "\u001b[1;31mNameError\u001b[0m: name 'WeightedRandomSampler' is not defined"
     ]
    }
   ],
   "source": [
    "wrs = WeightedRandomSampler(samples_weight, len(samples_weight))\n",
    "train_loader = torch.utils.data.DataLoader(trainsd, batch_size=batch_size, sampler=train_sampler)"
   ]
  },
  {
   "cell_type": "code",
   "execution_count": 10,
   "metadata": {},
   "outputs": [
    {
     "name": "stdout",
     "output_type": "stream",
     "text": [
      "['AL0320_2005_02_16_OS.JPG', 'AL0320_2006_01_13_OS.JPG', 'AL0320_2007_03_26_OS.JPG', 'AL0320_2011_04_26_OS_02.JPG', 'AL0320_2012_07_25_OS_02.JPG']\n",
      "['AL0320_2006_01_13_OS.JPG', 'AL0320_2007_03_26_OS.JPG', 'AL0320_2011_04_26_OS_02.JPG', 'AL0320_2012_07_25_OS_02.JPG', 'AL0320_2014_02_18_OS_02.JPG']\n",
      "['AL0320_2007_03_26_OS.JPG', 'AL0320_2011_04_26_OS_02.JPG', 'AL0320_2012_07_25_OS_02.JPG', 'AL0320_2014_02_18_OS_02.JPG', 'AL0320_2015_03_19_OS_02.JPG']\n",
      "['AL0320_2005_02_16_OD.JPG', 'AL0320_2006_01_13_OD.JPG', 'AL0320_2007_03_26_OD.JPG', 'AL0320_2011_04_26_OD_01.JPG', 'AL0320_2012_07_25_OD_02.JPG']\n",
      "['AL0320_2006_01_13_OD.JPG', 'AL0320_2007_03_26_OD.JPG', 'AL0320_2011_04_26_OD_01.JPG', 'AL0320_2012_07_25_OD_02.JPG', 'AL0320_2014_02_18_OD_02.JPG']\n",
      "['AL0320_2007_03_26_OD.JPG', 'AL0320_2011_04_26_OD_01.JPG', 'AL0320_2012_07_25_OD_02.JPG', 'AL0320_2014_02_18_OD_02.JPG', 'AL0320_2015_03_19_OD_01.JPG']\n",
      "['AL0348_2004_05_05_OS.JPG', 'AL0348_2005_04_26_OS.JPG', 'AL0348_2007_04_30_OS.JPG', 'AL0348_2011_05_10_OS_01.JPG', 'AL0348_2012_04_17_OS_02.JPG']\n",
      "['AL0357_2005_05_23_OS.JPG', 'AL0357_2006_05_18_OS.JPG', 'AL0357_2007_04_30_OS.JPG', 'AL0357_2011_04_19_OS_02.JPG', 'AL0357_2012_04_26_OS_01.JPG']\n",
      "['AL0357_2006_05_18_OS.JPG', 'AL0357_2007_04_30_OS.JPG', 'AL0357_2011_04_19_OS_02.JPG', 'AL0357_2012_04_26_OS_01.JPG', 'AL0357_2013_06_04_OS_01.JPG']\n",
      "['AL0357_2004_06_09_OD.JPG', 'AL0357_2005_05_23_OD.JPG', 'AL0357_2006_05_18_OD.JPG', 'AL0357_2007_04_30_OD.JPG', 'AL0357_2011_04_19_OD_01.JPG']\n"
     ]
    }
   ],
   "source": [
    "def gen_weightedsampler(datasets):\n",
    "    target = datasets.labels\n",
    "    class_sample_count = np.array(\n",
    "        [len(np.where(target == t)[0]) for t in np.unique(target)])\n",
    "    weight = 1. / class_sample_count\n",
    "    samples_weight = np.array([weight[t] for t in target])\n",
    "    samples_weight = torch.from_numpy(samples_weight)\n",
    "    return WeightedRandomSampler(samples_weight, len(samples_weight))\n",
    "    "
   ]
  },
  {
   "cell_type": "code",
   "execution_count": 1,
   "metadata": {},
   "outputs": [],
   "source": [
    "import pandas as pd\n",
    "import torch\n",
    "from torch.utils.data.dataset import Dataset\n",
    "from torchvision import transforms, utils\n",
    "from sklearn.preprocessing import LabelEncoder, MinMaxScaler\n",
    "import PIL\n",
    "import os"
   ]
  },
  {
   "cell_type": "code",
   "execution_count": 3,
   "metadata": {},
   "outputs": [],
   "source": [
    "dataset = pd.read_csv('pairwise_lstm.csv')"
   ]
  },
  {
   "cell_type": "code",
   "execution_count": 6,
   "metadata": {},
   "outputs": [],
   "source": [
    "grouped = dataset.groupby('maskedeye')\n",
    "grouped = iter(grouped)\n",
    "_, chunk = next(grouped)\n",
    "chunks = []\n",
    "targets = []\n",
    "seqlen = []\n"
   ]
  },
  {
   "cell_type": "code",
   "execution_count": 28,
   "metadata": {},
   "outputs": [
    {
     "data": {
      "text/html": [
       "<div>\n",
       "<style scoped>\n",
       "    .dataframe tbody tr th:only-of-type {\n",
       "        vertical-align: middle;\n",
       "    }\n",
       "\n",
       "    .dataframe tbody tr th {\n",
       "        vertical-align: top;\n",
       "    }\n",
       "\n",
       "    .dataframe thead th {\n",
       "        text-align: right;\n",
       "    }\n",
       "</style>\n",
       "<table border=\"1\" class=\"dataframe\">\n",
       "  <thead>\n",
       "    <tr style=\"text-align: right;\">\n",
       "      <th></th>\n",
       "      <th>filename</th>\n",
       "      <th>maskedeye</th>\n",
       "      <th>pdate</th>\n",
       "      <th>examdate_shift</th>\n",
       "      <th>rnflmean_g</th>\n",
       "      <th>days</th>\n",
       "      <th>target</th>\n",
       "    </tr>\n",
       "  </thead>\n",
       "  <tbody>\n",
       "    <tr>\n",
       "      <th>15</th>\n",
       "      <td>AL0349_2011_06_02_OD_01.JPG</td>\n",
       "      <td>al0349r</td>\n",
       "      <td>2011-06-02</td>\n",
       "      <td>2011-06-02</td>\n",
       "      <td>105.66666</td>\n",
       "      <td>0</td>\n",
       "      <td>-0.616978</td>\n",
       "    </tr>\n",
       "    <tr>\n",
       "      <th>16</th>\n",
       "      <td>AL0349_2012_04_12_OD_02.JPG</td>\n",
       "      <td>al0349r</td>\n",
       "      <td>2012-04-12</td>\n",
       "      <td>2012-04-12</td>\n",
       "      <td>105.00000</td>\n",
       "      <td>315</td>\n",
       "      <td>-0.747498</td>\n",
       "    </tr>\n",
       "  </tbody>\n",
       "</table>\n",
       "</div>"
      ],
      "text/plain": [
       "                       filename maskedeye       pdate examdate_shift  \\\n",
       "15  AL0349_2011_06_02_OD_01.JPG   al0349r  2011-06-02     2011-06-02   \n",
       "16  AL0349_2012_04_12_OD_02.JPG   al0349r  2012-04-12     2012-04-12   \n",
       "\n",
       "    rnflmean_g  days    target  \n",
       "15   105.66666     0 -0.616978  \n",
       "16   105.00000   315 -0.747498  "
      ]
     },
     "execution_count": 28,
     "metadata": {},
     "output_type": "execute_result"
    }
   ],
   "source": [
    "_, chunk = next(grouped)\n",
    "chunk"
   ]
  },
  {
   "cell_type": "code",
   "execution_count": 26,
   "metadata": {},
   "outputs": [],
   "source": [
    "\n",
    "for i in range(1,chunk.shape[0]):\n",
    "    chunks += [[chunk['filename'].iloc[0],chunk['filename'].iloc[i]]]\n",
    "    targets += [chunk['target'].iloc[i]]"
   ]
  },
  {
   "cell_type": "code",
   "execution_count": 27,
   "metadata": {},
   "outputs": [
    {
     "data": {
      "text/plain": [
       "[-0.7351501,\n",
       " -0.28899708,\n",
       " -0.81268001,\n",
       " -0.1204906,\n",
       " -0.70073372,\n",
       " -0.69243568,\n",
       " -0.89236963,\n",
       " -1.0637892,\n",
       " -0.71282333]"
      ]
     },
     "execution_count": 27,
     "metadata": {},
     "output_type": "execute_result"
    }
   ],
   "source": [
    "targets"
   ]
  },
  {
   "cell_type": "code",
   "execution_count": null,
   "metadata": {},
   "outputs": [],
   "source": []
  },
  {
   "cell_type": "code",
   "execution_count": null,
   "metadata": {},
   "outputs": [],
   "source": []
  },
  {
   "cell_type": "code",
   "execution_count": 44,
   "metadata": {},
   "outputs": [],
   "source": [
    "def get_n_params(model):\n",
    "    pp=0\n",
    "    for p in list(model.parameters()):\n",
    "        nn=1\n",
    "        for s in list(p.size()):\n",
    "            nn = nn*s\n",
    "        pp += nn\n",
    "    return pp"
   ]
  },
  {
   "cell_type": "code",
   "execution_count": 45,
   "metadata": {},
   "outputs": [
    {
     "data": {
      "text/plain": [
       "19092097"
      ]
     },
     "execution_count": 45,
     "metadata": {},
     "output_type": "execute_result"
    }
   ],
   "source": [
    "get_n_params(model)"
   ]
  },
  {
   "cell_type": "code",
   "execution_count": 32,
   "metadata": {},
   "outputs": [],
   "source": [
    "im1 = torch.rand((3,64,64))\n",
    "im2 = torch.rand((3,64,64))\n",
    "x = torch.stack([im1,im2],0)"
   ]
  },
  {
   "cell_type": "code",
   "execution_count": 37,
   "metadata": {},
   "outputs": [],
   "source": [
    "x = torch.unsqueeze(x, 0)"
   ]
  },
  {
   "cell_type": "code",
   "execution_count": 39,
   "metadata": {},
   "outputs": [],
   "source": [
    "ts = 2\n",
    "model = CNNLSTMNet(ts=ts)"
   ]
  },
  {
   "cell_type": "code",
   "execution_count": 41,
   "metadata": {},
   "outputs": [],
   "source": [
    "o = model(x)"
   ]
  },
  {
   "cell_type": "code",
   "execution_count": 42,
   "metadata": {},
   "outputs": [
    {
     "data": {
      "text/plain": [
       "torch.Size([1, 1])"
      ]
     },
     "execution_count": 42,
     "metadata": {},
     "output_type": "execute_result"
    }
   ],
   "source": [
    "o.shape"
   ]
  },
  {
   "cell_type": "code",
   "execution_count": 148,
   "metadata": {},
   "outputs": [],
   "source": [
    "o = model1(o)"
   ]
  },
  {
   "cell_type": "code",
   "execution_count": 149,
   "metadata": {},
   "outputs": [
    {
     "data": {
      "text/plain": [
       "tensor([[-0.0596, -0.0491]], grad_fn=<AddmmBackward>)"
      ]
     },
     "execution_count": 149,
     "metadata": {},
     "output_type": "execute_result"
    }
   ],
   "source": [
    "o"
   ]
  },
  {
   "cell_type": "code",
   "execution_count": 134,
   "metadata": {},
   "outputs": [
    {
     "data": {
      "text/plain": [
       "256.0"
      ]
     },
     "execution_count": 134,
     "metadata": {},
     "output_type": "execute_result"
    }
   ],
   "source": [
    "1024/4"
   ]
  },
  {
   "cell_type": "code",
   "execution_count": null,
   "metadata": {},
   "outputs": [],
   "source": []
  }
 ],
 "metadata": {
  "interpreter": {
   "hash": "0dc034823c925ab72675d722f7a4a6e69cee72befff823788c49c0ef66a71113"
  },
  "kernelspec": {
   "display_name": "Python 3.8.10 64-bit",
   "name": "python3"
  },
  "language_info": {
   "codemirror_mode": {
    "name": "ipython",
    "version": 3
   },
   "file_extension": ".py",
   "mimetype": "text/x-python",
   "name": "python",
   "nbconvert_exporter": "python",
   "pygments_lexer": "ipython3",
   "version": "3.8.10"
  },
  "orig_nbformat": 4
 },
 "nbformat": 4,
 "nbformat_minor": 2
}
