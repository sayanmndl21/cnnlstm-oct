{
 "cells": [
  {
   "cell_type": "code",
   "execution_count": 1,
   "metadata": {},
   "outputs": [],
   "source": [
    "import numpy as np\n",
    "import pandas as pd\n",
    "import PIL\n",
    "import os\n",
    "pd.options.mode.chained_assignment = None  # default='warn'\n",
    "from dataloader import CNNLSTMDataLoader"
   ]
  },
  {
   "cell_type": "code",
   "execution_count": 2,
   "metadata": {},
   "outputs": [],
   "source": [
    "csv_path = 'progressiondataset.csv'\n",
    "img_path = '/home/vip/sayan-mandal/datasets/obj_criteria/good_reduced/'\n",
    "dl = CNNLSTMDataLoader(csv_path, img,path)"
   ]
  },
  {
   "cell_type": "code",
   "execution_count": 3,
   "metadata": {},
   "outputs": [
    {
     "data": {
      "text/plain": [
       "(['al0320_2005_02_16_os.jpg',\n",
       "  'al0320_2006_01_13_os.jpg',\n",
       "  'al0320_2007_03_26_os.jpg'],\n",
       " -0.20578472,\n",
       " 3)"
      ]
     },
     "execution_count": 3,
     "metadata": {},
     "output_type": "execute_result"
    }
   ],
   "source": [
    "dl[0]"
   ]
  },
  {
   "cell_type": "code",
   "execution_count": 4,
   "metadata": {},
   "outputs": [],
   "source": [
    "dataset = pd.read_csv('progressiondataset.csv')"
   ]
  },
  {
   "cell_type": "code",
   "execution_count": 6,
   "metadata": {},
   "outputs": [],
   "source": [
    "timestep = 3\n",
    "grouped = dataset.groupby('maskedeye')"
   ]
  },
  {
   "cell_type": "code",
   "execution_count": 7,
   "metadata": {},
   "outputs": [],
   "source": [
    "grouped = iter(grouped)\n",
    "_, group = next(grouped)\n"
   ]
  },
  {
   "cell_type": "code",
   "execution_count": 30,
   "metadata": {},
   "outputs": [],
   "source": [
    "agg_func = {}\n",
    "for col in ['filename','maskedeye','slope']:\n",
    "    agg_func[col] = 'last'"
   ]
  },
  {
   "cell_type": "code",
   "execution_count": 31,
   "metadata": {},
   "outputs": [],
   "source": [
    "new = []\n",
    "for _, group in grouped:\n",
    "    group = group.sort_values(by=['pdate'],ascending=True)\n",
    "    group = group.groupby(group['pdate']).aggregate(agg_func).reset_index().reindex(columns=group.columns)\n",
    "    new += [group]"
   ]
  },
  {
   "cell_type": "code",
   "execution_count": 35,
   "metadata": {},
   "outputs": [],
   "source": [
    "new_df = pd.concat(new).reset_index().reindex(columns=new[0].columns)"
   ]
  },
  {
   "cell_type": "code",
   "execution_count": 36,
   "metadata": {},
   "outputs": [],
   "source": [
    "new_df.to_csv('progressiondataset.csv', index = False)"
   ]
  },
  {
   "cell_type": "code",
   "execution_count": 12,
   "metadata": {},
   "outputs": [],
   "source": [
    "group = group.sort_values(by=['pdate'],ascending=True)\n",
    "group = group.groupby(group['pdate']).aggregate(agg_func).reset_index().reindex(columns=group.columns)\n"
   ]
  },
  {
   "cell_type": "code",
   "execution_count": 13,
   "metadata": {},
   "outputs": [
    {
     "data": {
      "text/html": [
       "<div>\n",
       "<style scoped>\n",
       "    .dataframe tbody tr th:only-of-type {\n",
       "        vertical-align: middle;\n",
       "    }\n",
       "\n",
       "    .dataframe tbody tr th {\n",
       "        vertical-align: top;\n",
       "    }\n",
       "\n",
       "    .dataframe thead th {\n",
       "        text-align: right;\n",
       "    }\n",
       "</style>\n",
       "<table border=\"1\" class=\"dataframe\">\n",
       "  <thead>\n",
       "    <tr style=\"text-align: right;\">\n",
       "      <th></th>\n",
       "      <th>filename</th>\n",
       "      <th>maskedeye</th>\n",
       "      <th>pdate</th>\n",
       "      <th>slope</th>\n",
       "    </tr>\n",
       "  </thead>\n",
       "  <tbody>\n",
       "    <tr>\n",
       "      <th>0</th>\n",
       "      <td>al0320_2005_02_16_os.jpg</td>\n",
       "      <td>al0320l</td>\n",
       "      <td>2005-02-16</td>\n",
       "      <td>-0.205785</td>\n",
       "    </tr>\n",
       "    <tr>\n",
       "      <th>1</th>\n",
       "      <td>al0320_2006_01_13_os.jpg</td>\n",
       "      <td>al0320l</td>\n",
       "      <td>2006-01-13</td>\n",
       "      <td>-0.205785</td>\n",
       "    </tr>\n",
       "    <tr>\n",
       "      <th>2</th>\n",
       "      <td>al0320_2007_03_26_os.jpg</td>\n",
       "      <td>al0320l</td>\n",
       "      <td>2007-03-26</td>\n",
       "      <td>-0.205785</td>\n",
       "    </tr>\n",
       "    <tr>\n",
       "      <th>3</th>\n",
       "      <td>al0320_2011_04_26_os_01.jpg</td>\n",
       "      <td>al0320l</td>\n",
       "      <td>2011-04-26</td>\n",
       "      <td>-0.205785</td>\n",
       "    </tr>\n",
       "    <tr>\n",
       "      <th>4</th>\n",
       "      <td>al0320_2012_07_25_os_01.jpg</td>\n",
       "      <td>al0320l</td>\n",
       "      <td>2012-07-25</td>\n",
       "      <td>-0.205785</td>\n",
       "    </tr>\n",
       "    <tr>\n",
       "      <th>5</th>\n",
       "      <td>al0320_2014_02_18_os_01.jpg</td>\n",
       "      <td>al0320l</td>\n",
       "      <td>2014-02-18</td>\n",
       "      <td>-0.205785</td>\n",
       "    </tr>\n",
       "    <tr>\n",
       "      <th>6</th>\n",
       "      <td>al0320_2015_03_19_os_01.jpg</td>\n",
       "      <td>al0320l</td>\n",
       "      <td>2015-03-19</td>\n",
       "      <td>-0.205785</td>\n",
       "    </tr>\n",
       "  </tbody>\n",
       "</table>\n",
       "</div>"
      ],
      "text/plain": [
       "                      filename maskedeye       pdate     slope\n",
       "0     al0320_2005_02_16_os.jpg   al0320l  2005-02-16 -0.205785\n",
       "1     al0320_2006_01_13_os.jpg   al0320l  2006-01-13 -0.205785\n",
       "2     al0320_2007_03_26_os.jpg   al0320l  2007-03-26 -0.205785\n",
       "3  al0320_2011_04_26_os_01.jpg   al0320l  2011-04-26 -0.205785\n",
       "4  al0320_2012_07_25_os_01.jpg   al0320l  2012-07-25 -0.205785\n",
       "5  al0320_2014_02_18_os_01.jpg   al0320l  2014-02-18 -0.205785\n",
       "6  al0320_2015_03_19_os_01.jpg   al0320l  2015-03-19 -0.205785"
      ]
     },
     "execution_count": 13,
     "metadata": {},
     "output_type": "execute_result"
    }
   ],
   "source": [
    "group"
   ]
  },
  {
   "cell_type": "code",
   "execution_count": 8,
   "metadata": {},
   "outputs": [
    {
     "name": "stdout",
     "output_type": "stream",
     "text": [
      "['al0320_2005_02_16_os.jpg', 'al0320_2006_01_13_os.jpg', 'al0320_2007_03_26_os.jpg'] -0.20578472\n",
      "['al0320_2006_01_13_os.jpg', 'al0320_2007_03_26_os.jpg', 'al0320_2011_04_26_os_01.jpg'] -0.20578472\n",
      "['al0320_2007_03_26_os.jpg', 'al0320_2011_04_26_os_01.jpg', 'al0320_2012_07_25_os_01.jpg'] -0.20578472\n",
      "['al0320_2011_04_26_os_01.jpg', 'al0320_2012_07_25_os_01.jpg', 'al0320_2014_02_18_os_01.jpg'] -0.20578472\n",
      "['al0320_2012_07_25_os_01.jpg', 'al0320_2014_02_18_os_01.jpg', 'al0320_2015_03_19_os_01.jpg'] -0.20578472\n"
     ]
    }
   ],
   "source": [
    "if len(group) == 3:\n",
    "    print(group['filename'].iloc[:3].to_list(), group['slope'].iloc[3-1])\n",
    "elif len(group) > 3:\n",
    "    for i in range(3, group.shape[0]+1):\n",
    "        if i < timestep:\n",
    "            print(group['filename'].iloc[:i].to_list(), group['slope'].iloc[i-1])\n",
    "        else:\n",
    "            print(group['filename'].iloc[i-timestep:i].to_list(), group['slope'].iloc[i-1])"
   ]
  },
  {
   "cell_type": "code",
   "execution_count": 23,
   "metadata": {},
   "outputs": [
    {
     "data": {
      "text/plain": [
       "filename     al0320_2007_03_26_os.jpg\n",
       "maskedeye                     al0320l\n",
       "pdate                      2007-03-26\n",
       "slope                       -0.205785\n",
       "Name: 2, dtype: object"
      ]
     },
     "execution_count": 23,
     "metadata": {},
     "output_type": "execute_result"
    }
   ],
   "source": [
    "group.iloc[2]"
   ]
  },
  {
   "cell_type": "code",
   "execution_count": 4,
   "metadata": {},
   "outputs": [],
   "source": [
    "chunks = []\n",
    "labels = []\n",
    "seqlen = []\n",
    "for _, group in grouped:\n",
    "    group = group.sort_values(by=['day'],ascending=False)\n",
    "    if len(group) == self.n:\n",
    "            block = torch.tensor(group.iloc[-self.n:,1:-1].to_numpy())\n",
    "            chunks += [torch.flip(torch.nn.functional.pad(block,(0,0,0,self.timestep-block.shape[0])),[0])]\n",
    "            labels += [self.encode(group[labelcol].iloc[0])]\n",
    "            seqlen += [self.n]\n",
    "    elif len(group)>self.n:\n",
    "        for i in range(self.n,group.shape[0]+1):\n",
    "            block = torch.tensor(group.iloc[-i:,1:-1].to_numpy())\n",
    "            chunks += [torch.flip(torch.nn.functional.pad(block,(0,0,0,self.timestep-block.shape[0])),[0])]\n",
    "            labels += [self.encode(group[labelcol].iloc[-i])]\n",
    "            seqlen += [i]"
   ]
  },
  {
   "cell_type": "code",
   "execution_count": 5,
   "metadata": {},
   "outputs": [],
   "source": [
    "df = df[(df['scantype'] != \"OCT Radial Circle Scan\") & (df['diametermm'] < 4) & (df['age'] > 18) & \n",
    "            (df['age'] < 100) & (df['quality'] >15) & (df['rnflmean_g'] > 20) & (df['rnflmean_g'] < 150) &\n",
    "            (~df['crt1'].isin(criteria1)) & (~df['crt2'].isin(criteria2)) & (~df['crt3'].isin(criteria3))]\n",
    "\n",
    "\n",
    "df = df.drop(columns=['age','crt1','crt2','crt3'])\n",
    "\n",
    "df = df.loc[(df[cols[29:-1]] != 0).all(axis=1)]\n",
    "df = df.drop(columns=['dob_shift', 'mergedby', 'imageid', 'scantype', 'examtime', 'aqmversion', 'rnflclass_g', 'rnflclass_t', 'rnflclass_ts', 'rnflclass_ti', 'rnflclass_n', 'rnflclass_ns', 'rnflclass_ni','satellite'])"
   ]
  },
  {
   "cell_type": "code",
   "execution_count": 6,
   "metadata": {},
   "outputs": [],
   "source": [
    "cols1 = df.columns.to_list()\n",
    "agg_func = {}\n",
    "for col in cols1[:2]+cols1[3:4]:\n",
    "    agg_func[col] = 'first'\n",
    "for col in cols1[4:]:\n",
    "    agg_func[col] = 'mean'"
   ]
  },
  {
   "cell_type": "code",
   "execution_count": 7,
   "metadata": {},
   "outputs": [],
   "source": [
    "grouped = df.groupby('eye')\n",
    "grouped = iter(grouped)\n",
    "_, df_Leye = next(grouped)\n",
    "_, df_Reye = next(grouped)\n",
    "df_Reye = df_Reye.reset_index().drop(columns=['index'])\n",
    "df_Leye = df_Leye.reset_index().drop(columns=['index'])"
   ]
  },
  {
   "cell_type": "code",
   "execution_count": 8,
   "metadata": {},
   "outputs": [],
   "source": [
    "grouped = df_Reye.groupby('maskedid')\n",
    "\n",
    "singlevals = []\n",
    "\n",
    "appenddata = []\n",
    "for name, tempdf in grouped:\n",
    "    if tempdf.shape[0] == 1:\n",
    "        tempdf['days'] = (tempdf['examdate_shift'] - tempdf['examdate_shift'].iloc[0]).dt.days\n",
    "        tempdf['progress'] = 999.0\n",
    "        tempdf['label'] = 'b'\n",
    "        singlevals+= [name]\n",
    "    else:\n",
    "        tempdf = tempdf.groupby(tempdf[cols1[2]]).aggregate(agg_func).reset_index().reindex(columns=tempdf.columns)\n",
    "        if tempdf.shape[0] == 1:\n",
    "            tempdf['days'] = (tempdf['examdate_shift'] - tempdf['examdate_shift'].iloc[0]).dt.days\n",
    "            tempdf['progress'] = 999.0\n",
    "            tempdf['label'] = 'b'\n",
    "            singlevals+= [name]\n",
    "        else:\n",
    "            tempdf['days'] = (tempdf['examdate_shift'] - tempdf['examdate_shift'].iloc[0]).dt.days\n",
    "            tempdf['progress'] = 999.0\n",
    "            tempdf['progress'].iloc[1:] = tempdf['rnflmean_g'].iloc[1:] - tempdf['rnflmean_g'].shift().iloc[1:]\n",
    "            tempdf['label'] = tempdf[\"progress\"].apply(lambda x: 'b' if x == 999.0  else ('p' if x < 0 else 'n'))\n",
    "    \n",
    "    appenddata += [tempdf]\n",
    "n_dfR = pd.concat(appenddata)\n",
    "    "
   ]
  },
  {
   "cell_type": "code",
   "execution_count": 9,
   "metadata": {},
   "outputs": [],
   "source": [
    "grouped = df_Leye.groupby('maskedid')\n",
    "\n",
    "appenddata = []\n",
    "for name, tempdf in grouped:\n",
    "    if tempdf.shape[0] == 1:\n",
    "        tempdf['days'] = (tempdf['examdate_shift'] - tempdf['examdate_shift'].iloc[0]).dt.days\n",
    "        tempdf['progress'] = 999.0\n",
    "        tempdf['label'] = 'b'\n",
    "        singlevals+= [name]\n",
    "    else:\n",
    "        tempdf = tempdf.groupby(tempdf[cols1[2]]).aggregate(agg_func).reset_index().reindex(columns=tempdf.columns)\n",
    "        if tempdf.shape[0] == 1:\n",
    "            tempdf['days'] = (tempdf['examdate_shift'] - tempdf['examdate_shift'].iloc[0]).dt.days\n",
    "            tempdf['progress'] = 999.0\n",
    "            tempdf['label'] = 'b'\n",
    "            singlevals+= [name]\n",
    "        else:\n",
    "            tempdf['days'] = (tempdf['examdate_shift'] - tempdf['examdate_shift'].iloc[0]).dt.days\n",
    "            tempdf['progress'] = 999.0\n",
    "            tempdf['progress'].iloc[1:] = tempdf['rnflmean_g'].iloc[1:] - tempdf['rnflmean_g'].shift().iloc[1:]\n",
    "            tempdf['label'] = tempdf[\"progress\"].apply(lambda x: 'b' if x == 999.0  else ('p' if x < 0 else 'n'))\n",
    "    \n",
    "    appenddata += [tempdf]\n",
    "n_dfL = pd.concat(appenddata)"
   ]
  },
  {
   "cell_type": "code",
   "execution_count": 10,
   "metadata": {},
   "outputs": [],
   "source": [
    "df_comb = pd.concat([n_dfR,n_dfL])\n",
    "df_comb['age'] = (df_comb['examdate_shift'] - df_comb['dob_deduce_shift']).dt.days/365.25\n",
    "df_comb = df_comb.reindex(columns=cols1[:4]+['days','age','progress']+cols1[4:]+['label'])\n"
   ]
  },
  {
   "cell_type": "code",
   "execution_count": 11,
   "metadata": {},
   "outputs": [],
   "source": [
    "df_comb.to_csv('octdataset.csv')"
   ]
  },
  {
   "cell_type": "code",
   "execution_count": 16,
   "metadata": {},
   "outputs": [],
   "source": [
    "df_comb['progress'][df_comb['progress']==999.0] = 0.0"
   ]
  },
  {
   "cell_type": "code",
   "execution_count": 18,
   "metadata": {},
   "outputs": [],
   "source": [
    "new_df = df_comb.reset_index().drop(columns=['index'])\n",
    "new_df.to_csv('octdataset.csv')"
   ]
  },
  {
   "cell_type": "code",
   "execution_count": null,
   "metadata": {},
   "outputs": [],
   "source": []
  }
 ],
 "metadata": {
  "interpreter": {
   "hash": "0dc034823c925ab72675d722f7a4a6e69cee72befff823788c49c0ef66a71113"
  },
  "kernelspec": {
   "display_name": "Python 3.8.10 64-bit",
   "name": "python3"
  },
  "language_info": {
   "codemirror_mode": {
    "name": "ipython",
    "version": 3
   },
   "file_extension": ".py",
   "mimetype": "text/x-python",
   "name": "python",
   "nbconvert_exporter": "python",
   "pygments_lexer": "ipython3",
   "version": "3.8.10"
  },
  "orig_nbformat": 4
 },
 "nbformat": 4,
 "nbformat_minor": 2
}
