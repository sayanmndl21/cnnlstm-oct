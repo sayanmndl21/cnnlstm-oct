{
 "cells": [
  {
   "cell_type": "code",
   "execution_count": 1,
   "source": [
    "import numpy as np\r\n",
    "import pandas as pd\r\n",
    "pd.options.mode.chained_assignment = None  # default='warn'"
   ],
   "outputs": [],
   "metadata": {}
  },
  {
   "cell_type": "code",
   "execution_count": 2,
   "source": [
    "cols = pd.read_csv(\"oct_all_20200225_masked.csv\").columns.tolist()\r\n",
    "rnflcols = {}\r\n",
    "for col in cols[6:7]+cols[8:11]+cols[13:22]+ cols[29:-1]:\r\n",
    "    rnflcols[col] = 'float'\r\n",
    "for col in cols[:1]+cols[4:6]+cols[12:13]+cols[7:8]+cols[22:29]+cols[-1:]:\r\n",
    "    rnflcols[col] = 'str'\r\n",
    "df = pd.read_csv(\"oct_all_20200225_masked.csv\",dtype=rnflcols, parse_dates=cols[1:4])"
   ],
   "outputs": [],
   "metadata": {}
  },
  {
   "cell_type": "code",
   "execution_count": 3,
   "source": [
    "ids = [\"VIP008044\",\"VIP061418\",\"VIP037173\",\"VIP047216\",\"VIP031886\",\r\n",
    "\"VIP056062\",\"VIP033021\",\"VIP014389\",\"VIP016537\",\"VIP018334\",\"VIP041440\",\r\n",
    "\"VIP037986\",\"VIP041609\",\"VIP057901\",\"VIP058564\",\"VIP066946\",\"VIP067499\",\r\n",
    "\"VIP069109\" ,\"VIP071560\" ,\"VIP090530\",\"VIP091026\",\"VIP097007\",\"VIP111183\",\r\n",
    "\"VIP114093\",\"VIP120493\",\"VIP022706\",\"VIP099137\",\"VIP110041\",\"VIP070097\",\r\n",
    "\"VIP037986\" ,\"VIP093776\",\"VIP007879\",\"VIP019124\",\"VIP020446\",\"VIP019218\",\r\n",
    "\"VIP037748\",\"VIP053755\",\"VIP081666\",\"VIP089742\",\"VIP114093\",\"VIP119064\",\r\n",
    "\"VIP122233\",\"VIP053142\",\"VIP009947\",\"VIP026016\",\"VIP043105\",\"VIP043105\",\r\n",
    "\"VIP118474\",\"VIP014250\" ,\"VIP010831\",\"VIP014198\",\"VIP002538\",\"VIP010378\"]\r\n",
    "\r\n",
    "rol = [\"L\",\"L\",\"L\",\"L\",\"L\",\"R\",\"R\",\"R\",\"R\",\"R\",\"R\",\"R\",\"R\",\"R\",\"R\",\"R\",\"R\",\r\n",
    "\"R\",\"R\",\"R\",\"R\",\"R\",\"R\",\"R\",\"R\",\"R\",\"R\",\"R\",\"L\",\"L\",\"L\",\"L\",\"L\",\"L\",\"L\",\"L\",\r\n",
    "\"L\",\"L\",\"L\",\"L\",\"L\",\"L\"]\r\n",
    "\r\n",
    "idrnfl = [98,92,67,49,116]\r\n",
    "\r\n",
    "criteria1, criteria2, criteria3 = [], [], []\r\n",
    "for val1, val2, val3 in zip(ids[:len(idrnfl)], rol[:len(idrnfl)], idrnfl):\r\n",
    "    criteria1 += [val1+val2+str(float(val3))]\r\n",
    "\r\n",
    "for val1, val2 in zip(ids[len(idrnfl):len(rol)], rol[len(idrnfl):]):\r\n",
    "    criteria2 += [val1+val2]\r\n",
    "\r\n",
    "criteria3 = ids[len(rol):]"
   ],
   "outputs": [],
   "metadata": {}
  },
  {
   "cell_type": "code",
   "execution_count": 4,
   "source": [
    "df['age'] = (pd.to_datetime(df['examdate_shift']) - pd.to_datetime(df['dob_deduce_shift'])).dt.days / 365.25\r\n",
    "df['crt1'] = df['maskedid']+df['eye']+df['rnflmean_g'].astype('str')\r\n",
    "df['crt2'] = df['maskedid']+df['eye']\r\n",
    "df['crt3'] = df['maskedid']"
   ],
   "outputs": [],
   "metadata": {}
  },
  {
   "cell_type": "code",
   "execution_count": 5,
   "source": [
    "df = df[(df['scantype'] != \"OCT Radial Circle Scan\") & (df['diametermm'] < 4) & (df['age'] > 18) & \r\n",
    "            (df['age'] < 100) & (df['quality'] >15) & (df['rnflmean_g'] > 20) & (df['rnflmean_g'] < 150) &\r\n",
    "            (~df['crt1'].isin(criteria1)) & (~df['crt2'].isin(criteria2)) & (~df['crt3'].isin(criteria3))]\r\n",
    "\r\n",
    "\r\n",
    "df = df.drop(columns=['age','crt1','crt2','crt3'])\r\n",
    "\r\n",
    "df = df.loc[(df[cols[29:-1]] != 0).all(axis=1)]\r\n",
    "df = df.drop(columns=['dob_shift', 'mergedby', 'imageid', 'scantype', 'examtime', 'aqmversion', 'rnflclass_g', 'rnflclass_t', 'rnflclass_ts', 'rnflclass_ti', 'rnflclass_n', 'rnflclass_ns', 'rnflclass_ni','satellite'])"
   ],
   "outputs": [],
   "metadata": {}
  },
  {
   "cell_type": "code",
   "execution_count": 6,
   "source": [
    "cols1 = df.columns.to_list()\r\n",
    "agg_func = {}\r\n",
    "for col in cols1[:2]+cols1[3:4]:\r\n",
    "    agg_func[col] = 'first'\r\n",
    "for col in cols1[4:]:\r\n",
    "    agg_func[col] = 'mean'"
   ],
   "outputs": [],
   "metadata": {}
  },
  {
   "cell_type": "code",
   "execution_count": 7,
   "source": [
    "grouped = df.groupby('eye')\r\n",
    "grouped = iter(grouped)\r\n",
    "_, df_Leye = next(grouped)\r\n",
    "_, df_Reye = next(grouped)\r\n",
    "df_Reye = df_Reye.reset_index().drop(columns=['index'])\r\n",
    "df_Leye = df_Leye.reset_index().drop(columns=['index'])"
   ],
   "outputs": [],
   "metadata": {}
  },
  {
   "cell_type": "code",
   "execution_count": 8,
   "source": [
    "grouped = df_Reye.groupby('maskedid')\r\n",
    "\r\n",
    "singlevals = []\r\n",
    "\r\n",
    "appenddata = []\r\n",
    "for name, tempdf in grouped:\r\n",
    "    if tempdf.shape[0] == 1:\r\n",
    "        tempdf['days'] = (tempdf['examdate_shift'] - tempdf['examdate_shift'].iloc[0]).dt.days\r\n",
    "        tempdf['progress'] = 999.0\r\n",
    "        tempdf['label'] = 'b'\r\n",
    "        singlevals+= [name]\r\n",
    "    else:\r\n",
    "        tempdf = tempdf.groupby(tempdf[cols1[2]]).aggregate(agg_func).reset_index().reindex(columns=tempdf.columns)\r\n",
    "        if tempdf.shape[0] == 1:\r\n",
    "            tempdf['days'] = (tempdf['examdate_shift'] - tempdf['examdate_shift'].iloc[0]).dt.days\r\n",
    "            tempdf['progress'] = 999.0\r\n",
    "            tempdf['label'] = 'b'\r\n",
    "            singlevals+= [name]\r\n",
    "        else:\r\n",
    "            tempdf['days'] = (tempdf['examdate_shift'] - tempdf['examdate_shift'].iloc[0]).dt.days\r\n",
    "            tempdf['progress'] = 999.0\r\n",
    "            tempdf['progress'].iloc[1:] = tempdf['rnflmean_g'].iloc[1:] - tempdf['rnflmean_g'].shift().iloc[1:]\r\n",
    "            tempdf['label'] = tempdf[\"progress\"].apply(lambda x: 'b' if x == 999.0  else ('p' if x < 0 else 'n'))\r\n",
    "    \r\n",
    "    appenddata += [tempdf]\r\n",
    "n_dfR = pd.concat(appenddata)\r\n",
    "    "
   ],
   "outputs": [],
   "metadata": {}
  },
  {
   "cell_type": "code",
   "execution_count": 9,
   "source": [
    "grouped = df_Leye.groupby('maskedid')\r\n",
    "\r\n",
    "appenddata = []\r\n",
    "for name, tempdf in grouped:\r\n",
    "    if tempdf.shape[0] == 1:\r\n",
    "        tempdf['days'] = (tempdf['examdate_shift'] - tempdf['examdate_shift'].iloc[0]).dt.days\r\n",
    "        tempdf['progress'] = 999.0\r\n",
    "        tempdf['label'] = 'b'\r\n",
    "        singlevals+= [name]\r\n",
    "    else:\r\n",
    "        tempdf = tempdf.groupby(tempdf[cols1[2]]).aggregate(agg_func).reset_index().reindex(columns=tempdf.columns)\r\n",
    "        if tempdf.shape[0] == 1:\r\n",
    "            tempdf['days'] = (tempdf['examdate_shift'] - tempdf['examdate_shift'].iloc[0]).dt.days\r\n",
    "            tempdf['progress'] = 999.0\r\n",
    "            tempdf['label'] = 'b'\r\n",
    "            singlevals+= [name]\r\n",
    "        else:\r\n",
    "            tempdf['days'] = (tempdf['examdate_shift'] - tempdf['examdate_shift'].iloc[0]).dt.days\r\n",
    "            tempdf['progress'] = 999.0\r\n",
    "            tempdf['progress'].iloc[1:] = tempdf['rnflmean_g'].iloc[1:] - tempdf['rnflmean_g'].shift().iloc[1:]\r\n",
    "            tempdf['label'] = tempdf[\"progress\"].apply(lambda x: 'b' if x == 999.0  else ('p' if x < 0 else 'n'))\r\n",
    "    \r\n",
    "    appenddata += [tempdf]\r\n",
    "n_dfL = pd.concat(appenddata)"
   ],
   "outputs": [],
   "metadata": {}
  },
  {
   "cell_type": "code",
   "execution_count": 10,
   "source": [
    "df_comb = pd.concat([n_dfR,n_dfL])\n",
    "df_comb['age'] = (df_comb['examdate_shift'] - df_comb['dob_deduce_shift']).dt.days/365.25\n",
    "df_comb = df_comb.reindex(columns=cols1[:4]+['days','age','progress']+cols1[4:]+['label'])\n"
   ],
   "outputs": [],
   "metadata": {}
  },
  {
   "cell_type": "code",
   "execution_count": 11,
   "source": [
    "df_comb.to_csv('octdataset.csv')"
   ],
   "outputs": [],
   "metadata": {}
  },
  {
   "cell_type": "code",
   "execution_count": 16,
   "source": [
    "df_comb['progress'][df_comb['progress']==999.0] = 0.0"
   ],
   "outputs": [],
   "metadata": {}
  },
  {
   "cell_type": "code",
   "execution_count": 18,
   "source": [
    "new_df = df_comb.reset_index().drop(columns=['index'])\n",
    "new_df.to_csv('octdataset.csv')"
   ],
   "outputs": [],
   "metadata": {}
  },
  {
   "cell_type": "code",
   "execution_count": null,
   "source": [],
   "outputs": [],
   "metadata": {}
  }
 ],
 "metadata": {
  "orig_nbformat": 4,
  "language_info": {
   "name": "python",
   "version": "3.8.10",
   "mimetype": "text/x-python",
   "codemirror_mode": {
    "name": "ipython",
    "version": 3
   },
   "pygments_lexer": "ipython3",
   "nbconvert_exporter": "python",
   "file_extension": ".py"
  },
  "kernelspec": {
   "name": "python3",
   "display_name": "Python 3.8.10 64-bit"
  },
  "interpreter": {
   "hash": "0dc034823c925ab72675d722f7a4a6e69cee72befff823788c49c0ef66a71113"
  }
 },
 "nbformat": 4,
 "nbformat_minor": 2
}