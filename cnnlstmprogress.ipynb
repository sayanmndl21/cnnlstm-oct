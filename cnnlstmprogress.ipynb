{
 "cells": [
  {
   "cell_type": "code",
   "execution_count": 1,
   "metadata": {},
   "outputs": [],
   "source": [
    "import torch; torch.manual_seed(0)\n",
    "import torch.nn as nn\n",
    "import torch.nn.functional as F\n",
    "import torch.utils\n",
    "import torch.distributions\n",
    "import torchvision\n",
    "import numpy as np\n",
    "import pandas as pd\n",
    "import torchvision.models as models \n",
    "from torchvision import transforms, utils\n",
    "from torch.utils.data.sampler import SubsetRandomSampler\n",
    "import torch.optim as optim\n",
    "import matplotlib.pyplot as plt\n",
    "from torch.autograd import Variable\n",
    "from torch.optim import lr_scheduler\n",
    "import seaborn as sns\n",
    "import os\n",
    "os.environ['CUDA_LAUNCH_BLOCKING'] = '1'\n",
    "import copy\n",
    "from tqdm import tqdm\n",
    "#from model import VAE\n",
    "\n",
    "import matplotlib.pyplot as plt; plt.rcParams['figure.dpi'] = 200\n",
    "from dataloader import *\n",
    "from cnnlstmnetwork import *"
   ]
  },
  {
   "cell_type": "code",
   "execution_count": 2,
   "metadata": {},
   "outputs": [],
   "source": [
    "device = 'cuda' if torch.cuda.is_available() else 'cpu'"
   ]
  },
  {
   "cell_type": "code",
   "execution_count": 3,
   "metadata": {},
   "outputs": [],
   "source": [
    "#only on validation set\n",
    "csv_path = 'progress.csv'\n",
    "img_path = '/home/vip/sayan-mandal/datasets/obj_criteria/good_reduced/'\n",
    "\n",
    "CDL = CNNLSTMDataLoader(csv_path, img_path, transform = transforms.Compose([transforms.Resize(64),transforms.ToTensor(),transforms.Normalize((0.5, 0.5, 0.5), (0.5, 0.5, 0.5))]),timestep=3)\n",
    "\n",
    "#random sampler\n",
    "batch_size = 64\n",
    "validation_split = .2\n",
    "test_split = .2\n",
    "train_split = 1-validation_split-test_split\n",
    "shuffle_dataset = True\n",
    "random_seed = 42\n",
    "\n",
    "# Creating data indices for training and validation splits:\n",
    "dataset_size = len(CDL)\n",
    "indices = list(range(dataset_size))\n",
    "split_train = int(np.floor(train_split * dataset_size))\n",
    "split_valid = int(np.floor((train_split+validation_split) * dataset_size))\n",
    "if shuffle_dataset :\n",
    "    np.random.seed(random_seed)\n",
    "    np.random.shuffle(indices)\n",
    "train_indices, val_indices, test_indices =  indices[:split_train],indices[split_train:split_valid],indices[split_valid:]\n",
    "\n",
    "# Creating PT data samplers and loaders:\n",
    "train_sampler = SubsetRandomSampler(train_indices)\n",
    "valid_sampler = SubsetRandomSampler(val_indices)\n",
    "test_sampler = SubsetRandomSampler(test_indices)\n",
    "\n",
    "train_loader = torch.utils.data.DataLoader(CDL, batch_size=batch_size, sampler=train_sampler)\n",
    "valid_loader = torch.utils.data.DataLoader(CDL, batch_size=batch_size, sampler=valid_sampler)\n",
    "test_loader = torch.utils.data.DataLoader(CDL, batch_size=batch_size, sampler=test_sampler)"
   ]
  },
  {
   "cell_type": "code",
   "execution_count": 4,
   "metadata": {},
   "outputs": [],
   "source": [
    "tl = iter(train_loader)\n",
    "dat,_,_ = next(tl)\n",
    "bs, ts, C, H, W = dat.shape\n",
    "n_out = 1\n",
    "\n",
    "model = CNNLSTMNet(channels = C, ts = ts, n_out = n_out, device = device).to(device)\n",
    "optimizer = optim.SGD(model.parameters(), lr=0.1, momentum=0.9)\n",
    "scheduler = optim.lr_scheduler.MultiStepLR(optimizer, milestones=[100,150], gamma= 0.1)\n",
    "criterion = nn.MSELoss()  # this is for regression mean squared loss"
   ]
  },
  {
   "cell_type": "code",
   "execution_count": 5,
   "metadata": {},
   "outputs": [
    {
     "name": "stderr",
     "output_type": "stream",
     "text": [
      "Epoch [1/200]: 100%|██████████| 101/101 [00:20<00:00,  4.95it/s, batch_loss=1.9, running_loss=56.7]\n"
     ]
    },
    {
     "name": "stdout",
     "output_type": "stream",
     "text": [
      "Train Loss: 56.7326 | Valid Loss: inf ===========> 17.4122 | Test Loss: 20.0907 | Saving model...\n"
     ]
    },
    {
     "name": "stderr",
     "output_type": "stream",
     "text": [
      "Epoch [2/200]: 100%|██████████| 101/101 [00:20<00:00,  4.96it/s, batch_loss=0.249, running_loss=53.9]\n"
     ]
    },
    {
     "name": "stdout",
     "output_type": "stream",
     "text": [
      "Train Loss: 53.9170 | Valid Loss: 17.4122 ===========> 16.8004 | Test Loss: 19.5829 | Saving model...\n"
     ]
    },
    {
     "name": "stderr",
     "output_type": "stream",
     "text": [
      "Epoch [3/200]: 100%|██████████| 101/101 [00:20<00:00,  4.98it/s, batch_loss=0.242, running_loss=54.1]\n"
     ]
    },
    {
     "name": "stdout",
     "output_type": "stream",
     "text": [
      "Train Loss: 54.0709 | Valid Loss: 16.8004 ===========> 16.7744 | Test Loss: 19.7844 | Saving model...\n"
     ]
    },
    {
     "name": "stderr",
     "output_type": "stream",
     "text": [
      "Epoch [4/200]: 100%|██████████| 101/101 [00:20<00:00,  5.00it/s, batch_loss=0.681, running_loss=54.1]\n"
     ]
    },
    {
     "name": "stdout",
     "output_type": "stream",
     "text": [
      "Train Loss: 54.0832 | Valid Loss: 17.1525\n"
     ]
    },
    {
     "name": "stderr",
     "output_type": "stream",
     "text": [
      "Epoch [5/200]: 100%|██████████| 101/101 [00:20<00:00,  4.98it/s, batch_loss=0.44, running_loss=54]\n"
     ]
    },
    {
     "name": "stdout",
     "output_type": "stream",
     "text": [
      "Train Loss: 54.0007 | Valid Loss: 16.9230\n"
     ]
    },
    {
     "name": "stderr",
     "output_type": "stream",
     "text": [
      "Epoch [6/200]: 100%|██████████| 101/101 [00:20<00:00,  4.93it/s, batch_loss=0.181, running_loss=54.5]\n"
     ]
    },
    {
     "name": "stdout",
     "output_type": "stream",
     "text": [
      "Train Loss: 54.4677 | Valid Loss: 17.0199\n"
     ]
    },
    {
     "name": "stderr",
     "output_type": "stream",
     "text": [
      "Epoch [7/200]: 100%|██████████| 101/101 [00:20<00:00,  4.99it/s, batch_loss=0.38, running_loss=54.6]\n"
     ]
    },
    {
     "name": "stdout",
     "output_type": "stream",
     "text": [
      "Train Loss: 54.6006 | Valid Loss: 16.8209\n"
     ]
    },
    {
     "name": "stderr",
     "output_type": "stream",
     "text": [
      "Epoch [8/200]: 100%|██████████| 101/101 [00:20<00:00,  4.98it/s, batch_loss=0.518, running_loss=54.1]\n"
     ]
    },
    {
     "name": "stdout",
     "output_type": "stream",
     "text": [
      "Train Loss: 54.0928 | Valid Loss: 16.7744 ===========> 16.7535 | Test Loss: 19.4513 | Saving model...\n"
     ]
    },
    {
     "name": "stderr",
     "output_type": "stream",
     "text": [
      "Epoch [9/200]: 100%|██████████| 101/101 [00:20<00:00,  4.98it/s, batch_loss=0.261, running_loss=54.6]\n"
     ]
    },
    {
     "name": "stdout",
     "output_type": "stream",
     "text": [
      "Train Loss: 54.6371 | Valid Loss: 16.8977\n"
     ]
    },
    {
     "name": "stderr",
     "output_type": "stream",
     "text": [
      "Epoch [10/200]: 100%|██████████| 101/101 [00:19<00:00,  5.10it/s, batch_loss=0.822, running_loss=55.2]\n"
     ]
    },
    {
     "name": "stdout",
     "output_type": "stream",
     "text": [
      "Train Loss: 55.2084 | Valid Loss: 17.0122\n"
     ]
    },
    {
     "name": "stderr",
     "output_type": "stream",
     "text": [
      "Epoch [11/200]: 100%|██████████| 101/101 [00:19<00:00,  5.11it/s, batch_loss=0.4, running_loss=54.5]\n"
     ]
    },
    {
     "name": "stdout",
     "output_type": "stream",
     "text": [
      "Train Loss: 54.4588 | Valid Loss: 16.8699\n"
     ]
    },
    {
     "name": "stderr",
     "output_type": "stream",
     "text": [
      "Epoch [12/200]: 100%|██████████| 101/101 [00:19<00:00,  5.11it/s, batch_loss=0.287, running_loss=54.2]\n"
     ]
    },
    {
     "name": "stdout",
     "output_type": "stream",
     "text": [
      "Train Loss: 54.2102 | Valid Loss: 18.7684\n"
     ]
    },
    {
     "name": "stderr",
     "output_type": "stream",
     "text": [
      "Epoch [13/200]: 100%|██████████| 101/101 [00:19<00:00,  5.09it/s, batch_loss=0.24, running_loss=53.4]\n"
     ]
    },
    {
     "name": "stdout",
     "output_type": "stream",
     "text": [
      "Train Loss: 53.4232 | Valid Loss: 17.5349\n"
     ]
    },
    {
     "name": "stderr",
     "output_type": "stream",
     "text": [
      "Epoch [14/200]: 100%|██████████| 101/101 [00:19<00:00,  5.12it/s, batch_loss=0.357, running_loss=53.7]\n"
     ]
    },
    {
     "name": "stdout",
     "output_type": "stream",
     "text": [
      "Train Loss: 53.7434 | Valid Loss: 17.9794\n"
     ]
    },
    {
     "name": "stderr",
     "output_type": "stream",
     "text": [
      "Epoch [15/200]: 100%|██████████| 101/101 [00:19<00:00,  5.12it/s, batch_loss=0.722, running_loss=55.1]\n"
     ]
    },
    {
     "name": "stdout",
     "output_type": "stream",
     "text": [
      "Train Loss: 55.0826 | Valid Loss: 18.7712\n"
     ]
    },
    {
     "name": "stderr",
     "output_type": "stream",
     "text": [
      "Epoch [16/200]: 100%|██████████| 101/101 [00:19<00:00,  5.13it/s, batch_loss=0.417, running_loss=53.3]\n"
     ]
    },
    {
     "name": "stdout",
     "output_type": "stream",
     "text": [
      "Train Loss: 53.3025 | Valid Loss: 16.7535 ===========> 16.4856 | Test Loss: 19.1139 | Saving model...\n"
     ]
    },
    {
     "name": "stderr",
     "output_type": "stream",
     "text": [
      "Epoch [17/200]: 100%|██████████| 101/101 [00:19<00:00,  5.10it/s, batch_loss=0.416, running_loss=52.3]\n"
     ]
    },
    {
     "name": "stdout",
     "output_type": "stream",
     "text": [
      "Train Loss: 52.2730 | Valid Loss: 18.5601\n"
     ]
    },
    {
     "name": "stderr",
     "output_type": "stream",
     "text": [
      "Epoch [18/200]: 100%|██████████| 101/101 [00:19<00:00,  5.12it/s, batch_loss=0.403, running_loss=51.2]\n"
     ]
    },
    {
     "name": "stdout",
     "output_type": "stream",
     "text": [
      "Train Loss: 51.1764 | Valid Loss: 16.4856 ===========> 16.3243 | Test Loss: 19.0930 | Saving model...\n"
     ]
    },
    {
     "name": "stderr",
     "output_type": "stream",
     "text": [
      "Epoch [19/200]: 100%|██████████| 101/101 [00:19<00:00,  5.11it/s, batch_loss=0.542, running_loss=50.8]\n"
     ]
    },
    {
     "name": "stdout",
     "output_type": "stream",
     "text": [
      "Train Loss: 50.7738 | Valid Loss: 16.3243 ===========> 16.2354 | Test Loss: 19.0217 | Saving model...\n"
     ]
    },
    {
     "name": "stderr",
     "output_type": "stream",
     "text": [
      "Epoch [20/200]: 100%|██████████| 101/101 [00:19<00:00,  5.12it/s, batch_loss=0.269, running_loss=51.3]\n"
     ]
    },
    {
     "name": "stdout",
     "output_type": "stream",
     "text": [
      "Train Loss: 51.3371 | Valid Loss: 16.3908\n"
     ]
    },
    {
     "name": "stderr",
     "output_type": "stream",
     "text": [
      "Epoch [21/200]: 100%|██████████| 101/101 [00:19<00:00,  5.09it/s, batch_loss=0.454, running_loss=51.3]\n"
     ]
    },
    {
     "name": "stdout",
     "output_type": "stream",
     "text": [
      "Train Loss: 51.3025 | Valid Loss: 17.9039\n"
     ]
    },
    {
     "name": "stderr",
     "output_type": "stream",
     "text": [
      "Epoch [22/200]: 100%|██████████| 101/101 [00:19<00:00,  5.11it/s, batch_loss=0.244, running_loss=51]\n"
     ]
    },
    {
     "name": "stdout",
     "output_type": "stream",
     "text": [
      "Train Loss: 51.0300 | Valid Loss: 16.2931\n"
     ]
    },
    {
     "name": "stderr",
     "output_type": "stream",
     "text": [
      "Epoch [23/200]: 100%|██████████| 101/101 [00:19<00:00,  5.09it/s, batch_loss=0.794, running_loss=50.4]\n"
     ]
    },
    {
     "name": "stdout",
     "output_type": "stream",
     "text": [
      "Train Loss: 50.4499 | Valid Loss: 16.9186\n"
     ]
    },
    {
     "name": "stderr",
     "output_type": "stream",
     "text": [
      "Epoch [24/200]: 100%|██████████| 101/101 [00:19<00:00,  5.12it/s, batch_loss=0.276, running_loss=48.8]\n"
     ]
    },
    {
     "name": "stdout",
     "output_type": "stream",
     "text": [
      "Train Loss: 48.7877 | Valid Loss: 16.7690\n"
     ]
    },
    {
     "name": "stderr",
     "output_type": "stream",
     "text": [
      "Epoch [25/200]: 100%|██████████| 101/101 [00:19<00:00,  5.09it/s, batch_loss=0.282, running_loss=52.4]\n"
     ]
    },
    {
     "name": "stdout",
     "output_type": "stream",
     "text": [
      "Train Loss: 52.4053 | Valid Loss: 18.0628\n"
     ]
    },
    {
     "name": "stderr",
     "output_type": "stream",
     "text": [
      "Epoch [26/200]: 100%|██████████| 101/101 [00:19<00:00,  5.08it/s, batch_loss=0.274, running_loss=52.3]\n"
     ]
    },
    {
     "name": "stdout",
     "output_type": "stream",
     "text": [
      "Train Loss: 52.2639 | Valid Loss: 16.2354 ===========> 16.1538 | Test Loss: 18.3793 | Saving model...\n"
     ]
    },
    {
     "name": "stderr",
     "output_type": "stream",
     "text": [
      "Epoch [27/200]: 100%|██████████| 101/101 [00:19<00:00,  5.12it/s, batch_loss=0.422, running_loss=48.5]\n"
     ]
    },
    {
     "name": "stdout",
     "output_type": "stream",
     "text": [
      "Train Loss: 48.5317 | Valid Loss: 16.6762\n"
     ]
    },
    {
     "name": "stderr",
     "output_type": "stream",
     "text": [
      "Epoch [28/200]: 100%|██████████| 101/101 [00:19<00:00,  5.12it/s, batch_loss=0.378, running_loss=49.6]\n"
     ]
    },
    {
     "name": "stdout",
     "output_type": "stream",
     "text": [
      "Train Loss: 49.5973 | Valid Loss: 18.0065\n"
     ]
    },
    {
     "name": "stderr",
     "output_type": "stream",
     "text": [
      "Epoch [29/200]: 100%|██████████| 101/101 [00:19<00:00,  5.10it/s, batch_loss=0.233, running_loss=47.9]\n"
     ]
    },
    {
     "name": "stdout",
     "output_type": "stream",
     "text": [
      "Train Loss: 47.8690 | Valid Loss: 16.7141\n"
     ]
    },
    {
     "name": "stderr",
     "output_type": "stream",
     "text": [
      "Epoch [30/200]: 100%|██████████| 101/101 [00:19<00:00,  5.11it/s, batch_loss=0.308, running_loss=47.9]\n"
     ]
    },
    {
     "name": "stdout",
     "output_type": "stream",
     "text": [
      "Train Loss: 47.8687 | Valid Loss: 16.3253\n"
     ]
    },
    {
     "name": "stderr",
     "output_type": "stream",
     "text": [
      "Epoch [31/200]: 100%|██████████| 101/101 [00:19<00:00,  5.12it/s, batch_loss=0.263, running_loss=46.1]\n"
     ]
    },
    {
     "name": "stdout",
     "output_type": "stream",
     "text": [
      "Train Loss: 46.0649 | Valid Loss: 16.2974\n"
     ]
    },
    {
     "name": "stderr",
     "output_type": "stream",
     "text": [
      "Epoch [32/200]: 100%|██████████| 101/101 [00:19<00:00,  5.11it/s, batch_loss=0.641, running_loss=43.2]\n"
     ]
    },
    {
     "name": "stdout",
     "output_type": "stream",
     "text": [
      "Train Loss: 43.1548 | Valid Loss: 16.1538 ===========> 15.6927 | Test Loss: 18.5502 | Saving model...\n"
     ]
    },
    {
     "name": "stderr",
     "output_type": "stream",
     "text": [
      "Epoch [33/200]: 100%|██████████| 101/101 [00:19<00:00,  5.12it/s, batch_loss=0.825, running_loss=49.7]\n"
     ]
    },
    {
     "name": "stdout",
     "output_type": "stream",
     "text": [
      "Train Loss: 49.6624 | Valid Loss: 18.3296\n"
     ]
    },
    {
     "name": "stderr",
     "output_type": "stream",
     "text": [
      "Epoch [34/200]: 100%|██████████| 101/101 [00:19<00:00,  5.11it/s, batch_loss=1.17, running_loss=49.6]\n"
     ]
    },
    {
     "name": "stdout",
     "output_type": "stream",
     "text": [
      "Train Loss: 49.6482 | Valid Loss: 16.2344\n"
     ]
    },
    {
     "name": "stderr",
     "output_type": "stream",
     "text": [
      "Epoch [35/200]: 100%|██████████| 101/101 [00:19<00:00,  5.13it/s, batch_loss=0.325, running_loss=50]\n"
     ]
    },
    {
     "name": "stdout",
     "output_type": "stream",
     "text": [
      "Train Loss: 49.9640 | Valid Loss: 16.5283\n"
     ]
    },
    {
     "name": "stderr",
     "output_type": "stream",
     "text": [
      "Epoch [36/200]: 100%|██████████| 101/101 [00:19<00:00,  5.08it/s, batch_loss=0.268, running_loss=46.5]\n"
     ]
    },
    {
     "name": "stdout",
     "output_type": "stream",
     "text": [
      "Train Loss: 46.5196 | Valid Loss: 16.2712\n"
     ]
    },
    {
     "name": "stderr",
     "output_type": "stream",
     "text": [
      "Epoch [37/200]: 100%|██████████| 101/101 [00:19<00:00,  5.12it/s, batch_loss=0.761, running_loss=48.2]\n"
     ]
    },
    {
     "name": "stdout",
     "output_type": "stream",
     "text": [
      "Train Loss: 48.2237 | Valid Loss: 16.3735\n"
     ]
    },
    {
     "name": "stderr",
     "output_type": "stream",
     "text": [
      "Epoch [38/200]: 100%|██████████| 101/101 [00:19<00:00,  5.10it/s, batch_loss=0.261, running_loss=44.1]\n"
     ]
    },
    {
     "name": "stdout",
     "output_type": "stream",
     "text": [
      "Train Loss: 44.1262 | Valid Loss: 15.6959\n"
     ]
    },
    {
     "name": "stderr",
     "output_type": "stream",
     "text": [
      "Epoch [39/200]: 100%|██████████| 101/101 [00:19<00:00,  5.12it/s, batch_loss=0.225, running_loss=44.7]\n"
     ]
    },
    {
     "name": "stdout",
     "output_type": "stream",
     "text": [
      "Train Loss: 44.6900 | Valid Loss: 16.9617\n"
     ]
    },
    {
     "name": "stderr",
     "output_type": "stream",
     "text": [
      "Epoch [40/200]: 100%|██████████| 101/101 [00:19<00:00,  5.10it/s, batch_loss=0.295, running_loss=46.9]\n"
     ]
    },
    {
     "name": "stdout",
     "output_type": "stream",
     "text": [
      "Train Loss: 46.9377 | Valid Loss: 16.3390\n"
     ]
    },
    {
     "name": "stderr",
     "output_type": "stream",
     "text": [
      "Epoch [41/200]: 100%|██████████| 101/101 [00:19<00:00,  5.11it/s, batch_loss=0.495, running_loss=46.4]\n"
     ]
    },
    {
     "name": "stdout",
     "output_type": "stream",
     "text": [
      "Train Loss: 46.3709 | Valid Loss: 15.6927 ===========> 15.6274 | Test Loss: 17.9289 | Saving model...\n"
     ]
    },
    {
     "name": "stderr",
     "output_type": "stream",
     "text": [
      "Epoch [42/200]: 100%|██████████| 101/101 [00:19<00:00,  5.12it/s, batch_loss=0.379, running_loss=42.8]\n"
     ]
    },
    {
     "name": "stdout",
     "output_type": "stream",
     "text": [
      "Train Loss: 42.8466 | Valid Loss: 15.6365\n"
     ]
    },
    {
     "name": "stderr",
     "output_type": "stream",
     "text": [
      "Epoch [43/200]: 100%|██████████| 101/101 [00:19<00:00,  5.11it/s, batch_loss=0.118, running_loss=45.8]\n"
     ]
    },
    {
     "name": "stdout",
     "output_type": "stream",
     "text": [
      "Train Loss: 45.7626 | Valid Loss: 18.2608\n"
     ]
    },
    {
     "name": "stderr",
     "output_type": "stream",
     "text": [
      "Epoch [44/200]: 100%|██████████| 101/101 [00:19<00:00,  5.09it/s, batch_loss=0.207, running_loss=51.1]\n"
     ]
    },
    {
     "name": "stdout",
     "output_type": "stream",
     "text": [
      "Train Loss: 51.0846 | Valid Loss: 16.6741\n"
     ]
    },
    {
     "name": "stderr",
     "output_type": "stream",
     "text": [
      "Epoch [45/200]: 100%|██████████| 101/101 [00:19<00:00,  5.10it/s, batch_loss=0.939, running_loss=42.6]\n"
     ]
    },
    {
     "name": "stdout",
     "output_type": "stream",
     "text": [
      "Train Loss: 42.6041 | Valid Loss: 15.6274 ===========> 15.6139 | Test Loss: 18.0548 | Saving model...\n"
     ]
    },
    {
     "name": "stderr",
     "output_type": "stream",
     "text": [
      "Epoch [46/200]: 100%|██████████| 101/101 [00:19<00:00,  5.12it/s, batch_loss=0.678, running_loss=47.2]\n"
     ]
    },
    {
     "name": "stdout",
     "output_type": "stream",
     "text": [
      "Train Loss: 47.1897 | Valid Loss: 16.1906\n"
     ]
    },
    {
     "name": "stderr",
     "output_type": "stream",
     "text": [
      "Epoch [47/200]: 100%|██████████| 101/101 [00:19<00:00,  5.09it/s, batch_loss=0.46, running_loss=43.2]\n"
     ]
    },
    {
     "name": "stdout",
     "output_type": "stream",
     "text": [
      "Train Loss: 43.1936 | Valid Loss: 16.2142\n"
     ]
    },
    {
     "name": "stderr",
     "output_type": "stream",
     "text": [
      "Epoch [48/200]: 100%|██████████| 101/101 [00:19<00:00,  5.10it/s, batch_loss=0.302, running_loss=45.4]\n"
     ]
    },
    {
     "name": "stdout",
     "output_type": "stream",
     "text": [
      "Train Loss: 45.4163 | Valid Loss: 16.7607\n"
     ]
    },
    {
     "name": "stderr",
     "output_type": "stream",
     "text": [
      "Epoch [49/200]: 100%|██████████| 101/101 [00:19<00:00,  5.10it/s, batch_loss=0.32, running_loss=40.9]\n"
     ]
    },
    {
     "name": "stdout",
     "output_type": "stream",
     "text": [
      "Train Loss: 40.9348 | Valid Loss: 15.6139 ===========> 15.5269 | Test Loss: 17.9327 | Saving model...\n"
     ]
    },
    {
     "name": "stderr",
     "output_type": "stream",
     "text": [
      "Epoch [50/200]: 100%|██████████| 101/101 [00:19<00:00,  5.12it/s, batch_loss=0.618, running_loss=37.6]\n"
     ]
    },
    {
     "name": "stdout",
     "output_type": "stream",
     "text": [
      "Train Loss: 37.6269 | Valid Loss: 16.1844\n"
     ]
    },
    {
     "name": "stderr",
     "output_type": "stream",
     "text": [
      "Epoch [51/200]: 100%|██████████| 101/101 [00:19<00:00,  5.11it/s, batch_loss=0.267, running_loss=34.3]\n"
     ]
    },
    {
     "name": "stdout",
     "output_type": "stream",
     "text": [
      "Train Loss: 34.2861 | Valid Loss: 15.5269 ===========> 14.6147 | Test Loss: 16.9166 | Saving model...\n"
     ]
    },
    {
     "name": "stderr",
     "output_type": "stream",
     "text": [
      "Epoch [52/200]: 100%|██████████| 101/101 [00:19<00:00,  5.11it/s, batch_loss=0.197, running_loss=31.4]\n"
     ]
    },
    {
     "name": "stdout",
     "output_type": "stream",
     "text": [
      "Train Loss: 31.4283 | Valid Loss: 14.6147 ===========> 14.5044 | Test Loss: 16.9932 | Saving model...\n"
     ]
    },
    {
     "name": "stderr",
     "output_type": "stream",
     "text": [
      "Epoch [53/200]: 100%|██████████| 101/101 [00:19<00:00,  5.12it/s, batch_loss=0.662, running_loss=32.3]\n"
     ]
    },
    {
     "name": "stdout",
     "output_type": "stream",
     "text": [
      "Train Loss: 32.2978 | Valid Loss: 15.3966\n"
     ]
    },
    {
     "name": "stderr",
     "output_type": "stream",
     "text": [
      "Epoch [54/200]: 100%|██████████| 101/101 [00:19<00:00,  5.12it/s, batch_loss=0.507, running_loss=29.5]\n"
     ]
    },
    {
     "name": "stdout",
     "output_type": "stream",
     "text": [
      "Train Loss: 29.5241 | Valid Loss: 15.6892\n"
     ]
    },
    {
     "name": "stderr",
     "output_type": "stream",
     "text": [
      "Epoch [55/200]: 100%|██████████| 101/101 [00:19<00:00,  5.10it/s, batch_loss=0.114, running_loss=33]\n"
     ]
    },
    {
     "name": "stdout",
     "output_type": "stream",
     "text": [
      "Train Loss: 32.9555 | Valid Loss: 14.5044 ===========> 14.1039 | Test Loss: 16.4880 | Saving model...\n"
     ]
    },
    {
     "name": "stderr",
     "output_type": "stream",
     "text": [
      "Epoch [56/200]: 100%|██████████| 101/101 [00:19<00:00,  5.10it/s, batch_loss=0.184, running_loss=32]\n"
     ]
    },
    {
     "name": "stdout",
     "output_type": "stream",
     "text": [
      "Train Loss: 32.0359 | Valid Loss: 14.1039 ===========> 13.9846 | Test Loss: 16.6262 | Saving model...\n"
     ]
    },
    {
     "name": "stderr",
     "output_type": "stream",
     "text": [
      "Epoch [57/200]: 100%|██████████| 101/101 [00:19<00:00,  5.10it/s, batch_loss=0.416, running_loss=30.4]\n"
     ]
    },
    {
     "name": "stdout",
     "output_type": "stream",
     "text": [
      "Train Loss: 30.3621 | Valid Loss: 13.9846 ===========> 13.8349 | Test Loss: 15.9224 | Saving model...\n"
     ]
    },
    {
     "name": "stderr",
     "output_type": "stream",
     "text": [
      "Epoch [58/200]: 100%|██████████| 101/101 [00:19<00:00,  5.09it/s, batch_loss=0.218, running_loss=24]\n"
     ]
    },
    {
     "name": "stdout",
     "output_type": "stream",
     "text": [
      "Train Loss: 24.0429 | Valid Loss: 13.8349 ===========> 13.7463 | Test Loss: 15.2171 | Saving model...\n"
     ]
    },
    {
     "name": "stderr",
     "output_type": "stream",
     "text": [
      "Epoch [59/200]: 100%|██████████| 101/101 [00:19<00:00,  5.12it/s, batch_loss=0.18, running_loss=23]\n"
     ]
    },
    {
     "name": "stdout",
     "output_type": "stream",
     "text": [
      "Train Loss: 23.0380 | Valid Loss: 13.7463 ===========> 13.1184 | Test Loss: 14.9676 | Saving model...\n"
     ]
    },
    {
     "name": "stderr",
     "output_type": "stream",
     "text": [
      "Epoch [60/200]: 100%|██████████| 101/101 [00:19<00:00,  5.11it/s, batch_loss=0.148, running_loss=20.4]\n"
     ]
    },
    {
     "name": "stdout",
     "output_type": "stream",
     "text": [
      "Train Loss: 20.4494 | Valid Loss: 13.1184 ===========> 12.8472 | Test Loss: 15.0122 | Saving model...\n"
     ]
    },
    {
     "name": "stderr",
     "output_type": "stream",
     "text": [
      "Epoch [61/200]: 100%|██████████| 101/101 [00:19<00:00,  5.11it/s, batch_loss=0.147, running_loss=18.9]\n"
     ]
    },
    {
     "name": "stdout",
     "output_type": "stream",
     "text": [
      "Train Loss: 18.8696 | Valid Loss: 13.5297\n"
     ]
    },
    {
     "name": "stderr",
     "output_type": "stream",
     "text": [
      "Epoch [62/200]: 100%|██████████| 101/101 [00:19<00:00,  5.10it/s, batch_loss=0.115, running_loss=17.4]\n"
     ]
    },
    {
     "name": "stdout",
     "output_type": "stream",
     "text": [
      "Train Loss: 17.4405 | Valid Loss: 12.8472 ===========> 12.7220 | Test Loss: 14.3929 | Saving model...\n"
     ]
    },
    {
     "name": "stderr",
     "output_type": "stream",
     "text": [
      "Epoch [63/200]: 100%|██████████| 101/101 [00:19<00:00,  5.12it/s, batch_loss=0.233, running_loss=16.1]\n"
     ]
    },
    {
     "name": "stdout",
     "output_type": "stream",
     "text": [
      "Train Loss: 16.0770 | Valid Loss: 12.7220 ===========> 12.4522 | Test Loss: 13.5415 | Saving model...\n"
     ]
    },
    {
     "name": "stderr",
     "output_type": "stream",
     "text": [
      "Epoch [64/200]: 100%|██████████| 101/101 [00:19<00:00,  5.08it/s, batch_loss=0.108, running_loss=14.4]\n"
     ]
    },
    {
     "name": "stdout",
     "output_type": "stream",
     "text": [
      "Train Loss: 14.4054 | Valid Loss: 12.4522 ===========> 11.9335 | Test Loss: 13.5589 | Saving model...\n"
     ]
    },
    {
     "name": "stderr",
     "output_type": "stream",
     "text": [
      "Epoch [65/200]: 100%|██████████| 101/101 [00:19<00:00,  5.11it/s, batch_loss=0.113, running_loss=12.4]\n"
     ]
    },
    {
     "name": "stdout",
     "output_type": "stream",
     "text": [
      "Train Loss: 12.3913 | Valid Loss: 12.7347\n"
     ]
    },
    {
     "name": "stderr",
     "output_type": "stream",
     "text": [
      "Epoch [66/200]: 100%|██████████| 101/101 [00:19<00:00,  5.09it/s, batch_loss=0.0995, running_loss=12.7]\n"
     ]
    },
    {
     "name": "stdout",
     "output_type": "stream",
     "text": [
      "Train Loss: 12.6583 | Valid Loss: 12.2823\n"
     ]
    },
    {
     "name": "stderr",
     "output_type": "stream",
     "text": [
      "Epoch [67/200]: 100%|██████████| 101/101 [00:19<00:00,  5.10it/s, batch_loss=0.126, running_loss=10.4]\n"
     ]
    },
    {
     "name": "stdout",
     "output_type": "stream",
     "text": [
      "Train Loss: 10.3661 | Valid Loss: 11.9335 ===========> 11.7895 | Test Loss: 12.3015 | Saving model...\n"
     ]
    },
    {
     "name": "stderr",
     "output_type": "stream",
     "text": [
      "Epoch [68/200]: 100%|██████████| 101/101 [00:19<00:00,  5.09it/s, batch_loss=0.0681, running_loss=9.04]\n"
     ]
    },
    {
     "name": "stdout",
     "output_type": "stream",
     "text": [
      "Train Loss: 9.0429 | Valid Loss: 11.8210\n"
     ]
    },
    {
     "name": "stderr",
     "output_type": "stream",
     "text": [
      "Epoch [69/200]: 100%|██████████| 101/101 [00:19<00:00,  5.10it/s, batch_loss=0.0524, running_loss=8.45]\n"
     ]
    },
    {
     "name": "stdout",
     "output_type": "stream",
     "text": [
      "Train Loss: 8.4468 | Valid Loss: 11.7895 ===========> 11.0342 | Test Loss: 12.9102 | Saving model...\n"
     ]
    },
    {
     "name": "stderr",
     "output_type": "stream",
     "text": [
      "Epoch [70/200]: 100%|██████████| 101/101 [00:19<00:00,  5.12it/s, batch_loss=0.107, running_loss=7.57]\n"
     ]
    },
    {
     "name": "stdout",
     "output_type": "stream",
     "text": [
      "Train Loss: 7.5660 | Valid Loss: 11.7901\n"
     ]
    },
    {
     "name": "stderr",
     "output_type": "stream",
     "text": [
      "Epoch [71/200]: 100%|██████████| 101/101 [00:19<00:00,  5.11it/s, batch_loss=0.0602, running_loss=6.76]\n"
     ]
    },
    {
     "name": "stdout",
     "output_type": "stream",
     "text": [
      "Train Loss: 6.7564 | Valid Loss: 12.1183\n"
     ]
    },
    {
     "name": "stderr",
     "output_type": "stream",
     "text": [
      "Epoch [72/200]: 100%|██████████| 101/101 [00:19<00:00,  5.12it/s, batch_loss=0.057, running_loss=6.43]\n"
     ]
    },
    {
     "name": "stdout",
     "output_type": "stream",
     "text": [
      "Train Loss: 6.4304 | Valid Loss: 11.0764\n"
     ]
    },
    {
     "name": "stderr",
     "output_type": "stream",
     "text": [
      "Epoch [73/200]: 100%|██████████| 101/101 [00:19<00:00,  5.11it/s, batch_loss=0.0662, running_loss=6.09]\n"
     ]
    },
    {
     "name": "stdout",
     "output_type": "stream",
     "text": [
      "Train Loss: 6.0943 | Valid Loss: 11.0342 ===========> 10.7508 | Test Loss: 11.8909 | Saving model...\n"
     ]
    },
    {
     "name": "stderr",
     "output_type": "stream",
     "text": [
      "Epoch [74/200]: 100%|██████████| 101/101 [00:19<00:00,  5.10it/s, batch_loss=0.0456, running_loss=5.97]\n"
     ]
    },
    {
     "name": "stdout",
     "output_type": "stream",
     "text": [
      "Train Loss: 5.9654 | Valid Loss: 10.7508 ===========> 10.6328 | Test Loss: 11.2109 | Saving model...\n"
     ]
    },
    {
     "name": "stderr",
     "output_type": "stream",
     "text": [
      "Epoch [75/200]: 100%|██████████| 101/101 [00:19<00:00,  5.10it/s, batch_loss=0.0487, running_loss=5.22]\n"
     ]
    },
    {
     "name": "stdout",
     "output_type": "stream",
     "text": [
      "Train Loss: 5.2202 | Valid Loss: 10.8249\n"
     ]
    },
    {
     "name": "stderr",
     "output_type": "stream",
     "text": [
      "Epoch [76/200]: 100%|██████████| 101/101 [00:19<00:00,  5.12it/s, batch_loss=0.0797, running_loss=4.67]\n"
     ]
    },
    {
     "name": "stdout",
     "output_type": "stream",
     "text": [
      "Train Loss: 4.6705 | Valid Loss: 10.6837\n"
     ]
    },
    {
     "name": "stderr",
     "output_type": "stream",
     "text": [
      "Epoch [77/200]: 100%|██████████| 101/101 [00:19<00:00,  5.10it/s, batch_loss=0.0744, running_loss=4.81]\n"
     ]
    },
    {
     "name": "stdout",
     "output_type": "stream",
     "text": [
      "Train Loss: 4.8069 | Valid Loss: 10.6957\n"
     ]
    },
    {
     "name": "stderr",
     "output_type": "stream",
     "text": [
      "Epoch [78/200]: 100%|██████████| 101/101 [00:19<00:00,  5.09it/s, batch_loss=0.0367, running_loss=4.29]\n"
     ]
    },
    {
     "name": "stdout",
     "output_type": "stream",
     "text": [
      "Train Loss: 4.2911 | Valid Loss: 10.6328 ===========> 10.1507 | Test Loss: 11.6645 | Saving model...\n"
     ]
    },
    {
     "name": "stderr",
     "output_type": "stream",
     "text": [
      "Epoch [79/200]: 100%|██████████| 101/101 [00:19<00:00,  5.10it/s, batch_loss=0.0602, running_loss=4.09]\n"
     ]
    },
    {
     "name": "stdout",
     "output_type": "stream",
     "text": [
      "Train Loss: 4.0851 | Valid Loss: 10.6033\n"
     ]
    },
    {
     "name": "stderr",
     "output_type": "stream",
     "text": [
      "Epoch [80/200]: 100%|██████████| 101/101 [00:19<00:00,  5.10it/s, batch_loss=0.0294, running_loss=3.96]\n"
     ]
    },
    {
     "name": "stdout",
     "output_type": "stream",
     "text": [
      "Train Loss: 3.9649 | Valid Loss: 10.7054\n"
     ]
    },
    {
     "name": "stderr",
     "output_type": "stream",
     "text": [
      "Epoch [81/200]: 100%|██████████| 101/101 [00:19<00:00,  5.12it/s, batch_loss=0.0351, running_loss=3.67]\n"
     ]
    },
    {
     "name": "stdout",
     "output_type": "stream",
     "text": [
      "Train Loss: 3.6698 | Valid Loss: 10.2955\n"
     ]
    },
    {
     "name": "stderr",
     "output_type": "stream",
     "text": [
      "Epoch [82/200]: 100%|██████████| 101/101 [00:19<00:00,  5.10it/s, batch_loss=0.0364, running_loss=3.7]\n"
     ]
    },
    {
     "name": "stdout",
     "output_type": "stream",
     "text": [
      "Train Loss: 3.6998 | Valid Loss: 10.1732\n"
     ]
    },
    {
     "name": "stderr",
     "output_type": "stream",
     "text": [
      "Epoch [83/200]: 100%|██████████| 101/101 [00:19<00:00,  5.10it/s, batch_loss=0.0277, running_loss=3.42]\n"
     ]
    },
    {
     "name": "stdout",
     "output_type": "stream",
     "text": [
      "Train Loss: 3.4225 | Valid Loss: 10.7848\n"
     ]
    },
    {
     "name": "stderr",
     "output_type": "stream",
     "text": [
      "Epoch [84/200]: 100%|██████████| 101/101 [00:19<00:00,  5.11it/s, batch_loss=0.0211, running_loss=3.07]\n"
     ]
    },
    {
     "name": "stdout",
     "output_type": "stream",
     "text": [
      "Train Loss: 3.0658 | Valid Loss: 10.6169\n"
     ]
    },
    {
     "name": "stderr",
     "output_type": "stream",
     "text": [
      "Epoch [85/200]: 100%|██████████| 101/101 [00:19<00:00,  5.08it/s, batch_loss=0.0225, running_loss=2.88]\n"
     ]
    },
    {
     "name": "stdout",
     "output_type": "stream",
     "text": [
      "Train Loss: 2.8832 | Valid Loss: 10.3970\n"
     ]
    },
    {
     "name": "stderr",
     "output_type": "stream",
     "text": [
      "Epoch [86/200]: 100%|██████████| 101/101 [00:19<00:00,  5.12it/s, batch_loss=0.0642, running_loss=2.84]\n"
     ]
    },
    {
     "name": "stdout",
     "output_type": "stream",
     "text": [
      "Train Loss: 2.8446 | Valid Loss: 10.3540\n"
     ]
    },
    {
     "name": "stderr",
     "output_type": "stream",
     "text": [
      "Epoch [87/200]: 100%|██████████| 101/101 [00:19<00:00,  5.12it/s, batch_loss=0.0164, running_loss=3.2]\n"
     ]
    },
    {
     "name": "stdout",
     "output_type": "stream",
     "text": [
      "Train Loss: 3.1979 | Valid Loss: 10.1507 ===========> 9.9541 | Test Loss: 11.4291 | Saving model...\n"
     ]
    },
    {
     "name": "stderr",
     "output_type": "stream",
     "text": [
      "Epoch [88/200]: 100%|██████████| 101/101 [00:19<00:00,  5.11it/s, batch_loss=0.0463, running_loss=2.6]\n"
     ]
    },
    {
     "name": "stdout",
     "output_type": "stream",
     "text": [
      "Train Loss: 2.6023 | Valid Loss: 10.1579\n"
     ]
    },
    {
     "name": "stderr",
     "output_type": "stream",
     "text": [
      "Epoch [89/200]: 100%|██████████| 101/101 [00:19<00:00,  5.10it/s, batch_loss=0.0322, running_loss=2.64]\n"
     ]
    },
    {
     "name": "stdout",
     "output_type": "stream",
     "text": [
      "Train Loss: 2.6356 | Valid Loss: 10.0298\n"
     ]
    },
    {
     "name": "stderr",
     "output_type": "stream",
     "text": [
      "Epoch [90/200]: 100%|██████████| 101/101 [00:19<00:00,  5.08it/s, batch_loss=0.038, running_loss=2.54]\n"
     ]
    },
    {
     "name": "stdout",
     "output_type": "stream",
     "text": [
      "Train Loss: 2.5406 | Valid Loss: 10.1808\n"
     ]
    },
    {
     "name": "stderr",
     "output_type": "stream",
     "text": [
      "Epoch [91/200]: 100%|██████████| 101/101 [00:19<00:00,  5.11it/s, batch_loss=0.0398, running_loss=2.48]\n"
     ]
    },
    {
     "name": "stdout",
     "output_type": "stream",
     "text": [
      "Train Loss: 2.4810 | Valid Loss: 10.3485\n"
     ]
    },
    {
     "name": "stderr",
     "output_type": "stream",
     "text": [
      "Epoch [92/200]: 100%|██████████| 101/101 [00:19<00:00,  5.09it/s, batch_loss=0.0362, running_loss=2.48]\n"
     ]
    },
    {
     "name": "stdout",
     "output_type": "stream",
     "text": [
      "Train Loss: 2.4762 | Valid Loss: 10.2085\n"
     ]
    },
    {
     "name": "stderr",
     "output_type": "stream",
     "text": [
      "Epoch [93/200]: 100%|██████████| 101/101 [00:19<00:00,  5.08it/s, batch_loss=0.01, running_loss=2.51]\n"
     ]
    },
    {
     "name": "stdout",
     "output_type": "stream",
     "text": [
      "Train Loss: 2.5062 | Valid Loss: 9.9804\n"
     ]
    },
    {
     "name": "stderr",
     "output_type": "stream",
     "text": [
      "Epoch [94/200]: 100%|██████████| 101/101 [00:19<00:00,  5.09it/s, batch_loss=0.0216, running_loss=2.52]\n"
     ]
    },
    {
     "name": "stdout",
     "output_type": "stream",
     "text": [
      "Train Loss: 2.5174 | Valid Loss: 10.2782\n"
     ]
    },
    {
     "name": "stderr",
     "output_type": "stream",
     "text": [
      "Epoch [95/200]: 100%|██████████| 101/101 [00:19<00:00,  5.11it/s, batch_loss=0.0244, running_loss=2.38]\n"
     ]
    },
    {
     "name": "stdout",
     "output_type": "stream",
     "text": [
      "Train Loss: 2.3831 | Valid Loss: 9.9541 ===========> 9.5797 | Test Loss: 10.6965 | Saving model...\n"
     ]
    },
    {
     "name": "stderr",
     "output_type": "stream",
     "text": [
      "Epoch [96/200]: 100%|██████████| 101/101 [00:19<00:00,  5.11it/s, batch_loss=0.015, running_loss=2.13]\n"
     ]
    },
    {
     "name": "stdout",
     "output_type": "stream",
     "text": [
      "Train Loss: 2.1286 | Valid Loss: 9.8626\n"
     ]
    },
    {
     "name": "stderr",
     "output_type": "stream",
     "text": [
      "Epoch [97/200]: 100%|██████████| 101/101 [00:19<00:00,  5.11it/s, batch_loss=0.0212, running_loss=2.07]\n"
     ]
    },
    {
     "name": "stdout",
     "output_type": "stream",
     "text": [
      "Train Loss: 2.0709 | Valid Loss: 9.8344\n"
     ]
    },
    {
     "name": "stderr",
     "output_type": "stream",
     "text": [
      "Epoch [98/200]: 100%|██████████| 101/101 [00:19<00:00,  5.09it/s, batch_loss=0.0146, running_loss=2.07]\n"
     ]
    },
    {
     "name": "stdout",
     "output_type": "stream",
     "text": [
      "Train Loss: 2.0659 | Valid Loss: 9.9618\n"
     ]
    },
    {
     "name": "stderr",
     "output_type": "stream",
     "text": [
      "Epoch [99/200]: 100%|██████████| 101/101 [00:19<00:00,  5.11it/s, batch_loss=0.0183, running_loss=2]\n"
     ]
    },
    {
     "name": "stdout",
     "output_type": "stream",
     "text": [
      "Train Loss: 1.9979 | Valid Loss: 9.8207\n"
     ]
    },
    {
     "name": "stderr",
     "output_type": "stream",
     "text": [
      "Epoch [100/200]: 100%|██████████| 101/101 [00:19<00:00,  5.10it/s, batch_loss=0.00925, running_loss=1.83]\n"
     ]
    },
    {
     "name": "stdout",
     "output_type": "stream",
     "text": [
      "Train Loss: 1.8266 | Valid Loss: 9.9780\n"
     ]
    },
    {
     "name": "stderr",
     "output_type": "stream",
     "text": [
      "Epoch [101/200]: 100%|██████████| 101/101 [00:19<00:00,  5.11it/s, batch_loss=0.0182, running_loss=1.61]\n"
     ]
    },
    {
     "name": "stdout",
     "output_type": "stream",
     "text": [
      "Train Loss: 1.6089 | Valid Loss: 9.7320\n"
     ]
    },
    {
     "name": "stderr",
     "output_type": "stream",
     "text": [
      "Epoch [102/200]: 100%|██████████| 101/101 [00:19<00:00,  5.12it/s, batch_loss=0.0196, running_loss=1.51]\n"
     ]
    },
    {
     "name": "stdout",
     "output_type": "stream",
     "text": [
      "Train Loss: 1.5126 | Valid Loss: 9.6500\n"
     ]
    },
    {
     "name": "stderr",
     "output_type": "stream",
     "text": [
      "Epoch [103/200]: 100%|██████████| 101/101 [00:19<00:00,  5.10it/s, batch_loss=0.0232, running_loss=1.47]\n"
     ]
    },
    {
     "name": "stdout",
     "output_type": "stream",
     "text": [
      "Train Loss: 1.4690 | Valid Loss: 9.6148\n"
     ]
    },
    {
     "name": "stderr",
     "output_type": "stream",
     "text": [
      "Epoch [104/200]: 100%|██████████| 101/101 [00:19<00:00,  5.10it/s, batch_loss=0.0136, running_loss=1.44]\n"
     ]
    },
    {
     "name": "stdout",
     "output_type": "stream",
     "text": [
      "Train Loss: 1.4384 | Valid Loss: 9.6628\n"
     ]
    },
    {
     "name": "stderr",
     "output_type": "stream",
     "text": [
      "Epoch [105/200]: 100%|██████████| 101/101 [00:19<00:00,  5.08it/s, batch_loss=0.0112, running_loss=1.44]\n"
     ]
    },
    {
     "name": "stdout",
     "output_type": "stream",
     "text": [
      "Train Loss: 1.4384 | Valid Loss: 9.7161\n"
     ]
    },
    {
     "name": "stderr",
     "output_type": "stream",
     "text": [
      "Epoch [106/200]: 100%|██████████| 101/101 [00:19<00:00,  5.09it/s, batch_loss=0.0095, running_loss=1.47]\n"
     ]
    },
    {
     "name": "stdout",
     "output_type": "stream",
     "text": [
      "Train Loss: 1.4705 | Valid Loss: 9.6457\n"
     ]
    },
    {
     "name": "stderr",
     "output_type": "stream",
     "text": [
      "Epoch [107/200]: 100%|██████████| 101/101 [00:19<00:00,  5.09it/s, batch_loss=0.0134, running_loss=1.39]\n"
     ]
    },
    {
     "name": "stdout",
     "output_type": "stream",
     "text": [
      "Train Loss: 1.3901 | Valid Loss: 9.8067\n"
     ]
    },
    {
     "name": "stderr",
     "output_type": "stream",
     "text": [
      "Epoch [108/200]: 100%|██████████| 101/101 [00:19<00:00,  5.09it/s, batch_loss=0.00936, running_loss=1.41]\n"
     ]
    },
    {
     "name": "stdout",
     "output_type": "stream",
     "text": [
      "Train Loss: 1.4109 | Valid Loss: 9.5988\n"
     ]
    },
    {
     "name": "stderr",
     "output_type": "stream",
     "text": [
      "Epoch [109/200]: 100%|██████████| 101/101 [00:19<00:00,  5.10it/s, batch_loss=0.0151, running_loss=1.33]\n"
     ]
    },
    {
     "name": "stdout",
     "output_type": "stream",
     "text": [
      "Train Loss: 1.3322 | Valid Loss: 9.6706\n"
     ]
    },
    {
     "name": "stderr",
     "output_type": "stream",
     "text": [
      "Epoch [110/200]: 100%|██████████| 101/101 [00:19<00:00,  5.11it/s, batch_loss=0.0126, running_loss=1.33]\n"
     ]
    },
    {
     "name": "stdout",
     "output_type": "stream",
     "text": [
      "Train Loss: 1.3271 | Valid Loss: 9.6016\n"
     ]
    },
    {
     "name": "stderr",
     "output_type": "stream",
     "text": [
      "Epoch [111/200]: 100%|██████████| 101/101 [00:19<00:00,  5.10it/s, batch_loss=0.0179, running_loss=1.32]\n"
     ]
    },
    {
     "name": "stdout",
     "output_type": "stream",
     "text": [
      "Train Loss: 1.3160 | Valid Loss: 9.6906\n"
     ]
    },
    {
     "name": "stderr",
     "output_type": "stream",
     "text": [
      "Epoch [112/200]: 100%|██████████| 101/101 [00:19<00:00,  5.13it/s, batch_loss=0.0144, running_loss=1.36]\n"
     ]
    },
    {
     "name": "stdout",
     "output_type": "stream",
     "text": [
      "Train Loss: 1.3553 | Valid Loss: 10.2100\n"
     ]
    },
    {
     "name": "stderr",
     "output_type": "stream",
     "text": [
      "Epoch [113/200]: 100%|██████████| 101/101 [00:19<00:00,  5.09it/s, batch_loss=0.016, running_loss=1.35]\n"
     ]
    },
    {
     "name": "stdout",
     "output_type": "stream",
     "text": [
      "Train Loss: 1.3467 | Valid Loss: 9.6349\n"
     ]
    },
    {
     "name": "stderr",
     "output_type": "stream",
     "text": [
      "Epoch [114/200]: 100%|██████████| 101/101 [00:19<00:00,  5.10it/s, batch_loss=0.0367, running_loss=1.36]\n"
     ]
    },
    {
     "name": "stdout",
     "output_type": "stream",
     "text": [
      "Train Loss: 1.3589 | Valid Loss: 9.7385\n"
     ]
    },
    {
     "name": "stderr",
     "output_type": "stream",
     "text": [
      "Epoch [115/200]: 100%|██████████| 101/101 [00:19<00:00,  5.11it/s, batch_loss=0.0136, running_loss=1.29]\n"
     ]
    },
    {
     "name": "stdout",
     "output_type": "stream",
     "text": [
      "Train Loss: 1.2902 | Valid Loss: 9.7023\n"
     ]
    },
    {
     "name": "stderr",
     "output_type": "stream",
     "text": [
      "Epoch [116/200]: 100%|██████████| 101/101 [00:19<00:00,  5.08it/s, batch_loss=0.00903, running_loss=1.31]\n"
     ]
    },
    {
     "name": "stdout",
     "output_type": "stream",
     "text": [
      "Train Loss: 1.3098 | Valid Loss: 9.7679\n"
     ]
    },
    {
     "name": "stderr",
     "output_type": "stream",
     "text": [
      "Epoch [117/200]: 100%|██████████| 101/101 [00:19<00:00,  5.10it/s, batch_loss=0.0134, running_loss=1.35]\n"
     ]
    },
    {
     "name": "stdout",
     "output_type": "stream",
     "text": [
      "Train Loss: 1.3479 | Valid Loss: 9.6360\n"
     ]
    },
    {
     "name": "stderr",
     "output_type": "stream",
     "text": [
      "Epoch [118/200]: 100%|██████████| 101/101 [00:19<00:00,  5.09it/s, batch_loss=0.0102, running_loss=1.27]\n"
     ]
    },
    {
     "name": "stdout",
     "output_type": "stream",
     "text": [
      "Train Loss: 1.2730 | Valid Loss: 9.5797 ===========> 9.5542 | Test Loss: 10.7216 | Saving model...\n"
     ]
    },
    {
     "name": "stderr",
     "output_type": "stream",
     "text": [
      "Epoch [119/200]: 100%|██████████| 101/101 [00:19<00:00,  5.10it/s, batch_loss=0.0106, running_loss=1.29]\n"
     ]
    },
    {
     "name": "stdout",
     "output_type": "stream",
     "text": [
      "Train Loss: 1.2860 | Valid Loss: 9.6250\n"
     ]
    },
    {
     "name": "stderr",
     "output_type": "stream",
     "text": [
      "Epoch [120/200]: 100%|██████████| 101/101 [00:19<00:00,  5.09it/s, batch_loss=0.00845, running_loss=1.3]\n"
     ]
    },
    {
     "name": "stdout",
     "output_type": "stream",
     "text": [
      "Train Loss: 1.2978 | Valid Loss: 9.6264\n"
     ]
    },
    {
     "name": "stderr",
     "output_type": "stream",
     "text": [
      "Epoch [121/200]: 100%|██████████| 101/101 [00:19<00:00,  5.11it/s, batch_loss=0.0198, running_loss=1.23]\n"
     ]
    },
    {
     "name": "stdout",
     "output_type": "stream",
     "text": [
      "Train Loss: 1.2333 | Valid Loss: 9.6214\n"
     ]
    },
    {
     "name": "stderr",
     "output_type": "stream",
     "text": [
      "Epoch [122/200]: 100%|██████████| 101/101 [00:19<00:00,  5.10it/s, batch_loss=0.0164, running_loss=1.31]\n"
     ]
    },
    {
     "name": "stdout",
     "output_type": "stream",
     "text": [
      "Train Loss: 1.3063 | Valid Loss: 9.7232\n"
     ]
    },
    {
     "name": "stderr",
     "output_type": "stream",
     "text": [
      "Epoch [123/200]: 100%|██████████| 101/101 [00:19<00:00,  5.10it/s, batch_loss=0.0118, running_loss=1.27]\n"
     ]
    },
    {
     "name": "stdout",
     "output_type": "stream",
     "text": [
      "Train Loss: 1.2721 | Valid Loss: 9.7137\n"
     ]
    },
    {
     "name": "stderr",
     "output_type": "stream",
     "text": [
      "Epoch [124/200]: 100%|██████████| 101/101 [00:19<00:00,  5.10it/s, batch_loss=0.0098, running_loss=1.3]\n"
     ]
    },
    {
     "name": "stdout",
     "output_type": "stream",
     "text": [
      "Train Loss: 1.2953 | Valid Loss: 9.6542\n"
     ]
    },
    {
     "name": "stderr",
     "output_type": "stream",
     "text": [
      "Epoch [125/200]: 100%|██████████| 101/101 [00:19<00:00,  5.10it/s, batch_loss=0.0137, running_loss=1.31]\n"
     ]
    },
    {
     "name": "stdout",
     "output_type": "stream",
     "text": [
      "Train Loss: 1.3071 | Valid Loss: 9.5911\n"
     ]
    },
    {
     "name": "stderr",
     "output_type": "stream",
     "text": [
      "Epoch [126/200]: 100%|██████████| 101/101 [00:19<00:00,  5.09it/s, batch_loss=0.0184, running_loss=1.27]\n"
     ]
    },
    {
     "name": "stdout",
     "output_type": "stream",
     "text": [
      "Train Loss: 1.2716 | Valid Loss: 9.7672\n"
     ]
    },
    {
     "name": "stderr",
     "output_type": "stream",
     "text": [
      "Epoch [127/200]: 100%|██████████| 101/101 [00:19<00:00,  5.08it/s, batch_loss=0.0161, running_loss=1.26]\n"
     ]
    },
    {
     "name": "stdout",
     "output_type": "stream",
     "text": [
      "Train Loss: 1.2574 | Valid Loss: 9.6746\n"
     ]
    },
    {
     "name": "stderr",
     "output_type": "stream",
     "text": [
      "Epoch [128/200]: 100%|██████████| 101/101 [00:19<00:00,  5.08it/s, batch_loss=0.0156, running_loss=1.23]\n"
     ]
    },
    {
     "name": "stdout",
     "output_type": "stream",
     "text": [
      "Train Loss: 1.2285 | Valid Loss: 9.7029\n"
     ]
    },
    {
     "name": "stderr",
     "output_type": "stream",
     "text": [
      "Epoch [129/200]: 100%|██████████| 101/101 [00:19<00:00,  5.08it/s, batch_loss=0.00716, running_loss=1.29]\n"
     ]
    },
    {
     "name": "stdout",
     "output_type": "stream",
     "text": [
      "Train Loss: 1.2921 | Valid Loss: 9.6163\n"
     ]
    },
    {
     "name": "stderr",
     "output_type": "stream",
     "text": [
      "Epoch [130/200]: 100%|██████████| 101/101 [00:20<00:00,  4.98it/s, batch_loss=0.0182, running_loss=1.24]\n"
     ]
    },
    {
     "name": "stdout",
     "output_type": "stream",
     "text": [
      "Train Loss: 1.2388 | Valid Loss: 9.9640\n"
     ]
    },
    {
     "name": "stderr",
     "output_type": "stream",
     "text": [
      "Epoch [131/200]: 100%|██████████| 101/101 [00:19<00:00,  5.10it/s, batch_loss=0.0312, running_loss=1.23]\n"
     ]
    },
    {
     "name": "stdout",
     "output_type": "stream",
     "text": [
      "Train Loss: 1.2309 | Valid Loss: 9.8649\n"
     ]
    },
    {
     "name": "stderr",
     "output_type": "stream",
     "text": [
      "Epoch [132/200]: 100%|██████████| 101/101 [00:19<00:00,  5.10it/s, batch_loss=0.00628, running_loss=1.2]\n"
     ]
    },
    {
     "name": "stdout",
     "output_type": "stream",
     "text": [
      "Train Loss: 1.1988 | Valid Loss: 9.6786\n"
     ]
    },
    {
     "name": "stderr",
     "output_type": "stream",
     "text": [
      "Epoch [133/200]: 100%|██████████| 101/101 [00:19<00:00,  5.12it/s, batch_loss=0.0114, running_loss=1.28]\n"
     ]
    },
    {
     "name": "stdout",
     "output_type": "stream",
     "text": [
      "Train Loss: 1.2760 | Valid Loss: 9.8059\n"
     ]
    },
    {
     "name": "stderr",
     "output_type": "stream",
     "text": [
      "Epoch [134/200]: 100%|██████████| 101/101 [00:19<00:00,  5.11it/s, batch_loss=0.00448, running_loss=1.22]\n"
     ]
    },
    {
     "name": "stdout",
     "output_type": "stream",
     "text": [
      "Train Loss: 1.2248 | Valid Loss: 9.6753\n"
     ]
    },
    {
     "name": "stderr",
     "output_type": "stream",
     "text": [
      "Epoch [135/200]: 100%|██████████| 101/101 [00:19<00:00,  5.09it/s, batch_loss=0.0106, running_loss=1.21]\n"
     ]
    },
    {
     "name": "stdout",
     "output_type": "stream",
     "text": [
      "Train Loss: 1.2065 | Valid Loss: 9.7946\n"
     ]
    },
    {
     "name": "stderr",
     "output_type": "stream",
     "text": [
      "Epoch [136/200]: 100%|██████████| 101/101 [00:19<00:00,  5.10it/s, batch_loss=0.0161, running_loss=1.26]\n"
     ]
    },
    {
     "name": "stdout",
     "output_type": "stream",
     "text": [
      "Train Loss: 1.2558 | Valid Loss: 9.7322\n"
     ]
    },
    {
     "name": "stderr",
     "output_type": "stream",
     "text": [
      "Epoch [137/200]: 100%|██████████| 101/101 [00:19<00:00,  5.11it/s, batch_loss=0.0104, running_loss=1.24]\n"
     ]
    },
    {
     "name": "stdout",
     "output_type": "stream",
     "text": [
      "Train Loss: 1.2410 | Valid Loss: 9.6523\n"
     ]
    },
    {
     "name": "stderr",
     "output_type": "stream",
     "text": [
      "Epoch [138/200]: 100%|██████████| 101/101 [00:19<00:00,  5.11it/s, batch_loss=0.0215, running_loss=1.19]\n"
     ]
    },
    {
     "name": "stdout",
     "output_type": "stream",
     "text": [
      "Train Loss: 1.1925 | Valid Loss: 9.7287\n"
     ]
    },
    {
     "name": "stderr",
     "output_type": "stream",
     "text": [
      "Epoch [139/200]: 100%|██████████| 101/101 [00:19<00:00,  5.10it/s, batch_loss=0.0147, running_loss=1.23]\n"
     ]
    },
    {
     "name": "stdout",
     "output_type": "stream",
     "text": [
      "Train Loss: 1.2320 | Valid Loss: 9.6499\n"
     ]
    },
    {
     "name": "stderr",
     "output_type": "stream",
     "text": [
      "Epoch [140/200]: 100%|██████████| 101/101 [00:19<00:00,  5.12it/s, batch_loss=0.00726, running_loss=1.15]\n"
     ]
    },
    {
     "name": "stdout",
     "output_type": "stream",
     "text": [
      "Train Loss: 1.1537 | Valid Loss: 9.8537\n"
     ]
    },
    {
     "name": "stderr",
     "output_type": "stream",
     "text": [
      "Epoch [141/200]: 100%|██████████| 101/101 [00:19<00:00,  5.09it/s, batch_loss=0.0106, running_loss=1.21]\n"
     ]
    },
    {
     "name": "stdout",
     "output_type": "stream",
     "text": [
      "Train Loss: 1.2080 | Valid Loss: 9.7596\n"
     ]
    },
    {
     "name": "stderr",
     "output_type": "stream",
     "text": [
      "Epoch [142/200]: 100%|██████████| 101/101 [00:19<00:00,  5.09it/s, batch_loss=0.00796, running_loss=1.2]\n"
     ]
    },
    {
     "name": "stdout",
     "output_type": "stream",
     "text": [
      "Train Loss: 1.1963 | Valid Loss: 9.6847\n"
     ]
    },
    {
     "name": "stderr",
     "output_type": "stream",
     "text": [
      "Epoch [143/200]: 100%|██████████| 101/101 [00:19<00:00,  5.11it/s, batch_loss=0.0135, running_loss=1.19]\n"
     ]
    },
    {
     "name": "stdout",
     "output_type": "stream",
     "text": [
      "Train Loss: 1.1868 | Valid Loss: 9.7241\n"
     ]
    },
    {
     "name": "stderr",
     "output_type": "stream",
     "text": [
      "Epoch [144/200]: 100%|██████████| 101/101 [00:19<00:00,  5.09it/s, batch_loss=0.0111, running_loss=1.15]\n"
     ]
    },
    {
     "name": "stdout",
     "output_type": "stream",
     "text": [
      "Train Loss: 1.1542 | Valid Loss: 9.6607\n"
     ]
    },
    {
     "name": "stderr",
     "output_type": "stream",
     "text": [
      "Epoch [145/200]: 100%|██████████| 101/101 [00:19<00:00,  5.09it/s, batch_loss=0.0182, running_loss=1.16]\n"
     ]
    },
    {
     "name": "stdout",
     "output_type": "stream",
     "text": [
      "Train Loss: 1.1647 | Valid Loss: 9.7859\n"
     ]
    },
    {
     "name": "stderr",
     "output_type": "stream",
     "text": [
      "Epoch [146/200]: 100%|██████████| 101/101 [00:19<00:00,  5.09it/s, batch_loss=0.00554, running_loss=1.19]\n"
     ]
    },
    {
     "name": "stdout",
     "output_type": "stream",
     "text": [
      "Train Loss: 1.1901 | Valid Loss: 9.6913\n"
     ]
    },
    {
     "name": "stderr",
     "output_type": "stream",
     "text": [
      "Epoch [147/200]: 100%|██████████| 101/101 [00:19<00:00,  5.10it/s, batch_loss=0.011, running_loss=1.15]\n"
     ]
    },
    {
     "name": "stdout",
     "output_type": "stream",
     "text": [
      "Train Loss: 1.1463 | Valid Loss: 9.7503\n"
     ]
    },
    {
     "name": "stderr",
     "output_type": "stream",
     "text": [
      "Epoch [148/200]: 100%|██████████| 101/101 [00:19<00:00,  5.09it/s, batch_loss=0.0177, running_loss=1.12]\n"
     ]
    },
    {
     "name": "stdout",
     "output_type": "stream",
     "text": [
      "Train Loss: 1.1179 | Valid Loss: 9.7541\n"
     ]
    },
    {
     "name": "stderr",
     "output_type": "stream",
     "text": [
      "Epoch [149/200]: 100%|██████████| 101/101 [00:19<00:00,  5.13it/s, batch_loss=0.0112, running_loss=1.18]\n"
     ]
    },
    {
     "name": "stdout",
     "output_type": "stream",
     "text": [
      "Train Loss: 1.1782 | Valid Loss: 9.5585\n"
     ]
    },
    {
     "name": "stderr",
     "output_type": "stream",
     "text": [
      "Epoch [150/200]: 100%|██████████| 101/101 [00:19<00:00,  5.12it/s, batch_loss=0.0131, running_loss=1.15]\n"
     ]
    },
    {
     "name": "stdout",
     "output_type": "stream",
     "text": [
      "Train Loss: 1.1457 | Valid Loss: 9.5948\n"
     ]
    },
    {
     "name": "stderr",
     "output_type": "stream",
     "text": [
      "Epoch [151/200]: 100%|██████████| 101/101 [00:19<00:00,  5.11it/s, batch_loss=0.0205, running_loss=1.15]\n"
     ]
    },
    {
     "name": "stdout",
     "output_type": "stream",
     "text": [
      "Train Loss: 1.1510 | Valid Loss: 9.5948\n"
     ]
    },
    {
     "name": "stderr",
     "output_type": "stream",
     "text": [
      "Epoch [152/200]: 100%|██████████| 101/101 [00:19<00:00,  5.07it/s, batch_loss=0.0112, running_loss=1.15]\n"
     ]
    },
    {
     "name": "stdout",
     "output_type": "stream",
     "text": [
      "Train Loss: 1.1491 | Valid Loss: 9.6883\n"
     ]
    },
    {
     "name": "stderr",
     "output_type": "stream",
     "text": [
      "Epoch [153/200]: 100%|██████████| 101/101 [00:19<00:00,  5.11it/s, batch_loss=0.0141, running_loss=1.1]\n"
     ]
    },
    {
     "name": "stdout",
     "output_type": "stream",
     "text": [
      "Train Loss: 1.1039 | Valid Loss: 9.6409\n"
     ]
    },
    {
     "name": "stderr",
     "output_type": "stream",
     "text": [
      "Epoch [154/200]: 100%|██████████| 101/101 [00:19<00:00,  5.11it/s, batch_loss=0.00665, running_loss=1.13]\n"
     ]
    },
    {
     "name": "stdout",
     "output_type": "stream",
     "text": [
      "Train Loss: 1.1339 | Valid Loss: 9.6260\n"
     ]
    },
    {
     "name": "stderr",
     "output_type": "stream",
     "text": [
      "Epoch [155/200]: 100%|██████████| 101/101 [00:19<00:00,  5.10it/s, batch_loss=0.0149, running_loss=1.15]\n"
     ]
    },
    {
     "name": "stdout",
     "output_type": "stream",
     "text": [
      "Train Loss: 1.1472 | Valid Loss: 9.6572\n"
     ]
    },
    {
     "name": "stderr",
     "output_type": "stream",
     "text": [
      "Epoch [156/200]: 100%|██████████| 101/101 [00:19<00:00,  5.10it/s, batch_loss=0.013, running_loss=1.14]\n"
     ]
    },
    {
     "name": "stdout",
     "output_type": "stream",
     "text": [
      "Train Loss: 1.1390 | Valid Loss: 9.6315\n"
     ]
    },
    {
     "name": "stderr",
     "output_type": "stream",
     "text": [
      "Epoch [157/200]: 100%|██████████| 101/101 [00:19<00:00,  5.10it/s, batch_loss=0.00668, running_loss=1.11]\n"
     ]
    },
    {
     "name": "stdout",
     "output_type": "stream",
     "text": [
      "Train Loss: 1.1078 | Valid Loss: 9.5757\n"
     ]
    },
    {
     "name": "stderr",
     "output_type": "stream",
     "text": [
      "Epoch [158/200]: 100%|██████████| 101/101 [00:19<00:00,  5.10it/s, batch_loss=0.00987, running_loss=1.13]\n"
     ]
    },
    {
     "name": "stdout",
     "output_type": "stream",
     "text": [
      "Train Loss: 1.1293 | Valid Loss: 9.7606\n"
     ]
    },
    {
     "name": "stderr",
     "output_type": "stream",
     "text": [
      "Epoch [159/200]: 100%|██████████| 101/101 [00:19<00:00,  5.08it/s, batch_loss=0.0138, running_loss=1.14]\n"
     ]
    },
    {
     "name": "stdout",
     "output_type": "stream",
     "text": [
      "Train Loss: 1.1419 | Valid Loss: 9.6605\n"
     ]
    },
    {
     "name": "stderr",
     "output_type": "stream",
     "text": [
      "Epoch [160/200]: 100%|██████████| 101/101 [00:19<00:00,  5.10it/s, batch_loss=0.0317, running_loss=1.13]\n"
     ]
    },
    {
     "name": "stdout",
     "output_type": "stream",
     "text": [
      "Train Loss: 1.1340 | Valid Loss: 9.6478\n"
     ]
    },
    {
     "name": "stderr",
     "output_type": "stream",
     "text": [
      "Epoch [161/200]: 100%|██████████| 101/101 [00:19<00:00,  5.11it/s, batch_loss=0.0129, running_loss=1.15]\n"
     ]
    },
    {
     "name": "stdout",
     "output_type": "stream",
     "text": [
      "Train Loss: 1.1531 | Valid Loss: 9.6422\n"
     ]
    },
    {
     "name": "stderr",
     "output_type": "stream",
     "text": [
      "Epoch [162/200]: 100%|██████████| 101/101 [00:19<00:00,  5.12it/s, batch_loss=0.0177, running_loss=1.15]\n"
     ]
    },
    {
     "name": "stdout",
     "output_type": "stream",
     "text": [
      "Train Loss: 1.1484 | Valid Loss: 9.5743\n"
     ]
    },
    {
     "name": "stderr",
     "output_type": "stream",
     "text": [
      "Epoch [163/200]: 100%|██████████| 101/101 [00:19<00:00,  5.12it/s, batch_loss=0.009, running_loss=1.16]\n"
     ]
    },
    {
     "name": "stdout",
     "output_type": "stream",
     "text": [
      "Train Loss: 1.1578 | Valid Loss: 9.5976\n"
     ]
    },
    {
     "name": "stderr",
     "output_type": "stream",
     "text": [
      "Epoch [164/200]: 100%|██████████| 101/101 [00:19<00:00,  5.09it/s, batch_loss=0.0146, running_loss=1.12]\n"
     ]
    },
    {
     "name": "stdout",
     "output_type": "stream",
     "text": [
      "Train Loss: 1.1174 | Valid Loss: 9.8153\n"
     ]
    },
    {
     "name": "stderr",
     "output_type": "stream",
     "text": [
      "Epoch [165/200]: 100%|██████████| 101/101 [00:19<00:00,  5.13it/s, batch_loss=0.0182, running_loss=1.11]\n"
     ]
    },
    {
     "name": "stdout",
     "output_type": "stream",
     "text": [
      "Train Loss: 1.1143 | Valid Loss: 9.5698\n"
     ]
    },
    {
     "name": "stderr",
     "output_type": "stream",
     "text": [
      "Epoch [166/200]: 100%|██████████| 101/101 [00:19<00:00,  5.11it/s, batch_loss=0.00879, running_loss=1.12]\n"
     ]
    },
    {
     "name": "stdout",
     "output_type": "stream",
     "text": [
      "Train Loss: 1.1198 | Valid Loss: 9.5834\n"
     ]
    },
    {
     "name": "stderr",
     "output_type": "stream",
     "text": [
      "Epoch [167/200]: 100%|██████████| 101/101 [00:19<00:00,  5.12it/s, batch_loss=0.0169, running_loss=1.13]\n"
     ]
    },
    {
     "name": "stdout",
     "output_type": "stream",
     "text": [
      "Train Loss: 1.1331 | Valid Loss: 9.6309\n"
     ]
    },
    {
     "name": "stderr",
     "output_type": "stream",
     "text": [
      "Epoch [168/200]: 100%|██████████| 101/101 [00:19<00:00,  5.12it/s, batch_loss=0.0256, running_loss=1.14]\n"
     ]
    },
    {
     "name": "stdout",
     "output_type": "stream",
     "text": [
      "Train Loss: 1.1447 | Valid Loss: 9.8078\n"
     ]
    },
    {
     "name": "stderr",
     "output_type": "stream",
     "text": [
      "Epoch [169/200]: 100%|██████████| 101/101 [00:19<00:00,  5.11it/s, batch_loss=0.0149, running_loss=1.14]\n"
     ]
    },
    {
     "name": "stdout",
     "output_type": "stream",
     "text": [
      "Train Loss: 1.1374 | Valid Loss: 9.7898\n"
     ]
    },
    {
     "name": "stderr",
     "output_type": "stream",
     "text": [
      "Epoch [170/200]: 100%|██████████| 101/101 [00:19<00:00,  5.10it/s, batch_loss=0.0141, running_loss=1.18]\n"
     ]
    },
    {
     "name": "stdout",
     "output_type": "stream",
     "text": [
      "Train Loss: 1.1830 | Valid Loss: 9.6123\n"
     ]
    },
    {
     "name": "stderr",
     "output_type": "stream",
     "text": [
      "Epoch [171/200]: 100%|██████████| 101/101 [00:19<00:00,  5.11it/s, batch_loss=0.0118, running_loss=1.1]\n"
     ]
    },
    {
     "name": "stdout",
     "output_type": "stream",
     "text": [
      "Train Loss: 1.1005 | Valid Loss: 9.5771\n"
     ]
    },
    {
     "name": "stderr",
     "output_type": "stream",
     "text": [
      "Epoch [172/200]: 100%|██████████| 101/101 [00:19<00:00,  5.09it/s, batch_loss=0.0193, running_loss=1.11]\n"
     ]
    },
    {
     "name": "stdout",
     "output_type": "stream",
     "text": [
      "Train Loss: 1.1099 | Valid Loss: 9.6289\n"
     ]
    },
    {
     "name": "stderr",
     "output_type": "stream",
     "text": [
      "Epoch [173/200]: 100%|██████████| 101/101 [00:19<00:00,  5.12it/s, batch_loss=0.0128, running_loss=1.12]\n"
     ]
    },
    {
     "name": "stdout",
     "output_type": "stream",
     "text": [
      "Train Loss: 1.1169 | Valid Loss: 9.7320\n"
     ]
    },
    {
     "name": "stderr",
     "output_type": "stream",
     "text": [
      "Epoch [174/200]: 100%|██████████| 101/101 [00:19<00:00,  5.12it/s, batch_loss=0.00718, running_loss=1.12]\n"
     ]
    },
    {
     "name": "stdout",
     "output_type": "stream",
     "text": [
      "Train Loss: 1.1206 | Valid Loss: 9.6680\n"
     ]
    },
    {
     "name": "stderr",
     "output_type": "stream",
     "text": [
      "Epoch [175/200]: 100%|██████████| 101/101 [00:19<00:00,  5.10it/s, batch_loss=0.0134, running_loss=1.12]\n"
     ]
    },
    {
     "name": "stdout",
     "output_type": "stream",
     "text": [
      "Train Loss: 1.1232 | Valid Loss: 9.5699\n"
     ]
    },
    {
     "name": "stderr",
     "output_type": "stream",
     "text": [
      "Epoch [176/200]: 100%|██████████| 101/101 [00:19<00:00,  5.12it/s, batch_loss=0.0164, running_loss=1.17]\n"
     ]
    },
    {
     "name": "stdout",
     "output_type": "stream",
     "text": [
      "Train Loss: 1.1681 | Valid Loss: 9.7315\n"
     ]
    },
    {
     "name": "stderr",
     "output_type": "stream",
     "text": [
      "Epoch [177/200]: 100%|██████████| 101/101 [00:19<00:00,  5.11it/s, batch_loss=0.00902, running_loss=1.12]\n"
     ]
    },
    {
     "name": "stdout",
     "output_type": "stream",
     "text": [
      "Train Loss: 1.1162 | Valid Loss: 9.8123\n"
     ]
    },
    {
     "name": "stderr",
     "output_type": "stream",
     "text": [
      "Epoch [178/200]: 100%|██████████| 101/101 [00:19<00:00,  5.10it/s, batch_loss=0.00874, running_loss=1.12]\n"
     ]
    },
    {
     "name": "stdout",
     "output_type": "stream",
     "text": [
      "Train Loss: 1.1228 | Valid Loss: 9.6093\n"
     ]
    },
    {
     "name": "stderr",
     "output_type": "stream",
     "text": [
      "Epoch [179/200]: 100%|██████████| 101/101 [00:19<00:00,  5.12it/s, batch_loss=0.0145, running_loss=1.11]\n"
     ]
    },
    {
     "name": "stdout",
     "output_type": "stream",
     "text": [
      "Train Loss: 1.1068 | Valid Loss: 9.6300\n"
     ]
    },
    {
     "name": "stderr",
     "output_type": "stream",
     "text": [
      "Epoch [180/200]: 100%|██████████| 101/101 [00:19<00:00,  5.11it/s, batch_loss=0.0185, running_loss=1.14]\n"
     ]
    },
    {
     "name": "stdout",
     "output_type": "stream",
     "text": [
      "Train Loss: 1.1447 | Valid Loss: 9.6254\n"
     ]
    },
    {
     "name": "stderr",
     "output_type": "stream",
     "text": [
      "Epoch [181/200]: 100%|██████████| 101/101 [00:19<00:00,  5.11it/s, batch_loss=0.0116, running_loss=1.14]\n"
     ]
    },
    {
     "name": "stdout",
     "output_type": "stream",
     "text": [
      "Train Loss: 1.1399 | Valid Loss: 9.6212\n"
     ]
    },
    {
     "name": "stderr",
     "output_type": "stream",
     "text": [
      "Epoch [182/200]: 100%|██████████| 101/101 [00:19<00:00,  5.11it/s, batch_loss=0.00651, running_loss=1.18]\n"
     ]
    },
    {
     "name": "stdout",
     "output_type": "stream",
     "text": [
      "Train Loss: 1.1811 | Valid Loss: 9.5599\n"
     ]
    },
    {
     "name": "stderr",
     "output_type": "stream",
     "text": [
      "Epoch [183/200]: 100%|██████████| 101/101 [00:19<00:00,  5.11it/s, batch_loss=0.0102, running_loss=1.13]\n"
     ]
    },
    {
     "name": "stdout",
     "output_type": "stream",
     "text": [
      "Train Loss: 1.1331 | Valid Loss: 9.5542 ===========> 9.5477 | Test Loss: 10.5618 | Saving model...\n"
     ]
    },
    {
     "name": "stderr",
     "output_type": "stream",
     "text": [
      "Epoch [184/200]: 100%|██████████| 101/101 [00:19<00:00,  5.12it/s, batch_loss=0.019, running_loss=1.12]\n"
     ]
    },
    {
     "name": "stdout",
     "output_type": "stream",
     "text": [
      "Train Loss: 1.1237 | Valid Loss: 9.6636\n"
     ]
    },
    {
     "name": "stderr",
     "output_type": "stream",
     "text": [
      "Epoch [185/200]: 100%|██████████| 101/101 [00:19<00:00,  5.09it/s, batch_loss=0.0176, running_loss=1.16]\n"
     ]
    },
    {
     "name": "stdout",
     "output_type": "stream",
     "text": [
      "Train Loss: 1.1590 | Valid Loss: 9.5785\n"
     ]
    },
    {
     "name": "stderr",
     "output_type": "stream",
     "text": [
      "Epoch [186/200]: 100%|██████████| 101/101 [00:19<00:00,  5.11it/s, batch_loss=0.00931, running_loss=1.08]\n"
     ]
    },
    {
     "name": "stdout",
     "output_type": "stream",
     "text": [
      "Train Loss: 1.0804 | Valid Loss: 10.1781\n"
     ]
    },
    {
     "name": "stderr",
     "output_type": "stream",
     "text": [
      "Epoch [187/200]: 100%|██████████| 101/101 [00:19<00:00,  5.10it/s, batch_loss=0.0136, running_loss=1.12]\n"
     ]
    },
    {
     "name": "stdout",
     "output_type": "stream",
     "text": [
      "Train Loss: 1.1211 | Valid Loss: 9.6312\n"
     ]
    },
    {
     "name": "stderr",
     "output_type": "stream",
     "text": [
      "Epoch [188/200]: 100%|██████████| 101/101 [00:19<00:00,  5.10it/s, batch_loss=0.0131, running_loss=1.15]\n"
     ]
    },
    {
     "name": "stdout",
     "output_type": "stream",
     "text": [
      "Train Loss: 1.1483 | Valid Loss: 9.6249\n"
     ]
    },
    {
     "name": "stderr",
     "output_type": "stream",
     "text": [
      "Epoch [189/200]: 100%|██████████| 101/101 [00:19<00:00,  5.09it/s, batch_loss=0.0258, running_loss=1.1]\n"
     ]
    },
    {
     "name": "stdout",
     "output_type": "stream",
     "text": [
      "Train Loss: 1.1027 | Valid Loss: 9.6121\n"
     ]
    },
    {
     "name": "stderr",
     "output_type": "stream",
     "text": [
      "Epoch [190/200]: 100%|██████████| 101/101 [00:19<00:00,  5.09it/s, batch_loss=0.0172, running_loss=1.14]\n"
     ]
    },
    {
     "name": "stdout",
     "output_type": "stream",
     "text": [
      "Train Loss: 1.1352 | Valid Loss: 9.6679\n"
     ]
    },
    {
     "name": "stderr",
     "output_type": "stream",
     "text": [
      "Epoch [191/200]: 100%|██████████| 101/101 [00:19<00:00,  5.11it/s, batch_loss=0.0516, running_loss=1.17]\n"
     ]
    },
    {
     "name": "stdout",
     "output_type": "stream",
     "text": [
      "Train Loss: 1.1679 | Valid Loss: 9.7020\n"
     ]
    },
    {
     "name": "stderr",
     "output_type": "stream",
     "text": [
      "Epoch [192/200]: 100%|██████████| 101/101 [00:19<00:00,  5.10it/s, batch_loss=0.0153, running_loss=1.16]\n"
     ]
    },
    {
     "name": "stdout",
     "output_type": "stream",
     "text": [
      "Train Loss: 1.1574 | Valid Loss: 9.6460\n"
     ]
    },
    {
     "name": "stderr",
     "output_type": "stream",
     "text": [
      "Epoch [193/200]: 100%|██████████| 101/101 [00:19<00:00,  5.11it/s, batch_loss=0.015, running_loss=1.1]\n"
     ]
    },
    {
     "name": "stdout",
     "output_type": "stream",
     "text": [
      "Train Loss: 1.0979 | Valid Loss: 9.7665\n"
     ]
    },
    {
     "name": "stderr",
     "output_type": "stream",
     "text": [
      "Epoch [194/200]: 100%|██████████| 101/101 [00:19<00:00,  5.10it/s, batch_loss=0.0107, running_loss=1.09]\n"
     ]
    },
    {
     "name": "stdout",
     "output_type": "stream",
     "text": [
      "Train Loss: 1.0945 | Valid Loss: 9.8554\n"
     ]
    },
    {
     "name": "stderr",
     "output_type": "stream",
     "text": [
      "Epoch [195/200]: 100%|██████████| 101/101 [00:19<00:00,  5.11it/s, batch_loss=0.0109, running_loss=1.13]\n"
     ]
    },
    {
     "name": "stdout",
     "output_type": "stream",
     "text": [
      "Train Loss: 1.1321 | Valid Loss: 9.8698\n"
     ]
    },
    {
     "name": "stderr",
     "output_type": "stream",
     "text": [
      "Epoch [196/200]: 100%|██████████| 101/101 [00:19<00:00,  5.11it/s, batch_loss=0.0109, running_loss=1.14]\n"
     ]
    },
    {
     "name": "stdout",
     "output_type": "stream",
     "text": [
      "Train Loss: 1.1355 | Valid Loss: 9.9498\n"
     ]
    },
    {
     "name": "stderr",
     "output_type": "stream",
     "text": [
      "Epoch [197/200]: 100%|██████████| 101/101 [00:19<00:00,  5.09it/s, batch_loss=0.0121, running_loss=1.11]\n"
     ]
    },
    {
     "name": "stdout",
     "output_type": "stream",
     "text": [
      "Train Loss: 1.1089 | Valid Loss: 9.6879\n"
     ]
    },
    {
     "name": "stderr",
     "output_type": "stream",
     "text": [
      "Epoch [198/200]: 100%|██████████| 101/101 [00:19<00:00,  5.09it/s, batch_loss=0.0139, running_loss=1.15]\n"
     ]
    },
    {
     "name": "stdout",
     "output_type": "stream",
     "text": [
      "Train Loss: 1.1517 | Valid Loss: 9.7731\n"
     ]
    },
    {
     "name": "stderr",
     "output_type": "stream",
     "text": [
      "Epoch [199/200]: 100%|██████████| 101/101 [00:19<00:00,  5.10it/s, batch_loss=0.0118, running_loss=1.15]\n"
     ]
    },
    {
     "name": "stdout",
     "output_type": "stream",
     "text": [
      "Train Loss: 1.1504 | Valid Loss: 9.9181\n"
     ]
    },
    {
     "name": "stderr",
     "output_type": "stream",
     "text": [
      "Epoch [200/200]: 100%|██████████| 101/101 [00:19<00:00,  5.10it/s, batch_loss=0.00879, running_loss=1.17]\n"
     ]
    },
    {
     "name": "stdout",
     "output_type": "stream",
     "text": [
      "Train Loss: 1.1712 | Valid Loss: 9.6665\n"
     ]
    }
   ],
   "source": [
    "epochs = 200\n",
    "best_loss =float('inf')\n",
    "ep, trainloss, validloss, testloss = [],[],[],[]\n",
    "for epoch in range(1,epochs+1):\n",
    "    model.train()\n",
    "    loop = tqdm(enumerate(train_loader), total=len(train_loader), leave=True)\n",
    "    trloss = 0\n",
    "    for batch_idx, (data, targets, _) in loop:\n",
    "        optimizer.zero_grad() \n",
    "        data = Variable(data).to(device)\n",
    "        targets = Variable(targets.to(torch.float).view(targets.shape[0],-1)).to(device)\n",
    "\n",
    "        #forward pass\n",
    "        scores = model(data)\n",
    "        loss = criterion(scores, targets)\n",
    "        trloss += loss.item()\n",
    "        #backward pass   \n",
    "        loss.backward()\n",
    "\n",
    "        #gradient descent\n",
    "        optimizer.step()\n",
    "        loop.set_description(f\"Epoch [{epoch}/{epochs}]\")\n",
    "        loop.set_postfix(batch_loss = loss.item(), running_loss = trloss )\n",
    "    scheduler.step()\n",
    "\n",
    "    model.eval()\n",
    "    valloss = 0\n",
    "    with torch.no_grad():\n",
    "        for data, targets, _ in valid_loader:\n",
    "            data = Variable(data).to(device)\n",
    "            targets = Variable(targets.to(torch.float).view(targets.shape[0],-1)).to(device)\n",
    "\n",
    "            \n",
    "            scores = model(data)\n",
    "            loss = criterion(scores, targets)\n",
    "\n",
    "            valloss += loss.item()\n",
    "\n",
    "    if valloss < best_loss:\n",
    "        tsloss = 0\n",
    "        with torch.no_grad():\n",
    "            for data, targets, _ in test_loader:\n",
    "                data = Variable(data).to(device)\n",
    "                targets = Variable(targets.to(torch.float).view(targets.shape[0],-1)).to(device)\n",
    "\n",
    "                \n",
    "                scores = model(data)\n",
    "                loss = criterion(scores, targets)\n",
    "\n",
    "                tsloss += loss.item()\n",
    "        to_print = \"Train Loss: {:.4f} | Valid Loss: {:.4f} ===========> {:.4f} | Test Loss: {:.4f} | Saving model...\".format(trloss, best_loss, valloss, tsloss)\n",
    "        best_loss = valloss\n",
    "        best_e = epoch\n",
    "        best_model = copy.deepcopy(model)\n",
    "    else:\n",
    "        to_print = \"Train Loss: {:.4f} | Valid Loss: {:.4f}\".format(trloss, valloss)\n",
    "\n",
    "    print(to_print)\n",
    "    ep+=[epoch]\n",
    "    trainloss += [trloss]\n",
    "    validloss += [valloss]"
   ]
  },
  {
   "cell_type": "code",
   "execution_count": 6,
   "metadata": {},
   "outputs": [
    {
     "data": {
      "image/png": "[encoded data removed]",
      "text/plain": [
       "<Figure size 1200x800 with 1 Axes>"
      ]
     },
     "metadata": {
      "needs_background": "light"
     },
     "output_type": "display_data"
    }
   ],
   "source": [
    "plt.plot(ep,trainloss, label = 'train loss')\n",
    "plt.plot(ep, validloss, label = 'validation loss')\n",
    "plt.legend()\n",
    "plt.show()"
   ]
  },
  {
   "cell_type": "code",
   "execution_count": 7,
   "metadata": {},
   "outputs": [
    {
     "name": "stderr",
     "output_type": "stream",
     "text": [
      "/home/vip/.local/lib/python3.8/site-packages/torch/nn/modules/rnn.py:661: UserWarning: RNN module weights are not part of single contiguous chunk of memory. This means they need to be compacted at every call, possibly greatly increasing memory usage. To compact weights again call flatten_parameters(). (Triggered internally at  /pytorch/aten/src/ATen/native/cudnn/RNN.cpp:915.)\n",
      "  result = _VF.lstm(input, hx, self._flat_weights, self.bias, self.num_layers,\n"
     ]
    },
    {
     "name": "stdout",
     "output_type": "stream",
     "text": [
      "Train Loss: 1.1712 | Valid Loss: 9.6665 | Test Loss on Best Model: 10.9167\n"
     ]
    }
   ],
   "source": [
    "tsloss = 0\n",
    "with torch.no_grad():\n",
    "    for batch_idx, (data, targets, _) in enumerate(test_loader):\n",
    "        data = Variable(data).to(device)\n",
    "        targets = Variable(targets.view(targets.shape[0],-1)).to(device)\n",
    "\n",
    "        \n",
    "        scores = best_model(data)\n",
    "        loss = criterion(scores, targets)\n",
    "\n",
    "        if batch_idx == 0:\n",
    "            true_scores = targets.cpu().numpy()\n",
    "            pred_scores = scores.cpu().numpy()\n",
    "        else:\n",
    "            true_scores = np.append(true_scores, targets.cpu().numpy(), axis = 0)\n",
    "            pred_scores = np.append(pred_scores, scores.cpu().numpy(), axis = 0)\n",
    "\n",
    "\n",
    "        tsloss += loss.item()\n",
    "\n",
    "print(\"Train Loss: {:.4f} | Valid Loss: {:.4f} | Test Loss on Best Model: {:.4f}\".format(trloss, valloss, tsloss))\n"
   ]
  },
  {
   "cell_type": "code",
   "execution_count": null,
   "metadata": {},
   "outputs": [],
   "source": []
  }
 ],
 "metadata": {
  "interpreter": {
   "hash": "df0893f56f349688326838aaeea0de204df53a132722cbd565e54b24a8fec5f6"
  },
  "kernelspec": {
   "display_name": "Python 3.8.12 64-bit",
   "name": "python3"
  },
  "language_info": {
   "codemirror_mode": {
    "name": "ipython",
    "version": 3
   },
   "file_extension": ".py",
   "mimetype": "text/x-python",
   "name": "python",
   "nbconvert_exporter": "python",
   "pygments_lexer": "ipython3",
   "version": "3.8.12"
  },
  "orig_nbformat": 4
 },
 "nbformat": 4,
 "nbformat_minor": 2
}
