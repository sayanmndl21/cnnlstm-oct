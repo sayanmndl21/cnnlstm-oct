{
 "cells": [
  {
   "cell_type": "code",
   "execution_count": 1,
   "metadata": {},
   "outputs": [],
   "source": [
    "import torch; torch.manual_seed(0)\n",
    "import torch.nn as nn\n",
    "import torch.nn.functional as F\n",
    "import torch.utils\n",
    "import torch.distributions\n",
    "import torchvision\n",
    "import numpy as np\n",
    "import pandas as pd\n",
    "import torchvision.models as models \n",
    "from torchvision import transforms, utils\n",
    "from torch.utils.data.sampler import SubsetRandomSampler\n",
    "import torch.optim as optim\n",
    "import matplotlib.pyplot as plt\n",
    "from torch.autograd import Variable\n",
    "from torch.optim import lr_scheduler\n",
    "import seaborn as sns\n",
    "import os\n",
    "os.environ['CUDA_LAUNCH_BLOCKING'] = '1'\n",
    "import copy\n",
    "from tqdm import tqdm\n",
    "#from model import VAE\n",
    "\n",
    "import matplotlib.pyplot as plt; plt.rcParams['figure.dpi'] = 200\n",
    "from dataloader import *\n",
    "from cnnlstmnetwork import *"
   ]
  },
  {
   "cell_type": "code",
   "execution_count": 2,
   "metadata": {},
   "outputs": [],
   "source": [
    "device = 'cuda' if torch.cuda.is_available() else 'cpu'"
   ]
  },
  {
   "cell_type": "code",
   "execution_count": 3,
   "metadata": {},
   "outputs": [],
   "source": [
    "#only on validation set\n",
    "csv_path = 'progress.csv'\n",
    "img_path = '/home/vip/sayan-mandal/datasets/obj_criteria/good_reduced/'\n",
    "\n",
    "CDL = CNNLSTMDataLoader(csv_path, img_path, transform = transforms.Compose([transforms.Resize(64),transforms.ToTensor(),transforms.Normalize((0.5, 0.5, 0.5), (0.5, 0.5, 0.5))]),timestep=3)\n",
    "\n",
    "#random sampler\n",
    "batch_size = 64\n",
    "validation_split = .2\n",
    "test_split = .2\n",
    "train_split = 1-validation_split-test_split\n",
    "shuffle_dataset = True\n",
    "random_seed = 42\n",
    "\n",
    "# Creating data indices for training and validation splits:\n",
    "dataset_size = len(CDL)\n",
    "indices = list(range(dataset_size))\n",
    "split_train = int(np.floor(train_split * dataset_size))\n",
    "split_valid = int(np.floor((train_split+validation_split) * dataset_size))\n",
    "if shuffle_dataset :\n",
    "    np.random.seed(random_seed)\n",
    "    np.random.shuffle(indices)\n",
    "train_indices, val_indices, test_indices =  indices[:split_train],indices[split_train:split_valid],indices[split_valid:]\n",
    "\n",
    "# Creating PT data samplers and loaders:\n",
    "train_sampler = SubsetRandomSampler(train_indices)\n",
    "valid_sampler = SubsetRandomSampler(val_indices)\n",
    "test_sampler = SubsetRandomSampler(test_indices)\n",
    "\n",
    "train_loader = torch.utils.data.DataLoader(CDL, batch_size=batch_size, sampler=train_sampler)\n",
    "valid_loader = torch.utils.data.DataLoader(CDL, batch_size=batch_size, sampler=valid_sampler)\n",
    "test_loader = torch.utils.data.DataLoader(CDL, batch_size=batch_size, sampler=test_sampler)"
   ]
  },
  {
   "cell_type": "code",
   "execution_count": 14,
   "metadata": {},
   "outputs": [],
   "source": [
    "tl = iter(train_loader)\n",
    "dat,_,_ = next(tl)\n",
    "bs, ts, C, H, W = dat.shape\n",
    "n_out = 1\n",
    "\n",
    "model = CNNLSTMNet(channels = C, ts = ts, n_out = n_out, device = device).to(device)\n",
    "optimizer = optim.SGD(model.parameters(), lr=0.1,  momentum=0.9, nesterov=True)\n",
    "scheduler = optim.lr_scheduler.MultiStepLR(optimizer, milestones=[150], gamma= 0.1)\n",
    "criterion = nn.MSELoss()  # this is for regression mean squared loss"
   ]
  },
  {
   "cell_type": "code",
   "execution_count": 15,
   "metadata": {},
   "outputs": [
    {
     "name": "stderr",
     "output_type": "stream",
     "text": [
      "Epoch [1/200]: 100%|██████████| 101/101 [00:20<00:00,  4.93it/s, batch_loss=0.454, running_loss=55.1]\n"
     ]
    },
    {
     "name": "stdout",
     "output_type": "stream",
     "text": [
      "Train Loss: 55.0637 | Valid Loss: inf ===========> 16.7579 | Test Loss: 19.6810 | Saving model...\n"
     ]
    },
    {
     "name": "stderr",
     "output_type": "stream",
     "text": [
      "Epoch [2/200]: 100%|██████████| 101/101 [00:20<00:00,  4.97it/s, batch_loss=0.254, running_loss=53.8]\n"
     ]
    },
    {
     "name": "stdout",
     "output_type": "stream",
     "text": [
      "Train Loss: 53.7697 | Valid Loss: 17.1412\n"
     ]
    },
    {
     "name": "stderr",
     "output_type": "stream",
     "text": [
      "Epoch [3/200]: 100%|██████████| 101/101 [00:20<00:00,  4.96it/s, batch_loss=0.316, running_loss=53.7]\n"
     ]
    },
    {
     "name": "stdout",
     "output_type": "stream",
     "text": [
      "Train Loss: 53.7118 | Valid Loss: 16.9443\n"
     ]
    },
    {
     "name": "stderr",
     "output_type": "stream",
     "text": [
      "Epoch [4/200]: 100%|██████████| 101/101 [00:20<00:00,  4.93it/s, batch_loss=0.373, running_loss=53.6]\n"
     ]
    },
    {
     "name": "stdout",
     "output_type": "stream",
     "text": [
      "Train Loss: 53.5881 | Valid Loss: 16.7909\n"
     ]
    },
    {
     "name": "stderr",
     "output_type": "stream",
     "text": [
      "Epoch [5/200]: 100%|██████████| 101/101 [00:20<00:00,  4.91it/s, batch_loss=0.238, running_loss=53.3]\n"
     ]
    },
    {
     "name": "stdout",
     "output_type": "stream",
     "text": [
      "Train Loss: 53.3455 | Valid Loss: 17.1525\n"
     ]
    },
    {
     "name": "stderr",
     "output_type": "stream",
     "text": [
      "Epoch [6/200]: 100%|██████████| 101/101 [00:20<00:00,  4.96it/s, batch_loss=0.506, running_loss=52.9]\n"
     ]
    },
    {
     "name": "stdout",
     "output_type": "stream",
     "text": [
      "Train Loss: 52.9021 | Valid Loss: 16.7579 ===========> 16.6443 | Test Loss: 19.4085 | Saving model...\n"
     ]
    },
    {
     "name": "stderr",
     "output_type": "stream",
     "text": [
      "Epoch [7/200]: 100%|██████████| 101/101 [00:20<00:00,  4.96it/s, batch_loss=0.392, running_loss=52.5]\n"
     ]
    },
    {
     "name": "stdout",
     "output_type": "stream",
     "text": [
      "Train Loss: 52.5097 | Valid Loss: 16.7326\n"
     ]
    },
    {
     "name": "stderr",
     "output_type": "stream",
     "text": [
      "Epoch [8/200]: 100%|██████████| 101/101 [00:20<00:00,  4.93it/s, batch_loss=0.184, running_loss=51.8]\n"
     ]
    },
    {
     "name": "stdout",
     "output_type": "stream",
     "text": [
      "Train Loss: 51.7627 | Valid Loss: 16.6443 ===========> 16.0119 | Test Loss: 19.0057 | Saving model...\n"
     ]
    },
    {
     "name": "stderr",
     "output_type": "stream",
     "text": [
      "Epoch [9/200]: 100%|██████████| 101/101 [00:20<00:00,  4.91it/s, batch_loss=0.568, running_loss=51.1]\n"
     ]
    },
    {
     "name": "stdout",
     "output_type": "stream",
     "text": [
      "Train Loss: 51.1251 | Valid Loss: 17.1827\n"
     ]
    },
    {
     "name": "stderr",
     "output_type": "stream",
     "text": [
      "Epoch [10/200]: 100%|██████████| 101/101 [00:20<00:00,  4.92it/s, batch_loss=0.398, running_loss=51.4]\n"
     ]
    },
    {
     "name": "stdout",
     "output_type": "stream",
     "text": [
      "Train Loss: 51.3618 | Valid Loss: 16.5997\n"
     ]
    },
    {
     "name": "stderr",
     "output_type": "stream",
     "text": [
      "Epoch [11/200]: 100%|██████████| 101/101 [00:20<00:00,  4.94it/s, batch_loss=0.442, running_loss=48.3]\n"
     ]
    },
    {
     "name": "stdout",
     "output_type": "stream",
     "text": [
      "Train Loss: 48.3197 | Valid Loss: 16.2469\n"
     ]
    },
    {
     "name": "stderr",
     "output_type": "stream",
     "text": [
      "Epoch [12/200]: 100%|██████████| 101/101 [00:20<00:00,  4.97it/s, batch_loss=0.419, running_loss=48.6]\n"
     ]
    },
    {
     "name": "stdout",
     "output_type": "stream",
     "text": [
      "Train Loss: 48.5926 | Valid Loss: 16.0119 ===========> 15.5332 | Test Loss: 18.7379 | Saving model...\n"
     ]
    },
    {
     "name": "stderr",
     "output_type": "stream",
     "text": [
      "Epoch [13/200]: 100%|██████████| 101/101 [00:20<00:00,  4.95it/s, batch_loss=0.57, running_loss=49.2]\n"
     ]
    },
    {
     "name": "stdout",
     "output_type": "stream",
     "text": [
      "Train Loss: 49.2004 | Valid Loss: 16.3580\n"
     ]
    },
    {
     "name": "stderr",
     "output_type": "stream",
     "text": [
      "Epoch [14/200]: 100%|██████████| 101/101 [00:19<00:00,  5.09it/s, batch_loss=0.385, running_loss=48.1]\n"
     ]
    },
    {
     "name": "stdout",
     "output_type": "stream",
     "text": [
      "Train Loss: 48.0780 | Valid Loss: 17.4561\n"
     ]
    },
    {
     "name": "stderr",
     "output_type": "stream",
     "text": [
      "Epoch [15/200]: 100%|██████████| 101/101 [00:19<00:00,  5.09it/s, batch_loss=1.44, running_loss=47.3]\n"
     ]
    },
    {
     "name": "stdout",
     "output_type": "stream",
     "text": [
      "Train Loss: 47.2690 | Valid Loss: 18.1996\n"
     ]
    },
    {
     "name": "stderr",
     "output_type": "stream",
     "text": [
      "Epoch [16/200]: 100%|██████████| 101/101 [00:19<00:00,  5.10it/s, batch_loss=0.372, running_loss=51.7]\n"
     ]
    },
    {
     "name": "stdout",
     "output_type": "stream",
     "text": [
      "Train Loss: 51.7212 | Valid Loss: 16.1740\n"
     ]
    },
    {
     "name": "stderr",
     "output_type": "stream",
     "text": [
      "Epoch [17/200]: 100%|██████████| 101/101 [00:19<00:00,  5.10it/s, batch_loss=1.61, running_loss=51.6]\n"
     ]
    },
    {
     "name": "stdout",
     "output_type": "stream",
     "text": [
      "Train Loss: 51.5841 | Valid Loss: 20.1649\n"
     ]
    },
    {
     "name": "stderr",
     "output_type": "stream",
     "text": [
      "Epoch [18/200]: 100%|██████████| 101/101 [00:19<00:00,  5.09it/s, batch_loss=0.645, running_loss=50.2]\n"
     ]
    },
    {
     "name": "stdout",
     "output_type": "stream",
     "text": [
      "Train Loss: 50.1544 | Valid Loss: 19.1656\n"
     ]
    },
    {
     "name": "stderr",
     "output_type": "stream",
     "text": [
      "Epoch [19/200]: 100%|██████████| 101/101 [00:19<00:00,  5.10it/s, batch_loss=0.294, running_loss=49.9]\n"
     ]
    },
    {
     "name": "stdout",
     "output_type": "stream",
     "text": [
      "Train Loss: 49.8845 | Valid Loss: 16.8766\n"
     ]
    },
    {
     "name": "stderr",
     "output_type": "stream",
     "text": [
      "Epoch [20/200]: 100%|██████████| 101/101 [00:19<00:00,  5.09it/s, batch_loss=0.244, running_loss=47.9]\n"
     ]
    },
    {
     "name": "stdout",
     "output_type": "stream",
     "text": [
      "Train Loss: 47.8897 | Valid Loss: 16.3088\n"
     ]
    },
    {
     "name": "stderr",
     "output_type": "stream",
     "text": [
      "Epoch [21/200]: 100%|██████████| 101/101 [00:19<00:00,  5.08it/s, batch_loss=0.27, running_loss=46.2]\n"
     ]
    },
    {
     "name": "stdout",
     "output_type": "stream",
     "text": [
      "Train Loss: 46.1618 | Valid Loss: 16.1202\n"
     ]
    },
    {
     "name": "stderr",
     "output_type": "stream",
     "text": [
      "Epoch [22/200]: 100%|██████████| 101/101 [00:19<00:00,  5.10it/s, batch_loss=0.3, running_loss=47]\n"
     ]
    },
    {
     "name": "stdout",
     "output_type": "stream",
     "text": [
      "Train Loss: 47.0136 | Valid Loss: 16.0754\n"
     ]
    },
    {
     "name": "stderr",
     "output_type": "stream",
     "text": [
      "Epoch [23/200]: 100%|██████████| 101/101 [00:19<00:00,  5.06it/s, batch_loss=0.121, running_loss=45.4]\n"
     ]
    },
    {
     "name": "stdout",
     "output_type": "stream",
     "text": [
      "Train Loss: 45.4020 | Valid Loss: 19.0889\n"
     ]
    },
    {
     "name": "stderr",
     "output_type": "stream",
     "text": [
      "Epoch [24/200]: 100%|██████████| 101/101 [00:19<00:00,  5.09it/s, batch_loss=0.221, running_loss=45.2]\n"
     ]
    },
    {
     "name": "stdout",
     "output_type": "stream",
     "text": [
      "Train Loss: 45.1793 | Valid Loss: 17.7415\n"
     ]
    },
    {
     "name": "stderr",
     "output_type": "stream",
     "text": [
      "Epoch [25/200]: 100%|██████████| 101/101 [00:19<00:00,  5.09it/s, batch_loss=0.691, running_loss=43.6]\n"
     ]
    },
    {
     "name": "stdout",
     "output_type": "stream",
     "text": [
      "Train Loss: 43.6483 | Valid Loss: 16.8378\n"
     ]
    },
    {
     "name": "stderr",
     "output_type": "stream",
     "text": [
      "Epoch [26/200]: 100%|██████████| 101/101 [00:19<00:00,  5.09it/s, batch_loss=0.379, running_loss=41.4]\n"
     ]
    },
    {
     "name": "stdout",
     "output_type": "stream",
     "text": [
      "Train Loss: 41.4436 | Valid Loss: 15.5332 ===========> 15.4803 | Test Loss: 18.8676 | Saving model...\n"
     ]
    },
    {
     "name": "stderr",
     "output_type": "stream",
     "text": [
      "Epoch [27/200]: 100%|██████████| 101/101 [00:19<00:00,  5.09it/s, batch_loss=0.388, running_loss=38.6]\n"
     ]
    },
    {
     "name": "stdout",
     "output_type": "stream",
     "text": [
      "Train Loss: 38.5961 | Valid Loss: 15.4803 ===========> 14.5964 | Test Loss: 17.1719 | Saving model...\n"
     ]
    },
    {
     "name": "stderr",
     "output_type": "stream",
     "text": [
      "Epoch [28/200]: 100%|██████████| 101/101 [00:19<00:00,  5.11it/s, batch_loss=0.18, running_loss=38.4]\n"
     ]
    },
    {
     "name": "stdout",
     "output_type": "stream",
     "text": [
      "Train Loss: 38.4099 | Valid Loss: 14.8781\n"
     ]
    },
    {
     "name": "stderr",
     "output_type": "stream",
     "text": [
      "Epoch [29/200]: 100%|██████████| 101/101 [00:19<00:00,  5.10it/s, batch_loss=0.243, running_loss=38.8]\n"
     ]
    },
    {
     "name": "stdout",
     "output_type": "stream",
     "text": [
      "Train Loss: 38.8274 | Valid Loss: 15.1489\n"
     ]
    },
    {
     "name": "stderr",
     "output_type": "stream",
     "text": [
      "Epoch [30/200]: 100%|██████████| 101/101 [00:19<00:00,  5.08it/s, batch_loss=0.189, running_loss=37.6]\n"
     ]
    },
    {
     "name": "stdout",
     "output_type": "stream",
     "text": [
      "Train Loss: 37.5732 | Valid Loss: 14.5964 ===========> 14.1083 | Test Loss: 17.1636 | Saving model...\n"
     ]
    },
    {
     "name": "stderr",
     "output_type": "stream",
     "text": [
      "Epoch [31/200]: 100%|██████████| 101/101 [00:19<00:00,  5.08it/s, batch_loss=0.455, running_loss=33.8]\n"
     ]
    },
    {
     "name": "stdout",
     "output_type": "stream",
     "text": [
      "Train Loss: 33.8307 | Valid Loss: 14.1500\n"
     ]
    },
    {
     "name": "stderr",
     "output_type": "stream",
     "text": [
      "Epoch [32/200]: 100%|██████████| 101/101 [00:19<00:00,  5.07it/s, batch_loss=0.128, running_loss=30.8]\n"
     ]
    },
    {
     "name": "stdout",
     "output_type": "stream",
     "text": [
      "Train Loss: 30.8432 | Valid Loss: 14.1083 ===========> 13.4726 | Test Loss: 15.7719 | Saving model...\n"
     ]
    },
    {
     "name": "stderr",
     "output_type": "stream",
     "text": [
      "Epoch [33/200]: 100%|██████████| 101/101 [00:19<00:00,  5.08it/s, batch_loss=0.122, running_loss=29.2]\n"
     ]
    },
    {
     "name": "stdout",
     "output_type": "stream",
     "text": [
      "Train Loss: 29.1832 | Valid Loss: 13.5607\n"
     ]
    },
    {
     "name": "stderr",
     "output_type": "stream",
     "text": [
      "Epoch [34/200]: 100%|██████████| 101/101 [00:19<00:00,  5.06it/s, batch_loss=0.103, running_loss=27.7]\n"
     ]
    },
    {
     "name": "stdout",
     "output_type": "stream",
     "text": [
      "Train Loss: 27.6978 | Valid Loss: 15.3331\n"
     ]
    },
    {
     "name": "stderr",
     "output_type": "stream",
     "text": [
      "Epoch [35/200]: 100%|██████████| 101/101 [00:19<00:00,  5.09it/s, batch_loss=0.0904, running_loss=26.7]\n"
     ]
    },
    {
     "name": "stdout",
     "output_type": "stream",
     "text": [
      "Train Loss: 26.6849 | Valid Loss: 14.9495\n"
     ]
    },
    {
     "name": "stderr",
     "output_type": "stream",
     "text": [
      "Epoch [36/200]: 100%|██████████| 101/101 [00:19<00:00,  5.09it/s, batch_loss=0.458, running_loss=23.3]\n"
     ]
    },
    {
     "name": "stdout",
     "output_type": "stream",
     "text": [
      "Train Loss: 23.3286 | Valid Loss: 13.4726 ===========> 12.9721 | Test Loss: 16.0362 | Saving model...\n"
     ]
    },
    {
     "name": "stderr",
     "output_type": "stream",
     "text": [
      "Epoch [37/200]: 100%|██████████| 101/101 [00:19<00:00,  5.06it/s, batch_loss=0.384, running_loss=24]\n"
     ]
    },
    {
     "name": "stdout",
     "output_type": "stream",
     "text": [
      "Train Loss: 24.0320 | Valid Loss: 12.9721 ===========> 12.5112 | Test Loss: 14.9091 | Saving model...\n"
     ]
    },
    {
     "name": "stderr",
     "output_type": "stream",
     "text": [
      "Epoch [38/200]: 100%|██████████| 101/101 [00:19<00:00,  5.08it/s, batch_loss=0.529, running_loss=23.3]\n"
     ]
    },
    {
     "name": "stdout",
     "output_type": "stream",
     "text": [
      "Train Loss: 23.3231 | Valid Loss: 13.3940\n"
     ]
    },
    {
     "name": "stderr",
     "output_type": "stream",
     "text": [
      "Epoch [39/200]: 100%|██████████| 101/101 [00:19<00:00,  5.09it/s, batch_loss=0.0994, running_loss=22.9]\n"
     ]
    },
    {
     "name": "stdout",
     "output_type": "stream",
     "text": [
      "Train Loss: 22.8966 | Valid Loss: 12.5112 ===========> 12.4217 | Test Loss: 14.6100 | Saving model...\n"
     ]
    },
    {
     "name": "stderr",
     "output_type": "stream",
     "text": [
      "Epoch [40/200]: 100%|██████████| 101/101 [00:19<00:00,  5.10it/s, batch_loss=0.184, running_loss=18.9]\n"
     ]
    },
    {
     "name": "stdout",
     "output_type": "stream",
     "text": [
      "Train Loss: 18.9270 | Valid Loss: 12.6281\n"
     ]
    },
    {
     "name": "stderr",
     "output_type": "stream",
     "text": [
      "Epoch [41/200]: 100%|██████████| 101/101 [00:19<00:00,  5.09it/s, batch_loss=0.196, running_loss=16.3]\n"
     ]
    },
    {
     "name": "stdout",
     "output_type": "stream",
     "text": [
      "Train Loss: 16.3337 | Valid Loss: 12.6215\n"
     ]
    },
    {
     "name": "stderr",
     "output_type": "stream",
     "text": [
      "Epoch [42/200]: 100%|██████████| 101/101 [00:19<00:00,  5.06it/s, batch_loss=0.0552, running_loss=15.6]\n"
     ]
    },
    {
     "name": "stdout",
     "output_type": "stream",
     "text": [
      "Train Loss: 15.5593 | Valid Loss: 12.4217 ===========> 11.6279 | Test Loss: 13.7028 | Saving model...\n"
     ]
    },
    {
     "name": "stderr",
     "output_type": "stream",
     "text": [
      "Epoch [43/200]: 100%|██████████| 101/101 [00:19<00:00,  5.08it/s, batch_loss=0.146, running_loss=14.1]\n"
     ]
    },
    {
     "name": "stdout",
     "output_type": "stream",
     "text": [
      "Train Loss: 14.0962 | Valid Loss: 11.6279 ===========> 11.2099 | Test Loss: 12.6689 | Saving model...\n"
     ]
    },
    {
     "name": "stderr",
     "output_type": "stream",
     "text": [
      "Epoch [44/200]: 100%|██████████| 101/101 [00:19<00:00,  5.07it/s, batch_loss=0.169, running_loss=11.7]\n"
     ]
    },
    {
     "name": "stdout",
     "output_type": "stream",
     "text": [
      "Train Loss: 11.6600 | Valid Loss: 11.2099 ===========> 10.8232 | Test Loss: 11.7846 | Saving model...\n"
     ]
    },
    {
     "name": "stderr",
     "output_type": "stream",
     "text": [
      "Epoch [45/200]: 100%|██████████| 101/101 [00:19<00:00,  5.08it/s, batch_loss=0.124, running_loss=10.4]\n"
     ]
    },
    {
     "name": "stdout",
     "output_type": "stream",
     "text": [
      "Train Loss: 10.4189 | Valid Loss: 10.8232 ===========> 10.7566 | Test Loss: 11.9551 | Saving model...\n"
     ]
    },
    {
     "name": "stderr",
     "output_type": "stream",
     "text": [
      "Epoch [46/200]: 100%|██████████| 101/101 [00:19<00:00,  5.11it/s, batch_loss=0.0927, running_loss=9.12]\n"
     ]
    },
    {
     "name": "stdout",
     "output_type": "stream",
     "text": [
      "Train Loss: 9.1216 | Valid Loss: 10.7566 ===========> 10.5617 | Test Loss: 13.1775 | Saving model...\n"
     ]
    },
    {
     "name": "stderr",
     "output_type": "stream",
     "text": [
      "Epoch [47/200]: 100%|██████████| 101/101 [00:19<00:00,  5.09it/s, batch_loss=0.0848, running_loss=8.36]\n"
     ]
    },
    {
     "name": "stdout",
     "output_type": "stream",
     "text": [
      "Train Loss: 8.3557 | Valid Loss: 10.5617 ===========> 10.3104 | Test Loss: 12.1490 | Saving model...\n"
     ]
    },
    {
     "name": "stderr",
     "output_type": "stream",
     "text": [
      "Epoch [48/200]: 100%|██████████| 101/101 [00:19<00:00,  5.08it/s, batch_loss=0.022, running_loss=7.08]\n"
     ]
    },
    {
     "name": "stdout",
     "output_type": "stream",
     "text": [
      "Train Loss: 7.0770 | Valid Loss: 10.6719\n"
     ]
    },
    {
     "name": "stderr",
     "output_type": "stream",
     "text": [
      "Epoch [49/200]: 100%|██████████| 101/101 [00:19<00:00,  5.10it/s, batch_loss=0.0578, running_loss=6.5]\n"
     ]
    },
    {
     "name": "stdout",
     "output_type": "stream",
     "text": [
      "Train Loss: 6.4978 | Valid Loss: 10.6306\n"
     ]
    },
    {
     "name": "stderr",
     "output_type": "stream",
     "text": [
      "Epoch [50/200]: 100%|██████████| 101/101 [00:19<00:00,  5.08it/s, batch_loss=0.0698, running_loss=6.33]\n"
     ]
    },
    {
     "name": "stdout",
     "output_type": "stream",
     "text": [
      "Train Loss: 6.3295 | Valid Loss: 10.3104 ===========> 10.1226 | Test Loss: 11.4877 | Saving model...\n"
     ]
    },
    {
     "name": "stderr",
     "output_type": "stream",
     "text": [
      "Epoch [51/200]: 100%|██████████| 101/101 [00:19<00:00,  5.08it/s, batch_loss=0.0606, running_loss=5.7]\n"
     ]
    },
    {
     "name": "stdout",
     "output_type": "stream",
     "text": [
      "Train Loss: 5.6965 | Valid Loss: 10.1226 ===========> 9.6280 | Test Loss: 10.7015 | Saving model...\n"
     ]
    },
    {
     "name": "stderr",
     "output_type": "stream",
     "text": [
      "Epoch [52/200]: 100%|██████████| 101/101 [00:19<00:00,  5.06it/s, batch_loss=0.072, running_loss=5.3]\n"
     ]
    },
    {
     "name": "stdout",
     "output_type": "stream",
     "text": [
      "Train Loss: 5.3037 | Valid Loss: 10.2123\n"
     ]
    },
    {
     "name": "stderr",
     "output_type": "stream",
     "text": [
      "Epoch [53/200]: 100%|██████████| 101/101 [00:19<00:00,  5.08it/s, batch_loss=0.0742, running_loss=4.71]\n"
     ]
    },
    {
     "name": "stdout",
     "output_type": "stream",
     "text": [
      "Train Loss: 4.7108 | Valid Loss: 9.8538\n"
     ]
    },
    {
     "name": "stderr",
     "output_type": "stream",
     "text": [
      "Epoch [54/200]: 100%|██████████| 101/101 [00:19<00:00,  5.09it/s, batch_loss=0.0775, running_loss=4.71]\n"
     ]
    },
    {
     "name": "stdout",
     "output_type": "stream",
     "text": [
      "Train Loss: 4.7076 | Valid Loss: 9.9809\n"
     ]
    },
    {
     "name": "stderr",
     "output_type": "stream",
     "text": [
      "Epoch [55/200]: 100%|██████████| 101/101 [00:19<00:00,  5.10it/s, batch_loss=0.0469, running_loss=3.99]\n"
     ]
    },
    {
     "name": "stdout",
     "output_type": "stream",
     "text": [
      "Train Loss: 3.9894 | Valid Loss: 9.7944\n"
     ]
    },
    {
     "name": "stderr",
     "output_type": "stream",
     "text": [
      "Epoch [56/200]: 100%|██████████| 101/101 [00:19<00:00,  5.06it/s, batch_loss=0.0373, running_loss=3.78]\n"
     ]
    },
    {
     "name": "stdout",
     "output_type": "stream",
     "text": [
      "Train Loss: 3.7766 | Valid Loss: 10.0967\n"
     ]
    },
    {
     "name": "stderr",
     "output_type": "stream",
     "text": [
      "Epoch [57/200]: 100%|██████████| 101/101 [00:19<00:00,  5.07it/s, batch_loss=0.0375, running_loss=3.68]\n"
     ]
    },
    {
     "name": "stdout",
     "output_type": "stream",
     "text": [
      "Train Loss: 3.6779 | Valid Loss: 9.9646\n"
     ]
    },
    {
     "name": "stderr",
     "output_type": "stream",
     "text": [
      "Epoch [58/200]: 100%|██████████| 101/101 [00:19<00:00,  5.07it/s, batch_loss=0.0371, running_loss=3.65]\n"
     ]
    },
    {
     "name": "stdout",
     "output_type": "stream",
     "text": [
      "Train Loss: 3.6470 | Valid Loss: 9.6280 ===========> 9.5762 | Test Loss: 11.5305 | Saving model...\n"
     ]
    },
    {
     "name": "stderr",
     "output_type": "stream",
     "text": [
      "Epoch [59/200]: 100%|██████████| 101/101 [00:19<00:00,  5.08it/s, batch_loss=0.028, running_loss=3.4]\n"
     ]
    },
    {
     "name": "stdout",
     "output_type": "stream",
     "text": [
      "Train Loss: 3.4041 | Valid Loss: 9.6266\n"
     ]
    },
    {
     "name": "stderr",
     "output_type": "stream",
     "text": [
      "Epoch [60/200]: 100%|██████████| 101/101 [00:19<00:00,  5.08it/s, batch_loss=0.0403, running_loss=3.23]\n"
     ]
    },
    {
     "name": "stdout",
     "output_type": "stream",
     "text": [
      "Train Loss: 3.2276 | Valid Loss: 9.7875\n"
     ]
    },
    {
     "name": "stderr",
     "output_type": "stream",
     "text": [
      "Epoch [61/200]: 100%|██████████| 101/101 [00:19<00:00,  5.07it/s, batch_loss=0.0459, running_loss=3.14]\n"
     ]
    },
    {
     "name": "stdout",
     "output_type": "stream",
     "text": [
      "Train Loss: 3.1399 | Valid Loss: 9.6198\n"
     ]
    },
    {
     "name": "stderr",
     "output_type": "stream",
     "text": [
      "Epoch [62/200]: 100%|██████████| 101/101 [00:19<00:00,  5.09it/s, batch_loss=0.0194, running_loss=2.87]\n"
     ]
    },
    {
     "name": "stdout",
     "output_type": "stream",
     "text": [
      "Train Loss: 2.8676 | Valid Loss: 10.1292\n"
     ]
    },
    {
     "name": "stderr",
     "output_type": "stream",
     "text": [
      "Epoch [63/200]: 100%|██████████| 101/101 [00:19<00:00,  5.08it/s, batch_loss=0.0304, running_loss=2.86]\n"
     ]
    },
    {
     "name": "stdout",
     "output_type": "stream",
     "text": [
      "Train Loss: 2.8593 | Valid Loss: 9.6789\n"
     ]
    },
    {
     "name": "stderr",
     "output_type": "stream",
     "text": [
      "Epoch [64/200]: 100%|██████████| 101/101 [00:20<00:00,  5.05it/s, batch_loss=0.0477, running_loss=2.68]\n"
     ]
    },
    {
     "name": "stdout",
     "output_type": "stream",
     "text": [
      "Train Loss: 2.6809 | Valid Loss: 9.5762 ===========> 9.4704 | Test Loss: 10.9848 | Saving model...\n"
     ]
    },
    {
     "name": "stderr",
     "output_type": "stream",
     "text": [
      "Epoch [65/200]: 100%|██████████| 101/101 [00:19<00:00,  5.08it/s, batch_loss=0.025, running_loss=2.64]\n"
     ]
    },
    {
     "name": "stdout",
     "output_type": "stream",
     "text": [
      "Train Loss: 2.6435 | Valid Loss: 9.4704 ===========> 9.2397 | Test Loss: 11.1347 | Saving model...\n"
     ]
    },
    {
     "name": "stderr",
     "output_type": "stream",
     "text": [
      "Epoch [66/200]: 100%|██████████| 101/101 [00:19<00:00,  5.07it/s, batch_loss=0.0278, running_loss=2.5]\n"
     ]
    },
    {
     "name": "stdout",
     "output_type": "stream",
     "text": [
      "Train Loss: 2.4975 | Valid Loss: 9.6939\n"
     ]
    },
    {
     "name": "stderr",
     "output_type": "stream",
     "text": [
      "Epoch [67/200]: 100%|██████████| 101/101 [00:19<00:00,  5.07it/s, batch_loss=0.0141, running_loss=2.4]\n"
     ]
    },
    {
     "name": "stdout",
     "output_type": "stream",
     "text": [
      "Train Loss: 2.4036 | Valid Loss: 9.2735\n"
     ]
    },
    {
     "name": "stderr",
     "output_type": "stream",
     "text": [
      "Epoch [68/200]: 100%|██████████| 101/101 [00:19<00:00,  5.09it/s, batch_loss=0.0103, running_loss=2.42]\n"
     ]
    },
    {
     "name": "stdout",
     "output_type": "stream",
     "text": [
      "Train Loss: 2.4181 | Valid Loss: 9.7263\n"
     ]
    },
    {
     "name": "stderr",
     "output_type": "stream",
     "text": [
      "Epoch [69/200]: 100%|██████████| 101/101 [00:19<00:00,  5.07it/s, batch_loss=0.0266, running_loss=2.39]\n"
     ]
    },
    {
     "name": "stdout",
     "output_type": "stream",
     "text": [
      "Train Loss: 2.3927 | Valid Loss: 9.4823\n"
     ]
    },
    {
     "name": "stderr",
     "output_type": "stream",
     "text": [
      "Epoch [70/200]: 100%|██████████| 101/101 [00:19<00:00,  5.06it/s, batch_loss=0.024, running_loss=2.34]\n"
     ]
    },
    {
     "name": "stdout",
     "output_type": "stream",
     "text": [
      "Train Loss: 2.3438 | Valid Loss: 9.2397 ===========> 9.1969 | Test Loss: 10.9053 | Saving model...\n"
     ]
    },
    {
     "name": "stderr",
     "output_type": "stream",
     "text": [
      "Epoch [71/200]: 100%|██████████| 101/101 [00:19<00:00,  5.08it/s, batch_loss=0.0179, running_loss=2.18]\n"
     ]
    },
    {
     "name": "stdout",
     "output_type": "stream",
     "text": [
      "Train Loss: 2.1797 | Valid Loss: 9.2153\n"
     ]
    },
    {
     "name": "stderr",
     "output_type": "stream",
     "text": [
      "Epoch [72/200]: 100%|██████████| 101/101 [00:19<00:00,  5.09it/s, batch_loss=0.0184, running_loss=2.08]\n"
     ]
    },
    {
     "name": "stdout",
     "output_type": "stream",
     "text": [
      "Train Loss: 2.0762 | Valid Loss: 9.1969 ===========> 9.1673 | Test Loss: 10.9495 | Saving model...\n"
     ]
    },
    {
     "name": "stderr",
     "output_type": "stream",
     "text": [
      "Epoch [73/200]: 100%|██████████| 101/101 [00:19<00:00,  5.06it/s, batch_loss=0.0255, running_loss=2.17]\n"
     ]
    },
    {
     "name": "stdout",
     "output_type": "stream",
     "text": [
      "Train Loss: 2.1680 | Valid Loss: 9.4306\n"
     ]
    },
    {
     "name": "stderr",
     "output_type": "stream",
     "text": [
      "Epoch [74/200]: 100%|██████████| 101/101 [00:19<00:00,  5.10it/s, batch_loss=0.0195, running_loss=2.09]\n"
     ]
    },
    {
     "name": "stdout",
     "output_type": "stream",
     "text": [
      "Train Loss: 2.0885 | Valid Loss: 9.6093\n"
     ]
    },
    {
     "name": "stderr",
     "output_type": "stream",
     "text": [
      "Epoch [75/200]: 100%|██████████| 101/101 [00:19<00:00,  5.06it/s, batch_loss=0.0175, running_loss=1.97]\n"
     ]
    },
    {
     "name": "stdout",
     "output_type": "stream",
     "text": [
      "Train Loss: 1.9748 | Valid Loss: 9.1673 ===========> 9.1000 | Test Loss: 10.5968 | Saving model...\n"
     ]
    },
    {
     "name": "stderr",
     "output_type": "stream",
     "text": [
      "Epoch [76/200]: 100%|██████████| 101/101 [00:19<00:00,  5.05it/s, batch_loss=0.0277, running_loss=1.96]\n"
     ]
    },
    {
     "name": "stdout",
     "output_type": "stream",
     "text": [
      "Train Loss: 1.9587 | Valid Loss: 9.1497\n"
     ]
    },
    {
     "name": "stderr",
     "output_type": "stream",
     "text": [
      "Epoch [77/200]: 100%|██████████| 101/101 [00:19<00:00,  5.09it/s, batch_loss=0.0182, running_loss=2]\n"
     ]
    },
    {
     "name": "stdout",
     "output_type": "stream",
     "text": [
      "Train Loss: 2.0011 | Valid Loss: 9.2591\n"
     ]
    },
    {
     "name": "stderr",
     "output_type": "stream",
     "text": [
      "Epoch [78/200]: 100%|██████████| 101/101 [00:20<00:00,  5.05it/s, batch_loss=0.0185, running_loss=1.9]\n"
     ]
    },
    {
     "name": "stdout",
     "output_type": "stream",
     "text": [
      "Train Loss: 1.9042 | Valid Loss: 9.1895\n"
     ]
    },
    {
     "name": "stderr",
     "output_type": "stream",
     "text": [
      "Epoch [79/200]: 100%|██████████| 101/101 [00:19<00:00,  5.08it/s, batch_loss=0.0287, running_loss=1.75]\n"
     ]
    },
    {
     "name": "stdout",
     "output_type": "stream",
     "text": [
      "Train Loss: 1.7497 | Valid Loss: 9.5839\n"
     ]
    },
    {
     "name": "stderr",
     "output_type": "stream",
     "text": [
      "Epoch [80/200]: 100%|██████████| 101/101 [00:19<00:00,  5.07it/s, batch_loss=0.0117, running_loss=1.8]\n"
     ]
    },
    {
     "name": "stdout",
     "output_type": "stream",
     "text": [
      "Train Loss: 1.7975 | Valid Loss: 9.1365\n"
     ]
    },
    {
     "name": "stderr",
     "output_type": "stream",
     "text": [
      "Epoch [81/200]: 100%|██████████| 101/101 [00:19<00:00,  5.09it/s, batch_loss=0.0103, running_loss=1.73]\n"
     ]
    },
    {
     "name": "stdout",
     "output_type": "stream",
     "text": [
      "Train Loss: 1.7326 | Valid Loss: 9.2981\n"
     ]
    },
    {
     "name": "stderr",
     "output_type": "stream",
     "text": [
      "Epoch [82/200]: 100%|██████████| 101/101 [00:19<00:00,  5.08it/s, batch_loss=0.025, running_loss=1.77]\n"
     ]
    },
    {
     "name": "stdout",
     "output_type": "stream",
     "text": [
      "Train Loss: 1.7678 | Valid Loss: 9.2726\n"
     ]
    },
    {
     "name": "stderr",
     "output_type": "stream",
     "text": [
      "Epoch [83/200]: 100%|██████████| 101/101 [00:19<00:00,  5.07it/s, batch_loss=0.0134, running_loss=1.76]\n"
     ]
    },
    {
     "name": "stdout",
     "output_type": "stream",
     "text": [
      "Train Loss: 1.7566 | Valid Loss: 9.3274\n"
     ]
    },
    {
     "name": "stderr",
     "output_type": "stream",
     "text": [
      "Epoch [84/200]: 100%|██████████| 101/101 [00:19<00:00,  5.08it/s, batch_loss=0.0353, running_loss=1.69]\n"
     ]
    },
    {
     "name": "stdout",
     "output_type": "stream",
     "text": [
      "Train Loss: 1.6916 | Valid Loss: 9.2834\n"
     ]
    },
    {
     "name": "stderr",
     "output_type": "stream",
     "text": [
      "Epoch [85/200]: 100%|██████████| 101/101 [00:19<00:00,  5.09it/s, batch_loss=0.0172, running_loss=1.73]\n"
     ]
    },
    {
     "name": "stdout",
     "output_type": "stream",
     "text": [
      "Train Loss: 1.7268 | Valid Loss: 9.1000 ===========> 9.0319 | Test Loss: 10.8726 | Saving model...\n"
     ]
    },
    {
     "name": "stderr",
     "output_type": "stream",
     "text": [
      "Epoch [86/200]: 100%|██████████| 101/101 [00:19<00:00,  5.07it/s, batch_loss=0.0395, running_loss=1.71]\n"
     ]
    },
    {
     "name": "stdout",
     "output_type": "stream",
     "text": [
      "Train Loss: 1.7139 | Valid Loss: 9.0844\n"
     ]
    },
    {
     "name": "stderr",
     "output_type": "stream",
     "text": [
      "Epoch [87/200]: 100%|██████████| 101/101 [00:19<00:00,  5.08it/s, batch_loss=0.0209, running_loss=1.66]\n"
     ]
    },
    {
     "name": "stdout",
     "output_type": "stream",
     "text": [
      "Train Loss: 1.6567 | Valid Loss: 9.0540\n"
     ]
    },
    {
     "name": "stderr",
     "output_type": "stream",
     "text": [
      "Epoch [88/200]: 100%|██████████| 101/101 [00:19<00:00,  5.07it/s, batch_loss=0.0135, running_loss=1.61]\n"
     ]
    },
    {
     "name": "stdout",
     "output_type": "stream",
     "text": [
      "Train Loss: 1.6095 | Valid Loss: 9.6306\n"
     ]
    },
    {
     "name": "stderr",
     "output_type": "stream",
     "text": [
      "Epoch [89/200]: 100%|██████████| 101/101 [00:19<00:00,  5.06it/s, batch_loss=0.0137, running_loss=1.54]\n"
     ]
    },
    {
     "name": "stdout",
     "output_type": "stream",
     "text": [
      "Train Loss: 1.5436 | Valid Loss: 9.2086\n"
     ]
    },
    {
     "name": "stderr",
     "output_type": "stream",
     "text": [
      "Epoch [90/200]: 100%|██████████| 101/101 [00:19<00:00,  5.07it/s, batch_loss=0.0459, running_loss=1.51]\n"
     ]
    },
    {
     "name": "stdout",
     "output_type": "stream",
     "text": [
      "Train Loss: 1.5147 | Valid Loss: 9.4894\n"
     ]
    },
    {
     "name": "stderr",
     "output_type": "stream",
     "text": [
      "Epoch [91/200]: 100%|██████████| 101/101 [00:19<00:00,  5.09it/s, batch_loss=0.017, running_loss=1.6]\n"
     ]
    },
    {
     "name": "stdout",
     "output_type": "stream",
     "text": [
      "Train Loss: 1.5991 | Valid Loss: 9.0506\n"
     ]
    },
    {
     "name": "stderr",
     "output_type": "stream",
     "text": [
      "Epoch [92/200]: 100%|██████████| 101/101 [00:19<00:00,  5.08it/s, batch_loss=0.0213, running_loss=1.58]\n"
     ]
    },
    {
     "name": "stdout",
     "output_type": "stream",
     "text": [
      "Train Loss: 1.5752 | Valid Loss: 9.2308\n"
     ]
    },
    {
     "name": "stderr",
     "output_type": "stream",
     "text": [
      "Epoch [93/200]: 100%|██████████| 101/101 [00:19<00:00,  5.07it/s, batch_loss=0.0187, running_loss=1.46]\n"
     ]
    },
    {
     "name": "stdout",
     "output_type": "stream",
     "text": [
      "Train Loss: 1.4576 | Valid Loss: 9.0319 ===========> 8.9534 | Test Loss: 10.8539 | Saving model...\n"
     ]
    },
    {
     "name": "stderr",
     "output_type": "stream",
     "text": [
      "Epoch [94/200]: 100%|██████████| 101/101 [00:19<00:00,  5.09it/s, batch_loss=0.012, running_loss=1.44]\n"
     ]
    },
    {
     "name": "stdout",
     "output_type": "stream",
     "text": [
      "Train Loss: 1.4357 | Valid Loss: 8.9534\n"
     ]
    },
    {
     "name": "stderr",
     "output_type": "stream",
     "text": [
      "Epoch [95/200]: 100%|██████████| 101/101 [00:19<00:00,  5.07it/s, batch_loss=0.0254, running_loss=1.42]\n"
     ]
    },
    {
     "name": "stdout",
     "output_type": "stream",
     "text": [
      "Train Loss: 1.4158 | Valid Loss: 9.5396\n"
     ]
    },
    {
     "name": "stderr",
     "output_type": "stream",
     "text": [
      "Epoch [96/200]: 100%|██████████| 101/101 [00:19<00:00,  5.06it/s, batch_loss=0.0188, running_loss=1.37]\n"
     ]
    },
    {
     "name": "stdout",
     "output_type": "stream",
     "text": [
      "Train Loss: 1.3729 | Valid Loss: 9.0753\n"
     ]
    },
    {
     "name": "stderr",
     "output_type": "stream",
     "text": [
      "Epoch [97/200]: 100%|██████████| 101/101 [00:19<00:00,  5.06it/s, batch_loss=0.019, running_loss=1.35]\n"
     ]
    },
    {
     "name": "stdout",
     "output_type": "stream",
     "text": [
      "Train Loss: 1.3524 | Valid Loss: 9.2037\n"
     ]
    },
    {
     "name": "stderr",
     "output_type": "stream",
     "text": [
      "Epoch [98/200]: 100%|██████████| 101/101 [00:19<00:00,  5.09it/s, batch_loss=0.0136, running_loss=1.33]\n"
     ]
    },
    {
     "name": "stdout",
     "output_type": "stream",
     "text": [
      "Train Loss: 1.3270 | Valid Loss: 8.9534 ===========> 8.9020 | Test Loss: 10.4950 | Saving model...\n"
     ]
    },
    {
     "name": "stderr",
     "output_type": "stream",
     "text": [
      "Epoch [99/200]: 100%|██████████| 101/101 [00:19<00:00,  5.09it/s, batch_loss=0.0224, running_loss=1.33]\n"
     ]
    },
    {
     "name": "stdout",
     "output_type": "stream",
     "text": [
      "Train Loss: 1.3298 | Valid Loss: 9.5674\n"
     ]
    },
    {
     "name": "stderr",
     "output_type": "stream",
     "text": [
      "Epoch [100/200]: 100%|██████████| 101/101 [00:19<00:00,  5.05it/s, batch_loss=0.00933, running_loss=1.25]\n"
     ]
    },
    {
     "name": "stdout",
     "output_type": "stream",
     "text": [
      "Train Loss: 1.2502 | Valid Loss: 9.0370\n"
     ]
    },
    {
     "name": "stderr",
     "output_type": "stream",
     "text": [
      "Epoch [101/200]: 100%|██████████| 101/101 [00:19<00:00,  5.09it/s, batch_loss=0.0107, running_loss=1.35]\n"
     ]
    },
    {
     "name": "stdout",
     "output_type": "stream",
     "text": [
      "Train Loss: 1.3488 | Valid Loss: 9.0772\n"
     ]
    },
    {
     "name": "stderr",
     "output_type": "stream",
     "text": [
      "Epoch [102/200]: 100%|██████████| 101/101 [00:19<00:00,  5.09it/s, batch_loss=0.013, running_loss=1.28]\n"
     ]
    },
    {
     "name": "stdout",
     "output_type": "stream",
     "text": [
      "Train Loss: 1.2766 | Valid Loss: 8.9020 ===========> 8.8252 | Test Loss: 11.3333 | Saving model...\n"
     ]
    },
    {
     "name": "stderr",
     "output_type": "stream",
     "text": [
      "Epoch [103/200]: 100%|██████████| 101/101 [00:19<00:00,  5.08it/s, batch_loss=0.00897, running_loss=1.2]\n"
     ]
    },
    {
     "name": "stdout",
     "output_type": "stream",
     "text": [
      "Train Loss: 1.1967 | Valid Loss: 8.8714\n"
     ]
    },
    {
     "name": "stderr",
     "output_type": "stream",
     "text": [
      "Epoch [104/200]: 100%|██████████| 101/101 [00:19<00:00,  5.08it/s, batch_loss=0.015, running_loss=1.29]\n"
     ]
    },
    {
     "name": "stdout",
     "output_type": "stream",
     "text": [
      "Train Loss: 1.2901 | Valid Loss: 8.9585\n"
     ]
    },
    {
     "name": "stderr",
     "output_type": "stream",
     "text": [
      "Epoch [105/200]: 100%|██████████| 101/101 [00:19<00:00,  5.08it/s, batch_loss=0.00857, running_loss=1.25]\n"
     ]
    },
    {
     "name": "stdout",
     "output_type": "stream",
     "text": [
      "Train Loss: 1.2498 | Valid Loss: 9.0244\n"
     ]
    },
    {
     "name": "stderr",
     "output_type": "stream",
     "text": [
      "Epoch [106/200]: 100%|██████████| 101/101 [00:19<00:00,  5.08it/s, batch_loss=0.0177, running_loss=1.27]\n"
     ]
    },
    {
     "name": "stdout",
     "output_type": "stream",
     "text": [
      "Train Loss: 1.2733 | Valid Loss: 8.9562\n"
     ]
    },
    {
     "name": "stderr",
     "output_type": "stream",
     "text": [
      "Epoch [107/200]: 100%|██████████| 101/101 [00:19<00:00,  5.07it/s, batch_loss=0.0077, running_loss=1.19]\n"
     ]
    },
    {
     "name": "stdout",
     "output_type": "stream",
     "text": [
      "Train Loss: 1.1937 | Valid Loss: 8.9472\n"
     ]
    },
    {
     "name": "stderr",
     "output_type": "stream",
     "text": [
      "Epoch [108/200]: 100%|██████████| 101/101 [00:19<00:00,  5.06it/s, batch_loss=0.01, running_loss=1.15]\n"
     ]
    },
    {
     "name": "stdout",
     "output_type": "stream",
     "text": [
      "Train Loss: 1.1498 | Valid Loss: 8.8955\n"
     ]
    },
    {
     "name": "stderr",
     "output_type": "stream",
     "text": [
      "Epoch [109/200]: 100%|██████████| 101/101 [00:19<00:00,  5.06it/s, batch_loss=0.0082, running_loss=1.17]\n"
     ]
    },
    {
     "name": "stdout",
     "output_type": "stream",
     "text": [
      "Train Loss: 1.1680 | Valid Loss: 8.8252 ===========> 8.7215 | Test Loss: 10.7578 | Saving model...\n"
     ]
    },
    {
     "name": "stderr",
     "output_type": "stream",
     "text": [
      "Epoch [110/200]: 100%|██████████| 101/101 [00:19<00:00,  5.08it/s, batch_loss=0.00842, running_loss=1.2]\n"
     ]
    },
    {
     "name": "stdout",
     "output_type": "stream",
     "text": [
      "Train Loss: 1.1964 | Valid Loss: 8.9276\n"
     ]
    },
    {
     "name": "stderr",
     "output_type": "stream",
     "text": [
      "Epoch [111/200]: 100%|██████████| 101/101 [00:20<00:00,  5.05it/s, batch_loss=0.0131, running_loss=1.16]\n"
     ]
    },
    {
     "name": "stdout",
     "output_type": "stream",
     "text": [
      "Train Loss: 1.1611 | Valid Loss: 8.7215 ===========> 8.7141 | Test Loss: 10.5543 | Saving model...\n"
     ]
    },
    {
     "name": "stderr",
     "output_type": "stream",
     "text": [
      "Epoch [112/200]: 100%|██████████| 101/101 [00:19<00:00,  5.07it/s, batch_loss=0.00877, running_loss=1.09]\n"
     ]
    },
    {
     "name": "stdout",
     "output_type": "stream",
     "text": [
      "Train Loss: 1.0921 | Valid Loss: 9.1148\n"
     ]
    },
    {
     "name": "stderr",
     "output_type": "stream",
     "text": [
      "Epoch [113/200]: 100%|██████████| 101/101 [00:20<00:00,  5.05it/s, batch_loss=0.00437, running_loss=1.14]\n"
     ]
    },
    {
     "name": "stdout",
     "output_type": "stream",
     "text": [
      "Train Loss: 1.1433 | Valid Loss: 8.8702\n"
     ]
    },
    {
     "name": "stderr",
     "output_type": "stream",
     "text": [
      "Epoch [114/200]: 100%|██████████| 101/101 [00:19<00:00,  5.07it/s, batch_loss=0.00823, running_loss=1.08]\n"
     ]
    },
    {
     "name": "stdout",
     "output_type": "stream",
     "text": [
      "Train Loss: 1.0798 | Valid Loss: 8.8422\n"
     ]
    },
    {
     "name": "stderr",
     "output_type": "stream",
     "text": [
      "Epoch [115/200]: 100%|██████████| 101/101 [00:19<00:00,  5.07it/s, batch_loss=0.00702, running_loss=1.1]\n"
     ]
    },
    {
     "name": "stdout",
     "output_type": "stream",
     "text": [
      "Train Loss: 1.0980 | Valid Loss: 8.9237\n"
     ]
    },
    {
     "name": "stderr",
     "output_type": "stream",
     "text": [
      "Epoch [116/200]: 100%|██████████| 101/101 [00:19<00:00,  5.09it/s, batch_loss=0.0122, running_loss=1.13]\n"
     ]
    },
    {
     "name": "stdout",
     "output_type": "stream",
     "text": [
      "Train Loss: 1.1250 | Valid Loss: 9.0623\n"
     ]
    },
    {
     "name": "stderr",
     "output_type": "stream",
     "text": [
      "Epoch [117/200]: 100%|██████████| 101/101 [00:19<00:00,  5.06it/s, batch_loss=0.00814, running_loss=1.12]\n"
     ]
    },
    {
     "name": "stdout",
     "output_type": "stream",
     "text": [
      "Train Loss: 1.1208 | Valid Loss: 8.8137\n"
     ]
    },
    {
     "name": "stderr",
     "output_type": "stream",
     "text": [
      "Epoch [118/200]: 100%|██████████| 101/101 [00:19<00:00,  5.08it/s, batch_loss=0.011, running_loss=1.13]\n"
     ]
    },
    {
     "name": "stdout",
     "output_type": "stream",
     "text": [
      "Train Loss: 1.1329 | Valid Loss: 8.8608\n"
     ]
    },
    {
     "name": "stderr",
     "output_type": "stream",
     "text": [
      "Epoch [119/200]: 100%|██████████| 101/101 [00:19<00:00,  5.08it/s, batch_loss=0.0142, running_loss=1.07]\n"
     ]
    },
    {
     "name": "stdout",
     "output_type": "stream",
     "text": [
      "Train Loss: 1.0745 | Valid Loss: 8.9944\n"
     ]
    },
    {
     "name": "stderr",
     "output_type": "stream",
     "text": [
      "Epoch [120/200]: 100%|██████████| 101/101 [00:19<00:00,  5.11it/s, batch_loss=0.00628, running_loss=1.05]\n"
     ]
    },
    {
     "name": "stdout",
     "output_type": "stream",
     "text": [
      "Train Loss: 1.0488 | Valid Loss: 9.4618\n"
     ]
    },
    {
     "name": "stderr",
     "output_type": "stream",
     "text": [
      "Epoch [121/200]: 100%|██████████| 101/101 [00:19<00:00,  5.14it/s, batch_loss=0.0103, running_loss=1.05]\n"
     ]
    },
    {
     "name": "stdout",
     "output_type": "stream",
     "text": [
      "Train Loss: 1.0519 | Valid Loss: 8.8020\n"
     ]
    },
    {
     "name": "stderr",
     "output_type": "stream",
     "text": [
      "Epoch [122/200]: 100%|██████████| 101/101 [00:19<00:00,  5.11it/s, batch_loss=0.0105, running_loss=1.09]\n"
     ]
    },
    {
     "name": "stdout",
     "output_type": "stream",
     "text": [
      "Train Loss: 1.0908 | Valid Loss: 9.0046\n"
     ]
    },
    {
     "name": "stderr",
     "output_type": "stream",
     "text": [
      "Epoch [123/200]: 100%|██████████| 101/101 [00:19<00:00,  5.15it/s, batch_loss=0.00592, running_loss=0.991]\n"
     ]
    },
    {
     "name": "stdout",
     "output_type": "stream",
     "text": [
      "Train Loss: 0.9907 | Valid Loss: 9.3887\n"
     ]
    },
    {
     "name": "stderr",
     "output_type": "stream",
     "text": [
      "Epoch [124/200]: 100%|██████████| 101/101 [00:19<00:00,  5.09it/s, batch_loss=0.0087, running_loss=1]\n"
     ]
    },
    {
     "name": "stdout",
     "output_type": "stream",
     "text": [
      "Train Loss: 1.0026 | Valid Loss: 8.8184\n"
     ]
    },
    {
     "name": "stderr",
     "output_type": "stream",
     "text": [
      "Epoch [125/200]: 100%|██████████| 101/101 [00:19<00:00,  5.11it/s, batch_loss=0.0115, running_loss=0.994]\n"
     ]
    },
    {
     "name": "stdout",
     "output_type": "stream",
     "text": [
      "Train Loss: 0.9937 | Valid Loss: 8.7195\n"
     ]
    },
    {
     "name": "stderr",
     "output_type": "stream",
     "text": [
      "Epoch [126/200]: 100%|██████████| 101/101 [00:19<00:00,  5.13it/s, batch_loss=0.00908, running_loss=0.993]\n"
     ]
    },
    {
     "name": "stdout",
     "output_type": "stream",
     "text": [
      "Train Loss: 0.9929 | Valid Loss: 9.0247\n"
     ]
    },
    {
     "name": "stderr",
     "output_type": "stream",
     "text": [
      "Epoch [127/200]: 100%|██████████| 101/101 [00:19<00:00,  5.13it/s, batch_loss=0.00889, running_loss=0.989]\n"
     ]
    },
    {
     "name": "stdout",
     "output_type": "stream",
     "text": [
      "Train Loss: 0.9893 | Valid Loss: 8.8606\n"
     ]
    },
    {
     "name": "stderr",
     "output_type": "stream",
     "text": [
      "Epoch [128/200]: 100%|██████████| 101/101 [00:19<00:00,  5.11it/s, batch_loss=0.00717, running_loss=1.02]\n"
     ]
    },
    {
     "name": "stdout",
     "output_type": "stream",
     "text": [
      "Train Loss: 1.0192 | Valid Loss: 8.8420\n"
     ]
    },
    {
     "name": "stderr",
     "output_type": "stream",
     "text": [
      "Epoch [129/200]: 100%|██████████| 101/101 [00:19<00:00,  5.13it/s, batch_loss=0.0138, running_loss=0.987]\n"
     ]
    },
    {
     "name": "stdout",
     "output_type": "stream",
     "text": [
      "Train Loss: 0.9871 | Valid Loss: 8.8334\n"
     ]
    },
    {
     "name": "stderr",
     "output_type": "stream",
     "text": [
      "Epoch [130/200]: 100%|██████████| 101/101 [00:19<00:00,  5.13it/s, batch_loss=0.0111, running_loss=0.974]\n"
     ]
    },
    {
     "name": "stdout",
     "output_type": "stream",
     "text": [
      "Train Loss: 0.9738 | Valid Loss: 8.7769\n"
     ]
    },
    {
     "name": "stderr",
     "output_type": "stream",
     "text": [
      "Epoch [131/200]: 100%|██████████| 101/101 [00:19<00:00,  5.12it/s, batch_loss=0.0104, running_loss=0.957]\n"
     ]
    },
    {
     "name": "stdout",
     "output_type": "stream",
     "text": [
      "Train Loss: 0.9571 | Valid Loss: 8.9184\n"
     ]
    },
    {
     "name": "stderr",
     "output_type": "stream",
     "text": [
      "Epoch [132/200]: 100%|██████████| 101/101 [00:19<00:00,  5.12it/s, batch_loss=0.0203, running_loss=0.998]\n"
     ]
    },
    {
     "name": "stdout",
     "output_type": "stream",
     "text": [
      "Train Loss: 0.9984 | Valid Loss: 8.7357\n"
     ]
    },
    {
     "name": "stderr",
     "output_type": "stream",
     "text": [
      "Epoch [133/200]: 100%|██████████| 101/101 [00:19<00:00,  5.11it/s, batch_loss=0.0152, running_loss=0.985]\n"
     ]
    },
    {
     "name": "stdout",
     "output_type": "stream",
     "text": [
      "Train Loss: 0.9848 | Valid Loss: 8.7532\n"
     ]
    },
    {
     "name": "stderr",
     "output_type": "stream",
     "text": [
      "Epoch [134/200]: 100%|██████████| 101/101 [00:19<00:00,  5.11it/s, batch_loss=0.00919, running_loss=0.928]\n"
     ]
    },
    {
     "name": "stdout",
     "output_type": "stream",
     "text": [
      "Train Loss: 0.9276 | Valid Loss: 8.7141 ===========> 8.6809 | Test Loss: 10.4713 | Saving model...\n"
     ]
    },
    {
     "name": "stderr",
     "output_type": "stream",
     "text": [
      "Epoch [135/200]: 100%|██████████| 101/101 [00:19<00:00,  5.12it/s, batch_loss=0.00876, running_loss=0.98]\n"
     ]
    },
    {
     "name": "stdout",
     "output_type": "stream",
     "text": [
      "Train Loss: 0.9800 | Valid Loss: 8.7684\n"
     ]
    },
    {
     "name": "stderr",
     "output_type": "stream",
     "text": [
      "Epoch [136/200]: 100%|██████████| 101/101 [00:19<00:00,  5.14it/s, batch_loss=0.00677, running_loss=0.977]\n"
     ]
    },
    {
     "name": "stdout",
     "output_type": "stream",
     "text": [
      "Train Loss: 0.9768 | Valid Loss: 8.6809 ===========> 8.6549 | Test Loss: 10.6571 | Saving model...\n"
     ]
    },
    {
     "name": "stderr",
     "output_type": "stream",
     "text": [
      "Epoch [137/200]: 100%|██████████| 101/101 [00:19<00:00,  5.13it/s, batch_loss=0.00481, running_loss=0.937]\n"
     ]
    },
    {
     "name": "stdout",
     "output_type": "stream",
     "text": [
      "Train Loss: 0.9366 | Valid Loss: 8.7717\n"
     ]
    },
    {
     "name": "stderr",
     "output_type": "stream",
     "text": [
      "Epoch [138/200]: 100%|██████████| 101/101 [00:19<00:00,  5.13it/s, batch_loss=0.0093, running_loss=0.887]\n"
     ]
    },
    {
     "name": "stdout",
     "output_type": "stream",
     "text": [
      "Train Loss: 0.8867 | Valid Loss: 8.9803\n"
     ]
    },
    {
     "name": "stderr",
     "output_type": "stream",
     "text": [
      "Epoch [139/200]: 100%|██████████| 101/101 [00:19<00:00,  5.13it/s, batch_loss=0.0161, running_loss=0.921]\n"
     ]
    },
    {
     "name": "stdout",
     "output_type": "stream",
     "text": [
      "Train Loss: 0.9214 | Valid Loss: 8.9252\n"
     ]
    },
    {
     "name": "stderr",
     "output_type": "stream",
     "text": [
      "Epoch [140/200]: 100%|██████████| 101/101 [00:19<00:00,  5.12it/s, batch_loss=0.00819, running_loss=0.898]\n"
     ]
    },
    {
     "name": "stdout",
     "output_type": "stream",
     "text": [
      "Train Loss: 0.8979 | Valid Loss: 8.8417\n"
     ]
    },
    {
     "name": "stderr",
     "output_type": "stream",
     "text": [
      "Epoch [141/200]: 100%|██████████| 101/101 [00:19<00:00,  5.07it/s, batch_loss=0.0065, running_loss=0.866]\n"
     ]
    },
    {
     "name": "stdout",
     "output_type": "stream",
     "text": [
      "Train Loss: 0.8661 | Valid Loss: 8.6549 ===========> 8.6541 | Test Loss: 10.5139 | Saving model...\n"
     ]
    },
    {
     "name": "stderr",
     "output_type": "stream",
     "text": [
      "Epoch [142/200]: 100%|██████████| 101/101 [00:19<00:00,  5.13it/s, batch_loss=0.0183, running_loss=0.925]\n"
     ]
    },
    {
     "name": "stdout",
     "output_type": "stream",
     "text": [
      "Train Loss: 0.9248 | Valid Loss: 8.8405\n"
     ]
    },
    {
     "name": "stderr",
     "output_type": "stream",
     "text": [
      "Epoch [143/200]: 100%|██████████| 101/101 [00:19<00:00,  5.12it/s, batch_loss=0.0171, running_loss=0.904]\n"
     ]
    },
    {
     "name": "stdout",
     "output_type": "stream",
     "text": [
      "Train Loss: 0.9038 | Valid Loss: 8.7309\n"
     ]
    },
    {
     "name": "stderr",
     "output_type": "stream",
     "text": [
      "Epoch [144/200]: 100%|██████████| 101/101 [00:19<00:00,  5.12it/s, batch_loss=0.00377, running_loss=0.862]\n"
     ]
    },
    {
     "name": "stdout",
     "output_type": "stream",
     "text": [
      "Train Loss: 0.8622 | Valid Loss: 8.8738\n"
     ]
    },
    {
     "name": "stderr",
     "output_type": "stream",
     "text": [
      "Epoch [145/200]: 100%|██████████| 101/101 [00:19<00:00,  5.12it/s, batch_loss=0.0118, running_loss=0.886]\n"
     ]
    },
    {
     "name": "stdout",
     "output_type": "stream",
     "text": [
      "Train Loss: 0.8863 | Valid Loss: 8.8164\n"
     ]
    },
    {
     "name": "stderr",
     "output_type": "stream",
     "text": [
      "Epoch [146/200]: 100%|██████████| 101/101 [00:19<00:00,  5.11it/s, batch_loss=0.00716, running_loss=0.862]\n"
     ]
    },
    {
     "name": "stdout",
     "output_type": "stream",
     "text": [
      "Train Loss: 0.8616 | Valid Loss: 8.7310\n"
     ]
    },
    {
     "name": "stderr",
     "output_type": "stream",
     "text": [
      "Epoch [147/200]: 100%|██████████| 101/101 [00:19<00:00,  5.13it/s, batch_loss=0.00913, running_loss=0.874]\n"
     ]
    },
    {
     "name": "stdout",
     "output_type": "stream",
     "text": [
      "Train Loss: 0.8738 | Valid Loss: 8.7142\n"
     ]
    },
    {
     "name": "stderr",
     "output_type": "stream",
     "text": [
      "Epoch [148/200]: 100%|██████████| 101/101 [00:19<00:00,  5.11it/s, batch_loss=0.00662, running_loss=0.829]\n"
     ]
    },
    {
     "name": "stdout",
     "output_type": "stream",
     "text": [
      "Train Loss: 0.8292 | Valid Loss: 8.7808\n"
     ]
    },
    {
     "name": "stderr",
     "output_type": "stream",
     "text": [
      "Epoch [149/200]: 100%|██████████| 101/101 [00:19<00:00,  5.12it/s, batch_loss=0.0128, running_loss=0.852]\n"
     ]
    },
    {
     "name": "stdout",
     "output_type": "stream",
     "text": [
      "Train Loss: 0.8522 | Valid Loss: 8.9520\n"
     ]
    },
    {
     "name": "stderr",
     "output_type": "stream",
     "text": [
      "Epoch [150/200]: 100%|██████████| 101/101 [00:19<00:00,  5.12it/s, batch_loss=0.00647, running_loss=0.844]\n"
     ]
    },
    {
     "name": "stdout",
     "output_type": "stream",
     "text": [
      "Train Loss: 0.8440 | Valid Loss: 8.6541 ===========> 8.5377 | Test Loss: 10.4772 | Saving model...\n"
     ]
    },
    {
     "name": "stderr",
     "output_type": "stream",
     "text": [
      "Epoch [151/200]: 100%|██████████| 101/101 [00:19<00:00,  5.12it/s, batch_loss=0.00569, running_loss=0.775]\n"
     ]
    },
    {
     "name": "stdout",
     "output_type": "stream",
     "text": [
      "Train Loss: 0.7750 | Valid Loss: 8.6360\n"
     ]
    },
    {
     "name": "stderr",
     "output_type": "stream",
     "text": [
      "Epoch [152/200]: 100%|██████████| 101/101 [00:19<00:00,  5.12it/s, batch_loss=0.00858, running_loss=0.771]\n"
     ]
    },
    {
     "name": "stdout",
     "output_type": "stream",
     "text": [
      "Train Loss: 0.7707 | Valid Loss: 8.7621\n"
     ]
    },
    {
     "name": "stderr",
     "output_type": "stream",
     "text": [
      "Epoch [153/200]: 100%|██████████| 101/101 [00:19<00:00,  5.13it/s, batch_loss=0.00631, running_loss=0.754]\n"
     ]
    },
    {
     "name": "stdout",
     "output_type": "stream",
     "text": [
      "Train Loss: 0.7541 | Valid Loss: 8.9993\n"
     ]
    },
    {
     "name": "stderr",
     "output_type": "stream",
     "text": [
      "Epoch [154/200]: 100%|██████████| 101/101 [00:19<00:00,  5.12it/s, batch_loss=0.00764, running_loss=0.745]\n"
     ]
    },
    {
     "name": "stdout",
     "output_type": "stream",
     "text": [
      "Train Loss: 0.7452 | Valid Loss: 8.6364\n"
     ]
    },
    {
     "name": "stderr",
     "output_type": "stream",
     "text": [
      "Epoch [155/200]: 100%|██████████| 101/101 [00:19<00:00,  5.10it/s, batch_loss=0.012, running_loss=0.74]\n"
     ]
    },
    {
     "name": "stdout",
     "output_type": "stream",
     "text": [
      "Train Loss: 0.7401 | Valid Loss: 8.6225\n"
     ]
    },
    {
     "name": "stderr",
     "output_type": "stream",
     "text": [
      "Epoch [156/200]: 100%|██████████| 101/101 [00:19<00:00,  5.12it/s, batch_loss=0.0086, running_loss=0.715]\n"
     ]
    },
    {
     "name": "stdout",
     "output_type": "stream",
     "text": [
      "Train Loss: 0.7154 | Valid Loss: 8.7558\n"
     ]
    },
    {
     "name": "stderr",
     "output_type": "stream",
     "text": [
      "Epoch [157/200]: 100%|██████████| 101/101 [00:19<00:00,  5.11it/s, batch_loss=0.00672, running_loss=0.745]\n"
     ]
    },
    {
     "name": "stdout",
     "output_type": "stream",
     "text": [
      "Train Loss: 0.7448 | Valid Loss: 8.7728\n"
     ]
    },
    {
     "name": "stderr",
     "output_type": "stream",
     "text": [
      "Epoch [158/200]: 100%|██████████| 101/101 [00:19<00:00,  5.13it/s, batch_loss=0.00636, running_loss=0.703]\n"
     ]
    },
    {
     "name": "stdout",
     "output_type": "stream",
     "text": [
      "Train Loss: 0.7032 | Valid Loss: 8.6669\n"
     ]
    },
    {
     "name": "stderr",
     "output_type": "stream",
     "text": [
      "Epoch [159/200]: 100%|██████████| 101/101 [00:19<00:00,  5.11it/s, batch_loss=0.00638, running_loss=0.723]\n"
     ]
    },
    {
     "name": "stdout",
     "output_type": "stream",
     "text": [
      "Train Loss: 0.7232 | Valid Loss: 8.6803\n"
     ]
    },
    {
     "name": "stderr",
     "output_type": "stream",
     "text": [
      "Epoch [160/200]: 100%|██████████| 101/101 [00:19<00:00,  5.11it/s, batch_loss=0.00591, running_loss=0.723]\n"
     ]
    },
    {
     "name": "stdout",
     "output_type": "stream",
     "text": [
      "Train Loss: 0.7231 | Valid Loss: 8.6871\n"
     ]
    },
    {
     "name": "stderr",
     "output_type": "stream",
     "text": [
      "Epoch [161/200]: 100%|██████████| 101/101 [00:19<00:00,  5.13it/s, batch_loss=0.00626, running_loss=0.689]\n"
     ]
    },
    {
     "name": "stdout",
     "output_type": "stream",
     "text": [
      "Train Loss: 0.6887 | Valid Loss: 8.7183\n"
     ]
    },
    {
     "name": "stderr",
     "output_type": "stream",
     "text": [
      "Epoch [162/200]: 100%|██████████| 101/101 [00:19<00:00,  5.12it/s, batch_loss=0.014, running_loss=0.712]\n"
     ]
    },
    {
     "name": "stdout",
     "output_type": "stream",
     "text": [
      "Train Loss: 0.7117 | Valid Loss: 8.7247\n"
     ]
    },
    {
     "name": "stderr",
     "output_type": "stream",
     "text": [
      "Epoch [163/200]: 100%|██████████| 101/101 [00:19<00:00,  5.10it/s, batch_loss=0.00807, running_loss=0.722]\n"
     ]
    },
    {
     "name": "stdout",
     "output_type": "stream",
     "text": [
      "Train Loss: 0.7217 | Valid Loss: 8.9476\n"
     ]
    },
    {
     "name": "stderr",
     "output_type": "stream",
     "text": [
      "Epoch [164/200]: 100%|██████████| 101/101 [00:19<00:00,  5.12it/s, batch_loss=0.00727, running_loss=0.692]\n"
     ]
    },
    {
     "name": "stdout",
     "output_type": "stream",
     "text": [
      "Train Loss: 0.6922 | Valid Loss: 8.6422\n"
     ]
    },
    {
     "name": "stderr",
     "output_type": "stream",
     "text": [
      "Epoch [165/200]: 100%|██████████| 101/101 [00:19<00:00,  5.12it/s, batch_loss=0.00467, running_loss=0.689]\n"
     ]
    },
    {
     "name": "stdout",
     "output_type": "stream",
     "text": [
      "Train Loss: 0.6892 | Valid Loss: 8.6930\n"
     ]
    },
    {
     "name": "stderr",
     "output_type": "stream",
     "text": [
      "Epoch [166/200]: 100%|██████████| 101/101 [00:19<00:00,  5.12it/s, batch_loss=0.00814, running_loss=0.722]\n"
     ]
    },
    {
     "name": "stdout",
     "output_type": "stream",
     "text": [
      "Train Loss: 0.7220 | Valid Loss: 8.8394\n"
     ]
    },
    {
     "name": "stderr",
     "output_type": "stream",
     "text": [
      "Epoch [167/200]: 100%|██████████| 101/101 [00:19<00:00,  5.13it/s, batch_loss=0.00668, running_loss=0.712]\n"
     ]
    },
    {
     "name": "stdout",
     "output_type": "stream",
     "text": [
      "Train Loss: 0.7119 | Valid Loss: 8.7505\n"
     ]
    },
    {
     "name": "stderr",
     "output_type": "stream",
     "text": [
      "Epoch [168/200]: 100%|██████████| 101/101 [00:19<00:00,  5.10it/s, batch_loss=0.00916, running_loss=0.676]\n"
     ]
    },
    {
     "name": "stdout",
     "output_type": "stream",
     "text": [
      "Train Loss: 0.6762 | Valid Loss: 8.6067\n"
     ]
    },
    {
     "name": "stderr",
     "output_type": "stream",
     "text": [
      "Epoch [169/200]: 100%|██████████| 101/101 [00:19<00:00,  5.11it/s, batch_loss=0.0148, running_loss=0.702]\n"
     ]
    },
    {
     "name": "stdout",
     "output_type": "stream",
     "text": [
      "Train Loss: 0.7016 | Valid Loss: 8.9318\n"
     ]
    },
    {
     "name": "stderr",
     "output_type": "stream",
     "text": [
      "Epoch [170/200]: 100%|██████████| 101/101 [00:19<00:00,  5.10it/s, batch_loss=0.00751, running_loss=0.699]\n"
     ]
    },
    {
     "name": "stdout",
     "output_type": "stream",
     "text": [
      "Train Loss: 0.6993 | Valid Loss: 8.6815\n"
     ]
    },
    {
     "name": "stderr",
     "output_type": "stream",
     "text": [
      "Epoch [171/200]: 100%|██████████| 101/101 [00:19<00:00,  5.12it/s, batch_loss=0.00416, running_loss=0.69]\n"
     ]
    },
    {
     "name": "stdout",
     "output_type": "stream",
     "text": [
      "Train Loss: 0.6901 | Valid Loss: 9.1875\n"
     ]
    },
    {
     "name": "stderr",
     "output_type": "stream",
     "text": [
      "Epoch [172/200]: 100%|██████████| 101/101 [00:19<00:00,  5.13it/s, batch_loss=0.0045, running_loss=0.703]\n"
     ]
    },
    {
     "name": "stdout",
     "output_type": "stream",
     "text": [
      "Train Loss: 0.7033 | Valid Loss: 8.8841\n"
     ]
    },
    {
     "name": "stderr",
     "output_type": "stream",
     "text": [
      "Epoch [173/200]: 100%|██████████| 101/101 [00:19<00:00,  5.11it/s, batch_loss=0.00516, running_loss=0.685]\n"
     ]
    },
    {
     "name": "stdout",
     "output_type": "stream",
     "text": [
      "Train Loss: 0.6846 | Valid Loss: 8.6648\n"
     ]
    },
    {
     "name": "stderr",
     "output_type": "stream",
     "text": [
      "Epoch [174/200]: 100%|██████████| 101/101 [00:19<00:00,  5.14it/s, batch_loss=0.00554, running_loss=0.693]\n"
     ]
    },
    {
     "name": "stdout",
     "output_type": "stream",
     "text": [
      "Train Loss: 0.6934 | Valid Loss: 8.7366\n"
     ]
    },
    {
     "name": "stderr",
     "output_type": "stream",
     "text": [
      "Epoch [175/200]: 100%|██████████| 101/101 [00:19<00:00,  5.12it/s, batch_loss=0.00879, running_loss=0.669]\n"
     ]
    },
    {
     "name": "stdout",
     "output_type": "stream",
     "text": [
      "Train Loss: 0.6692 | Valid Loss: 8.6426\n"
     ]
    },
    {
     "name": "stderr",
     "output_type": "stream",
     "text": [
      "Epoch [176/200]: 100%|██████████| 101/101 [00:19<00:00,  5.12it/s, batch_loss=0.0119, running_loss=0.677]\n"
     ]
    },
    {
     "name": "stdout",
     "output_type": "stream",
     "text": [
      "Train Loss: 0.6771 | Valid Loss: 9.1438\n"
     ]
    },
    {
     "name": "stderr",
     "output_type": "stream",
     "text": [
      "Epoch [177/200]: 100%|██████████| 101/101 [00:19<00:00,  5.13it/s, batch_loss=0.00619, running_loss=0.683]\n"
     ]
    },
    {
     "name": "stdout",
     "output_type": "stream",
     "text": [
      "Train Loss: 0.6827 | Valid Loss: 8.6706\n"
     ]
    },
    {
     "name": "stderr",
     "output_type": "stream",
     "text": [
      "Epoch [178/200]: 100%|██████████| 101/101 [00:19<00:00,  5.14it/s, batch_loss=0.00579, running_loss=0.675]\n"
     ]
    },
    {
     "name": "stdout",
     "output_type": "stream",
     "text": [
      "Train Loss: 0.6748 | Valid Loss: 8.6501\n"
     ]
    },
    {
     "name": "stderr",
     "output_type": "stream",
     "text": [
      "Epoch [179/200]: 100%|██████████| 101/101 [00:19<00:00,  5.13it/s, batch_loss=0.00743, running_loss=0.694]\n"
     ]
    },
    {
     "name": "stdout",
     "output_type": "stream",
     "text": [
      "Train Loss: 0.6940 | Valid Loss: 8.7125\n"
     ]
    },
    {
     "name": "stderr",
     "output_type": "stream",
     "text": [
      "Epoch [180/200]: 100%|██████████| 101/101 [00:19<00:00,  5.13it/s, batch_loss=0.00504, running_loss=0.685]\n"
     ]
    },
    {
     "name": "stdout",
     "output_type": "stream",
     "text": [
      "Train Loss: 0.6852 | Valid Loss: 8.6519\n"
     ]
    },
    {
     "name": "stderr",
     "output_type": "stream",
     "text": [
      "Epoch [181/200]: 100%|██████████| 101/101 [00:19<00:00,  5.12it/s, batch_loss=0.0048, running_loss=0.664]\n"
     ]
    },
    {
     "name": "stdout",
     "output_type": "stream",
     "text": [
      "Train Loss: 0.6635 | Valid Loss: 8.7720\n"
     ]
    },
    {
     "name": "stderr",
     "output_type": "stream",
     "text": [
      "Epoch [182/200]: 100%|██████████| 101/101 [00:19<00:00,  5.10it/s, batch_loss=0.0129, running_loss=0.664]\n"
     ]
    },
    {
     "name": "stdout",
     "output_type": "stream",
     "text": [
      "Train Loss: 0.6636 | Valid Loss: 8.7331\n"
     ]
    },
    {
     "name": "stderr",
     "output_type": "stream",
     "text": [
      "Epoch [183/200]: 100%|██████████| 101/101 [00:19<00:00,  5.12it/s, batch_loss=0.00872, running_loss=0.676]\n"
     ]
    },
    {
     "name": "stdout",
     "output_type": "stream",
     "text": [
      "Train Loss: 0.6757 | Valid Loss: 8.6813\n"
     ]
    },
    {
     "name": "stderr",
     "output_type": "stream",
     "text": [
      "Epoch [184/200]: 100%|██████████| 101/101 [00:19<00:00,  5.12it/s, batch_loss=0.0133, running_loss=0.705]\n"
     ]
    },
    {
     "name": "stdout",
     "output_type": "stream",
     "text": [
      "Train Loss: 0.7052 | Valid Loss: 8.6451\n"
     ]
    },
    {
     "name": "stderr",
     "output_type": "stream",
     "text": [
      "Epoch [185/200]: 100%|██████████| 101/101 [00:19<00:00,  5.12it/s, batch_loss=0.0139, running_loss=0.693]\n"
     ]
    },
    {
     "name": "stdout",
     "output_type": "stream",
     "text": [
      "Train Loss: 0.6930 | Valid Loss: 8.7333\n"
     ]
    },
    {
     "name": "stderr",
     "output_type": "stream",
     "text": [
      "Epoch [186/200]: 100%|██████████| 101/101 [00:19<00:00,  5.13it/s, batch_loss=0.00588, running_loss=0.668]\n"
     ]
    },
    {
     "name": "stdout",
     "output_type": "stream",
     "text": [
      "Train Loss: 0.6684 | Valid Loss: 8.6455\n"
     ]
    },
    {
     "name": "stderr",
     "output_type": "stream",
     "text": [
      "Epoch [187/200]: 100%|██████████| 101/101 [00:19<00:00,  5.11it/s, batch_loss=0.0123, running_loss=0.673]\n"
     ]
    },
    {
     "name": "stdout",
     "output_type": "stream",
     "text": [
      "Train Loss: 0.6727 | Valid Loss: 8.6817\n"
     ]
    },
    {
     "name": "stderr",
     "output_type": "stream",
     "text": [
      "Epoch [188/200]: 100%|██████████| 101/101 [00:19<00:00,  5.13it/s, batch_loss=0.00825, running_loss=0.687]\n"
     ]
    },
    {
     "name": "stdout",
     "output_type": "stream",
     "text": [
      "Train Loss: 0.6872 | Valid Loss: 8.9359\n"
     ]
    },
    {
     "name": "stderr",
     "output_type": "stream",
     "text": [
      "Epoch [189/200]: 100%|██████████| 101/101 [00:19<00:00,  5.12it/s, batch_loss=0.00613, running_loss=0.687]\n"
     ]
    },
    {
     "name": "stdout",
     "output_type": "stream",
     "text": [
      "Train Loss: 0.6875 | Valid Loss: 8.6545\n"
     ]
    },
    {
     "name": "stderr",
     "output_type": "stream",
     "text": [
      "Epoch [190/200]: 100%|██████████| 101/101 [00:19<00:00,  5.11it/s, batch_loss=0.00732, running_loss=0.676]\n"
     ]
    },
    {
     "name": "stdout",
     "output_type": "stream",
     "text": [
      "Train Loss: 0.6760 | Valid Loss: 8.7784\n"
     ]
    },
    {
     "name": "stderr",
     "output_type": "stream",
     "text": [
      "Epoch [191/200]: 100%|██████████| 101/101 [00:19<00:00,  5.12it/s, batch_loss=0.0064, running_loss=0.676]\n"
     ]
    },
    {
     "name": "stdout",
     "output_type": "stream",
     "text": [
      "Train Loss: 0.6760 | Valid Loss: 8.6458\n"
     ]
    },
    {
     "name": "stderr",
     "output_type": "stream",
     "text": [
      "Epoch [192/200]: 100%|██████████| 101/101 [00:19<00:00,  5.13it/s, batch_loss=0.00798, running_loss=0.675]\n"
     ]
    },
    {
     "name": "stdout",
     "output_type": "stream",
     "text": [
      "Train Loss: 0.6752 | Valid Loss: 8.6741\n"
     ]
    },
    {
     "name": "stderr",
     "output_type": "stream",
     "text": [
      "Epoch [193/200]: 100%|██████████| 101/101 [00:19<00:00,  5.11it/s, batch_loss=0.00442, running_loss=0.634]\n"
     ]
    },
    {
     "name": "stdout",
     "output_type": "stream",
     "text": [
      "Train Loss: 0.6341 | Valid Loss: 8.6684\n"
     ]
    },
    {
     "name": "stderr",
     "output_type": "stream",
     "text": [
      "Epoch [194/200]: 100%|██████████| 101/101 [00:19<00:00,  5.10it/s, batch_loss=0.00521, running_loss=0.661]\n"
     ]
    },
    {
     "name": "stdout",
     "output_type": "stream",
     "text": [
      "Train Loss: 0.6614 | Valid Loss: 8.6650\n"
     ]
    },
    {
     "name": "stderr",
     "output_type": "stream",
     "text": [
      "Epoch [195/200]: 100%|██████████| 101/101 [00:19<00:00,  5.11it/s, batch_loss=0.0151, running_loss=0.661]\n"
     ]
    },
    {
     "name": "stdout",
     "output_type": "stream",
     "text": [
      "Train Loss: 0.6612 | Valid Loss: 8.7044\n"
     ]
    },
    {
     "name": "stderr",
     "output_type": "stream",
     "text": [
      "Epoch [196/200]: 100%|██████████| 101/101 [00:19<00:00,  5.12it/s, batch_loss=0.00753, running_loss=0.653]\n"
     ]
    },
    {
     "name": "stdout",
     "output_type": "stream",
     "text": [
      "Train Loss: 0.6530 | Valid Loss: 8.6931\n"
     ]
    },
    {
     "name": "stderr",
     "output_type": "stream",
     "text": [
      "Epoch [197/200]: 100%|██████████| 101/101 [00:19<00:00,  5.11it/s, batch_loss=0.00638, running_loss=0.663]\n"
     ]
    },
    {
     "name": "stdout",
     "output_type": "stream",
     "text": [
      "Train Loss: 0.6627 | Valid Loss: 8.8639\n"
     ]
    },
    {
     "name": "stderr",
     "output_type": "stream",
     "text": [
      "Epoch [198/200]: 100%|██████████| 101/101 [00:19<00:00,  5.14it/s, batch_loss=0.00825, running_loss=0.656]\n"
     ]
    },
    {
     "name": "stdout",
     "output_type": "stream",
     "text": [
      "Train Loss: 0.6560 | Valid Loss: 8.7543\n"
     ]
    },
    {
     "name": "stderr",
     "output_type": "stream",
     "text": [
      "Epoch [199/200]: 100%|██████████| 101/101 [00:19<00:00,  5.11it/s, batch_loss=0.0039, running_loss=0.673]\n"
     ]
    },
    {
     "name": "stdout",
     "output_type": "stream",
     "text": [
      "Train Loss: 0.6733 | Valid Loss: 8.6866\n"
     ]
    },
    {
     "name": "stderr",
     "output_type": "stream",
     "text": [
      "Epoch [200/200]: 100%|██████████| 101/101 [00:19<00:00,  5.11it/s, batch_loss=0.00552, running_loss=0.627]\n"
     ]
    },
    {
     "name": "stdout",
     "output_type": "stream",
     "text": [
      "Train Loss: 0.6268 | Valid Loss: 8.6898\n"
     ]
    }
   ],
   "source": [
    "epochs = 200\n",
    "best_loss =float('inf')\n",
    "ep, trainloss, validloss, testloss = [],[],[],[]\n",
    "for epoch in range(1,epochs+1):\n",
    "    model.train()\n",
    "    loop = tqdm(enumerate(train_loader), total=len(train_loader), leave=True)\n",
    "    trloss = 0\n",
    "    for batch_idx, (data, targets, _) in loop:\n",
    "        optimizer.zero_grad() \n",
    "        data = Variable(data).to(device)\n",
    "        targets = Variable(targets.to(torch.float).view(targets.shape[0],-1)).to(device)\n",
    "\n",
    "        #forward pass\n",
    "        scores = model(data)\n",
    "        loss = criterion(scores, targets)\n",
    "        trloss += loss.item()\n",
    "        #backward pass   \n",
    "        loss.backward()\n",
    "\n",
    "        #gradient descent\n",
    "        optimizer.step()\n",
    "        loop.set_description(f\"Epoch [{epoch}/{epochs}]\")\n",
    "        loop.set_postfix(batch_loss = loss.item(), running_loss = trloss )\n",
    "    scheduler.step()\n",
    "\n",
    "    model.eval()\n",
    "    valloss = 0\n",
    "    with torch.no_grad():\n",
    "        for data, targets, _ in valid_loader:\n",
    "            data = Variable(data).to(device)\n",
    "            targets = Variable(targets.to(torch.float).view(targets.shape[0],-1)).to(device)\n",
    "\n",
    "            \n",
    "            scores = model(data)\n",
    "            loss = criterion(scores, targets)\n",
    "\n",
    "            valloss += loss.item()\n",
    "\n",
    "    if valloss < best_loss:\n",
    "        tsloss = 0\n",
    "        with torch.no_grad():\n",
    "            for data, targets, _ in test_loader:\n",
    "                data = Variable(data).to(device)\n",
    "                targets = Variable(targets.to(torch.float).view(targets.shape[0],-1)).to(device)\n",
    "\n",
    "                \n",
    "                scores = model(data)\n",
    "                loss = criterion(scores, targets)\n",
    "\n",
    "                tsloss += loss.item()\n",
    "        to_print = \"Train Loss: {:.4f} | Valid Loss: {:.4f} ===========> {:.4f} | Test Loss: {:.4f} | Saving model...\".format(trloss, best_loss, valloss, tsloss)\n",
    "        best_loss = valloss\n",
    "        best_e = epoch\n",
    "        best_model = copy.deepcopy(model)\n",
    "    else:\n",
    "        to_print = \"Train Loss: {:.4f} | Valid Loss: {:.4f}\".format(trloss, valloss)\n",
    "\n",
    "    print(to_print)\n",
    "    ep+=[epoch]\n",
    "    trainloss += [trloss]\n",
    "    validloss += [valloss]"
   ]
  },
  {
   "cell_type": "code",
   "execution_count": 16,
   "metadata": {},
   "outputs": [
    {
     "data": {
      "image/png": "[encoded data removed]",
      "text/plain": [
       "<Figure size 1200x800 with 1 Axes>"
      ]
     },
     "metadata": {
      "needs_background": "light"
     },
     "output_type": "display_data"
    }
   ],
   "source": [
    "plt.plot(ep,trainloss, label = 'train loss')\n",
    "plt.plot(ep, validloss, label = 'validation loss')\n",
    "plt.legend()\n",
    "plt.show()"
   ]
  },
  {
   "cell_type": "code",
   "execution_count": 17,
   "metadata": {},
   "outputs": [
    {
     "name": "stderr",
     "output_type": "stream",
     "text": [
      "/home/vip/.local/lib/python3.8/site-packages/torch/nn/modules/rnn.py:661: UserWarning: RNN module weights are not part of single contiguous chunk of memory. This means they need to be compacted at every call, possibly greatly increasing memory usage. To compact weights again call flatten_parameters(). (Triggered internally at  /pytorch/aten/src/ATen/native/cudnn/RNN.cpp:915.)\n",
      "  result = _VF.lstm(input, hx, self._flat_weights, self.bias, self.num_layers,\n"
     ]
    },
    {
     "name": "stdout",
     "output_type": "stream",
     "text": [
      "Train Loss: 0.6268 | Valid Loss: 8.6898 | Test Loss on Best Model: 10.3479\n"
     ]
    }
   ],
   "source": [
    "tsloss = 0\n",
    "with torch.no_grad():\n",
    "    for batch_idx, (data, targets, _) in enumerate(test_loader):\n",
    "        data = Variable(data).to(device)\n",
    "        targets = Variable(targets.view(targets.shape[0],-1)).to(device)\n",
    "\n",
    "        \n",
    "        scores = best_model(data)\n",
    "        loss = criterion(scores, targets)\n",
    "\n",
    "        if batch_idx == 0:\n",
    "            true_scores = targets.cpu().numpy()\n",
    "            pred_scores = scores.cpu().numpy()\n",
    "        else:\n",
    "            true_scores = np.append(true_scores, targets.cpu().numpy(), axis = 0)\n",
    "            pred_scores = np.append(pred_scores, scores.cpu().numpy(), axis = 0)\n",
    "\n",
    "\n",
    "        tsloss += loss.item()\n",
    "\n",
    "print(\"Train Loss: {:.4f} | Valid Loss: {:.4f} | Test Loss on Best Model: {:.4f}\".format(trloss, valloss, tsloss))\n"
   ]
  },
  {
   "cell_type": "code",
   "execution_count": null,
   "metadata": {},
   "outputs": [],
   "source": []
  }
 ],
 "metadata": {
  "interpreter": {
   "hash": "df0893f56f349688326838aaeea0de204df53a132722cbd565e54b24a8fec5f6"
  },
  "kernelspec": {
   "display_name": "Python 3.8.12 64-bit",
   "name": "python3"
  },
  "language_info": {
   "codemirror_mode": {
    "name": "ipython",
    "version": 3
   },
   "file_extension": ".py",
   "mimetype": "text/x-python",
   "name": "python",
   "nbconvert_exporter": "python",
   "pygments_lexer": "ipython3",
   "version": "3.8.12"
  },
  "orig_nbformat": 4
 },
 "nbformat": 4,
 "nbformat_minor": 2
}
